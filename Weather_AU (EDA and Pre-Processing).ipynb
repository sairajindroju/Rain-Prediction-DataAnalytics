{
 "cells": [
  {
   "cell_type": "code",
   "execution_count": 1,
   "id": "1a93da73",
   "metadata": {
    "id": "1a93da73"
   },
   "outputs": [],
   "source": [
    "import numpy as np\n",
    "import pandas as pd\n",
    "\n",
    "#Visualisation Libraries\n",
    "import matplotlib as mpl\n",
    "import matplotlib.pyplot as plt\n",
    "import seaborn as sns\n",
    "import warnings\n",
    "import re"
   ]
  },
  {
   "cell_type": "code",
   "execution_count": 2,
   "id": "KB_IRxw8stjf",
   "metadata": {
    "colab": {
     "base_uri": "https://localhost:8080/",
     "height": 73,
     "resources": {
      "http://localhost:8080/nbextensions/google.colab/files.js": {
       "data": "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",
       "headers": [
        [
         "content-type",
         "application/javascript"
        ]
       ],
       "ok": true,
       "status": 200,
       "status_text": ""
      }
     }
    },
    "id": "KB_IRxw8stjf",
    "outputId": "1669fc5e-90e8-4c0d-fda2-b6bb13333ac1"
   },
   "outputs": [],
   "source": [
    "#from google.colab import files\n",
    "#od = files.upload()"
   ]
  },
  {
   "cell_type": "code",
   "execution_count": 3,
   "id": "iAiNQCWJtFT6",
   "metadata": {
    "id": "iAiNQCWJtFT6"
   },
   "outputs": [],
   "source": [
    "#import io\n",
    "#of = pd.read_csv(io.BytesIO(od['weatherAUS.csv']))\n"
   ]
  },
  {
   "cell_type": "code",
   "execution_count": 4,
   "id": "5e7aed54",
   "metadata": {
    "colab": {
     "base_uri": "https://localhost:8080/",
     "height": 661
    },
    "id": "5e7aed54",
    "outputId": "20ca8e68-a46a-43c3-afec-1dfebfeebef1"
   },
   "outputs": [
    {
     "data": {
      "text/html": [
       "<div>\n",
       "<style scoped>\n",
       "    .dataframe tbody tr th:only-of-type {\n",
       "        vertical-align: middle;\n",
       "    }\n",
       "\n",
       "    .dataframe tbody tr th {\n",
       "        vertical-align: top;\n",
       "    }\n",
       "\n",
       "    .dataframe thead th {\n",
       "        text-align: right;\n",
       "    }\n",
       "</style>\n",
       "<table border=\"1\" class=\"dataframe\">\n",
       "  <thead>\n",
       "    <tr style=\"text-align: right;\">\n",
       "      <th></th>\n",
       "      <th>Date</th>\n",
       "      <th>Location</th>\n",
       "      <th>MinTemp</th>\n",
       "      <th>MaxTemp</th>\n",
       "      <th>Rainfall</th>\n",
       "      <th>Evaporation</th>\n",
       "      <th>Sunshine</th>\n",
       "      <th>WindGustDir</th>\n",
       "      <th>WindGustSpeed</th>\n",
       "      <th>WindDir9am</th>\n",
       "      <th>...</th>\n",
       "      <th>Humidity9am</th>\n",
       "      <th>Humidity3pm</th>\n",
       "      <th>Pressure9am</th>\n",
       "      <th>Pressure3pm</th>\n",
       "      <th>Cloud9am</th>\n",
       "      <th>Cloud3pm</th>\n",
       "      <th>Temp9am</th>\n",
       "      <th>Temp3pm</th>\n",
       "      <th>RainToday</th>\n",
       "      <th>RainTomorrow</th>\n",
       "    </tr>\n",
       "  </thead>\n",
       "  <tbody>\n",
       "    <tr>\n",
       "      <th>0</th>\n",
       "      <td>2008-12-01</td>\n",
       "      <td>Albury</td>\n",
       "      <td>13.4</td>\n",
       "      <td>22.9</td>\n",
       "      <td>0.6</td>\n",
       "      <td>NaN</td>\n",
       "      <td>NaN</td>\n",
       "      <td>W</td>\n",
       "      <td>44.0</td>\n",
       "      <td>W</td>\n",
       "      <td>...</td>\n",
       "      <td>71.0</td>\n",
       "      <td>22.0</td>\n",
       "      <td>1007.7</td>\n",
       "      <td>1007.1</td>\n",
       "      <td>8.0</td>\n",
       "      <td>NaN</td>\n",
       "      <td>16.9</td>\n",
       "      <td>21.8</td>\n",
       "      <td>No</td>\n",
       "      <td>No</td>\n",
       "    </tr>\n",
       "    <tr>\n",
       "      <th>1</th>\n",
       "      <td>2008-12-02</td>\n",
       "      <td>Albury</td>\n",
       "      <td>7.4</td>\n",
       "      <td>25.1</td>\n",
       "      <td>0.0</td>\n",
       "      <td>NaN</td>\n",
       "      <td>NaN</td>\n",
       "      <td>WNW</td>\n",
       "      <td>44.0</td>\n",
       "      <td>NNW</td>\n",
       "      <td>...</td>\n",
       "      <td>44.0</td>\n",
       "      <td>25.0</td>\n",
       "      <td>1010.6</td>\n",
       "      <td>1007.8</td>\n",
       "      <td>NaN</td>\n",
       "      <td>NaN</td>\n",
       "      <td>17.2</td>\n",
       "      <td>24.3</td>\n",
       "      <td>No</td>\n",
       "      <td>No</td>\n",
       "    </tr>\n",
       "    <tr>\n",
       "      <th>2</th>\n",
       "      <td>2008-12-03</td>\n",
       "      <td>Albury</td>\n",
       "      <td>12.9</td>\n",
       "      <td>25.7</td>\n",
       "      <td>0.0</td>\n",
       "      <td>NaN</td>\n",
       "      <td>NaN</td>\n",
       "      <td>WSW</td>\n",
       "      <td>46.0</td>\n",
       "      <td>W</td>\n",
       "      <td>...</td>\n",
       "      <td>38.0</td>\n",
       "      <td>30.0</td>\n",
       "      <td>1007.6</td>\n",
       "      <td>1008.7</td>\n",
       "      <td>NaN</td>\n",
       "      <td>2.0</td>\n",
       "      <td>21.0</td>\n",
       "      <td>23.2</td>\n",
       "      <td>No</td>\n",
       "      <td>No</td>\n",
       "    </tr>\n",
       "    <tr>\n",
       "      <th>3</th>\n",
       "      <td>2008-12-04</td>\n",
       "      <td>Albury</td>\n",
       "      <td>9.2</td>\n",
       "      <td>28.0</td>\n",
       "      <td>0.0</td>\n",
       "      <td>NaN</td>\n",
       "      <td>NaN</td>\n",
       "      <td>NE</td>\n",
       "      <td>24.0</td>\n",
       "      <td>SE</td>\n",
       "      <td>...</td>\n",
       "      <td>45.0</td>\n",
       "      <td>16.0</td>\n",
       "      <td>1017.6</td>\n",
       "      <td>1012.8</td>\n",
       "      <td>NaN</td>\n",
       "      <td>NaN</td>\n",
       "      <td>18.1</td>\n",
       "      <td>26.5</td>\n",
       "      <td>No</td>\n",
       "      <td>No</td>\n",
       "    </tr>\n",
       "    <tr>\n",
       "      <th>4</th>\n",
       "      <td>2008-12-05</td>\n",
       "      <td>Albury</td>\n",
       "      <td>17.5</td>\n",
       "      <td>32.3</td>\n",
       "      <td>1.0</td>\n",
       "      <td>NaN</td>\n",
       "      <td>NaN</td>\n",
       "      <td>W</td>\n",
       "      <td>41.0</td>\n",
       "      <td>ENE</td>\n",
       "      <td>...</td>\n",
       "      <td>82.0</td>\n",
       "      <td>33.0</td>\n",
       "      <td>1010.8</td>\n",
       "      <td>1006.0</td>\n",
       "      <td>7.0</td>\n",
       "      <td>8.0</td>\n",
       "      <td>17.8</td>\n",
       "      <td>29.7</td>\n",
       "      <td>No</td>\n",
       "      <td>No</td>\n",
       "    </tr>\n",
       "    <tr>\n",
       "      <th>...</th>\n",
       "      <td>...</td>\n",
       "      <td>...</td>\n",
       "      <td>...</td>\n",
       "      <td>...</td>\n",
       "      <td>...</td>\n",
       "      <td>...</td>\n",
       "      <td>...</td>\n",
       "      <td>...</td>\n",
       "      <td>...</td>\n",
       "      <td>...</td>\n",
       "      <td>...</td>\n",
       "      <td>...</td>\n",
       "      <td>...</td>\n",
       "      <td>...</td>\n",
       "      <td>...</td>\n",
       "      <td>...</td>\n",
       "      <td>...</td>\n",
       "      <td>...</td>\n",
       "      <td>...</td>\n",
       "      <td>...</td>\n",
       "      <td>...</td>\n",
       "    </tr>\n",
       "    <tr>\n",
       "      <th>145455</th>\n",
       "      <td>2017-06-21</td>\n",
       "      <td>Uluru</td>\n",
       "      <td>2.8</td>\n",
       "      <td>23.4</td>\n",
       "      <td>0.0</td>\n",
       "      <td>NaN</td>\n",
       "      <td>NaN</td>\n",
       "      <td>E</td>\n",
       "      <td>31.0</td>\n",
       "      <td>SE</td>\n",
       "      <td>...</td>\n",
       "      <td>51.0</td>\n",
       "      <td>24.0</td>\n",
       "      <td>1024.6</td>\n",
       "      <td>1020.3</td>\n",
       "      <td>NaN</td>\n",
       "      <td>NaN</td>\n",
       "      <td>10.1</td>\n",
       "      <td>22.4</td>\n",
       "      <td>No</td>\n",
       "      <td>No</td>\n",
       "    </tr>\n",
       "    <tr>\n",
       "      <th>145456</th>\n",
       "      <td>2017-06-22</td>\n",
       "      <td>Uluru</td>\n",
       "      <td>3.6</td>\n",
       "      <td>25.3</td>\n",
       "      <td>0.0</td>\n",
       "      <td>NaN</td>\n",
       "      <td>NaN</td>\n",
       "      <td>NNW</td>\n",
       "      <td>22.0</td>\n",
       "      <td>SE</td>\n",
       "      <td>...</td>\n",
       "      <td>56.0</td>\n",
       "      <td>21.0</td>\n",
       "      <td>1023.5</td>\n",
       "      <td>1019.1</td>\n",
       "      <td>NaN</td>\n",
       "      <td>NaN</td>\n",
       "      <td>10.9</td>\n",
       "      <td>24.5</td>\n",
       "      <td>No</td>\n",
       "      <td>No</td>\n",
       "    </tr>\n",
       "    <tr>\n",
       "      <th>145457</th>\n",
       "      <td>2017-06-23</td>\n",
       "      <td>Uluru</td>\n",
       "      <td>5.4</td>\n",
       "      <td>26.9</td>\n",
       "      <td>0.0</td>\n",
       "      <td>NaN</td>\n",
       "      <td>NaN</td>\n",
       "      <td>N</td>\n",
       "      <td>37.0</td>\n",
       "      <td>SE</td>\n",
       "      <td>...</td>\n",
       "      <td>53.0</td>\n",
       "      <td>24.0</td>\n",
       "      <td>1021.0</td>\n",
       "      <td>1016.8</td>\n",
       "      <td>NaN</td>\n",
       "      <td>NaN</td>\n",
       "      <td>12.5</td>\n",
       "      <td>26.1</td>\n",
       "      <td>No</td>\n",
       "      <td>No</td>\n",
       "    </tr>\n",
       "    <tr>\n",
       "      <th>145458</th>\n",
       "      <td>2017-06-24</td>\n",
       "      <td>Uluru</td>\n",
       "      <td>7.8</td>\n",
       "      <td>27.0</td>\n",
       "      <td>0.0</td>\n",
       "      <td>NaN</td>\n",
       "      <td>NaN</td>\n",
       "      <td>SE</td>\n",
       "      <td>28.0</td>\n",
       "      <td>SSE</td>\n",
       "      <td>...</td>\n",
       "      <td>51.0</td>\n",
       "      <td>24.0</td>\n",
       "      <td>1019.4</td>\n",
       "      <td>1016.5</td>\n",
       "      <td>3.0</td>\n",
       "      <td>2.0</td>\n",
       "      <td>15.1</td>\n",
       "      <td>26.0</td>\n",
       "      <td>No</td>\n",
       "      <td>No</td>\n",
       "    </tr>\n",
       "    <tr>\n",
       "      <th>145459</th>\n",
       "      <td>2017-06-25</td>\n",
       "      <td>Uluru</td>\n",
       "      <td>14.9</td>\n",
       "      <td>NaN</td>\n",
       "      <td>0.0</td>\n",
       "      <td>NaN</td>\n",
       "      <td>NaN</td>\n",
       "      <td>NaN</td>\n",
       "      <td>NaN</td>\n",
       "      <td>ESE</td>\n",
       "      <td>...</td>\n",
       "      <td>62.0</td>\n",
       "      <td>36.0</td>\n",
       "      <td>1020.2</td>\n",
       "      <td>1017.9</td>\n",
       "      <td>8.0</td>\n",
       "      <td>8.0</td>\n",
       "      <td>15.0</td>\n",
       "      <td>20.9</td>\n",
       "      <td>No</td>\n",
       "      <td>NaN</td>\n",
       "    </tr>\n",
       "  </tbody>\n",
       "</table>\n",
       "<p>145460 rows × 23 columns</p>\n",
       "</div>"
      ],
      "text/plain": [
       "              Date Location  MinTemp  MaxTemp  Rainfall  Evaporation  \\\n",
       "0       2008-12-01   Albury     13.4     22.9       0.6          NaN   \n",
       "1       2008-12-02   Albury      7.4     25.1       0.0          NaN   \n",
       "2       2008-12-03   Albury     12.9     25.7       0.0          NaN   \n",
       "3       2008-12-04   Albury      9.2     28.0       0.0          NaN   \n",
       "4       2008-12-05   Albury     17.5     32.3       1.0          NaN   \n",
       "...            ...      ...      ...      ...       ...          ...   \n",
       "145455  2017-06-21    Uluru      2.8     23.4       0.0          NaN   \n",
       "145456  2017-06-22    Uluru      3.6     25.3       0.0          NaN   \n",
       "145457  2017-06-23    Uluru      5.4     26.9       0.0          NaN   \n",
       "145458  2017-06-24    Uluru      7.8     27.0       0.0          NaN   \n",
       "145459  2017-06-25    Uluru     14.9      NaN       0.0          NaN   \n",
       "\n",
       "        Sunshine WindGustDir  WindGustSpeed WindDir9am  ... Humidity9am  \\\n",
       "0            NaN           W           44.0          W  ...        71.0   \n",
       "1            NaN         WNW           44.0        NNW  ...        44.0   \n",
       "2            NaN         WSW           46.0          W  ...        38.0   \n",
       "3            NaN          NE           24.0         SE  ...        45.0   \n",
       "4            NaN           W           41.0        ENE  ...        82.0   \n",
       "...          ...         ...            ...        ...  ...         ...   \n",
       "145455       NaN           E           31.0         SE  ...        51.0   \n",
       "145456       NaN         NNW           22.0         SE  ...        56.0   \n",
       "145457       NaN           N           37.0         SE  ...        53.0   \n",
       "145458       NaN          SE           28.0        SSE  ...        51.0   \n",
       "145459       NaN         NaN            NaN        ESE  ...        62.0   \n",
       "\n",
       "        Humidity3pm  Pressure9am  Pressure3pm  Cloud9am  Cloud3pm  Temp9am  \\\n",
       "0              22.0       1007.7       1007.1       8.0       NaN     16.9   \n",
       "1              25.0       1010.6       1007.8       NaN       NaN     17.2   \n",
       "2              30.0       1007.6       1008.7       NaN       2.0     21.0   \n",
       "3              16.0       1017.6       1012.8       NaN       NaN     18.1   \n",
       "4              33.0       1010.8       1006.0       7.0       8.0     17.8   \n",
       "...             ...          ...          ...       ...       ...      ...   \n",
       "145455         24.0       1024.6       1020.3       NaN       NaN     10.1   \n",
       "145456         21.0       1023.5       1019.1       NaN       NaN     10.9   \n",
       "145457         24.0       1021.0       1016.8       NaN       NaN     12.5   \n",
       "145458         24.0       1019.4       1016.5       3.0       2.0     15.1   \n",
       "145459         36.0       1020.2       1017.9       8.0       8.0     15.0   \n",
       "\n",
       "        Temp3pm  RainToday  RainTomorrow  \n",
       "0          21.8         No            No  \n",
       "1          24.3         No            No  \n",
       "2          23.2         No            No  \n",
       "3          26.5         No            No  \n",
       "4          29.7         No            No  \n",
       "...         ...        ...           ...  \n",
       "145455     22.4         No            No  \n",
       "145456     24.5         No            No  \n",
       "145457     26.1         No            No  \n",
       "145458     26.0         No            No  \n",
       "145459     20.9         No           NaN  \n",
       "\n",
       "[145460 rows x 23 columns]"
      ]
     },
     "execution_count": 4,
     "metadata": {},
     "output_type": "execute_result"
    }
   ],
   "source": [
    "#Read dataset\n",
    "\n",
    "df = pd.read_csv(\"weatherAUS.csv\")\n",
    "df"
   ]
  },
  {
   "cell_type": "code",
   "execution_count": 5,
   "id": "8c9fcfc8",
   "metadata": {
    "colab": {
     "base_uri": "https://localhost:8080/"
    },
    "id": "8c9fcfc8",
    "outputId": "ccc7ce11-0553-4978-c8cd-3d22692518fc"
   },
   "outputs": [
    {
     "data": {
      "text/plain": [
       "(145460, 23)"
      ]
     },
     "execution_count": 5,
     "metadata": {},
     "output_type": "execute_result"
    }
   ],
   "source": [
    "#Dimensions of dfset\n",
    "df.shape"
   ]
  },
  {
   "cell_type": "code",
   "execution_count": 6,
   "id": "7920e976",
   "metadata": {
    "colab": {
     "base_uri": "https://localhost:8080/"
    },
    "id": "7920e976",
    "outputId": "15d3c1a2-9911-4972-b008-8a5f981ad358"
   },
   "outputs": [
    {
     "name": "stdout",
     "output_type": "stream",
     "text": [
      "<class 'pandas.core.frame.DataFrame'>\n",
      "RangeIndex: 145460 entries, 0 to 145459\n",
      "Data columns (total 23 columns):\n",
      " #   Column         Non-Null Count   Dtype  \n",
      "---  ------         --------------   -----  \n",
      " 0   Date           145460 non-null  object \n",
      " 1   Location       145460 non-null  object \n",
      " 2   MinTemp        143975 non-null  float64\n",
      " 3   MaxTemp        144199 non-null  float64\n",
      " 4   Rainfall       142199 non-null  float64\n",
      " 5   Evaporation    82670 non-null   float64\n",
      " 6   Sunshine       75625 non-null   float64\n",
      " 7   WindGustDir    135134 non-null  object \n",
      " 8   WindGustSpeed  135197 non-null  float64\n",
      " 9   WindDir9am     134894 non-null  object \n",
      " 10  WindDir3pm     141232 non-null  object \n",
      " 11  WindSpeed9am   143693 non-null  float64\n",
      " 12  WindSpeed3pm   142398 non-null  float64\n",
      " 13  Humidity9am    142806 non-null  float64\n",
      " 14  Humidity3pm    140953 non-null  float64\n",
      " 15  Pressure9am    130395 non-null  float64\n",
      " 16  Pressure3pm    130432 non-null  float64\n",
      " 17  Cloud9am       89572 non-null   float64\n",
      " 18  Cloud3pm       86102 non-null   float64\n",
      " 19  Temp9am        143693 non-null  float64\n",
      " 20  Temp3pm        141851 non-null  float64\n",
      " 21  RainToday      142199 non-null  object \n",
      " 22  RainTomorrow   142193 non-null  object \n",
      "dtypes: float64(16), object(7)\n",
      "memory usage: 25.5+ MB\n"
     ]
    }
   ],
   "source": [
    "#dfset contains both categorical and continuous values\n",
    "df.info()"
   ]
  },
  {
   "cell_type": "code",
   "execution_count": 7,
   "id": "e683510b",
   "metadata": {
    "colab": {
     "base_uri": "https://localhost:8080/"
    },
    "id": "e683510b",
    "outputId": "3a68dc3f-c3e4-4fce-ae83-00111c91e827"
   },
   "outputs": [
    {
     "data": {
      "text/plain": [
       "Index(['Date', 'Location', 'MinTemp', 'MaxTemp', 'Rainfall', 'Evaporation',\n",
       "       'Sunshine', 'WindGustDir', 'WindGustSpeed', 'WindDir9am', 'WindDir3pm',\n",
       "       'WindSpeed9am', 'WindSpeed3pm', 'Humidity9am', 'Humidity3pm',\n",
       "       'Pressure9am', 'Pressure3pm', 'Cloud9am', 'Cloud3pm', 'Temp9am',\n",
       "       'Temp3pm', 'RainToday', 'RainTomorrow'],\n",
       "      dtype='object')"
      ]
     },
     "execution_count": 7,
     "metadata": {},
     "output_type": "execute_result"
    }
   ],
   "source": [
    "#Columns\n",
    "df.columns"
   ]
  },
  {
   "cell_type": "code",
   "execution_count": 8,
   "id": "53f59223",
   "metadata": {
    "colab": {
     "base_uri": "https://localhost:8080/"
    },
    "id": "53f59223",
    "outputId": "0ec0da7d-3a37-4dfe-ec8b-1f884f914c1e"
   },
   "outputs": [
    {
     "name": "stdout",
     "output_type": "stream",
     "text": [
      "No.of Categorical values : 7\n",
      "Categorical variables in the dfset are : ['Date', 'Location', 'WindGustDir', 'WindDir9am', 'WindDir3pm', 'RainToday', 'RainTomorrow']\n"
     ]
    }
   ],
   "source": [
    "#Finding categorical variables\n",
    "cat_var = [var for var in df.columns if df[var].dtype=='O']\n",
    "print('No.of Categorical values :',len(cat_var))\n",
    "print('Categorical variables in the dfset are :', cat_var)"
   ]
  },
  {
   "cell_type": "code",
   "execution_count": 9,
   "id": "0b5cd9aa",
   "metadata": {
    "colab": {
     "base_uri": "https://localhost:8080/",
     "height": 206
    },
    "id": "0b5cd9aa",
    "outputId": "98102395-910e-43a9-a8f8-fd527a79e52d"
   },
   "outputs": [
    {
     "data": {
      "text/html": [
       "<div>\n",
       "<style scoped>\n",
       "    .dataframe tbody tr th:only-of-type {\n",
       "        vertical-align: middle;\n",
       "    }\n",
       "\n",
       "    .dataframe tbody tr th {\n",
       "        vertical-align: top;\n",
       "    }\n",
       "\n",
       "    .dataframe thead th {\n",
       "        text-align: right;\n",
       "    }\n",
       "</style>\n",
       "<table border=\"1\" class=\"dataframe\">\n",
       "  <thead>\n",
       "    <tr style=\"text-align: right;\">\n",
       "      <th></th>\n",
       "      <th>Date</th>\n",
       "      <th>Location</th>\n",
       "      <th>WindGustDir</th>\n",
       "      <th>WindDir9am</th>\n",
       "      <th>WindDir3pm</th>\n",
       "      <th>RainToday</th>\n",
       "      <th>RainTomorrow</th>\n",
       "    </tr>\n",
       "  </thead>\n",
       "  <tbody>\n",
       "    <tr>\n",
       "      <th>0</th>\n",
       "      <td>2008-12-01</td>\n",
       "      <td>Albury</td>\n",
       "      <td>W</td>\n",
       "      <td>W</td>\n",
       "      <td>WNW</td>\n",
       "      <td>No</td>\n",
       "      <td>No</td>\n",
       "    </tr>\n",
       "    <tr>\n",
       "      <th>1</th>\n",
       "      <td>2008-12-02</td>\n",
       "      <td>Albury</td>\n",
       "      <td>WNW</td>\n",
       "      <td>NNW</td>\n",
       "      <td>WSW</td>\n",
       "      <td>No</td>\n",
       "      <td>No</td>\n",
       "    </tr>\n",
       "    <tr>\n",
       "      <th>2</th>\n",
       "      <td>2008-12-03</td>\n",
       "      <td>Albury</td>\n",
       "      <td>WSW</td>\n",
       "      <td>W</td>\n",
       "      <td>WSW</td>\n",
       "      <td>No</td>\n",
       "      <td>No</td>\n",
       "    </tr>\n",
       "    <tr>\n",
       "      <th>3</th>\n",
       "      <td>2008-12-04</td>\n",
       "      <td>Albury</td>\n",
       "      <td>NE</td>\n",
       "      <td>SE</td>\n",
       "      <td>E</td>\n",
       "      <td>No</td>\n",
       "      <td>No</td>\n",
       "    </tr>\n",
       "    <tr>\n",
       "      <th>4</th>\n",
       "      <td>2008-12-05</td>\n",
       "      <td>Albury</td>\n",
       "      <td>W</td>\n",
       "      <td>ENE</td>\n",
       "      <td>NW</td>\n",
       "      <td>No</td>\n",
       "      <td>No</td>\n",
       "    </tr>\n",
       "  </tbody>\n",
       "</table>\n",
       "</div>"
      ],
      "text/plain": [
       "         Date Location WindGustDir WindDir9am WindDir3pm RainToday  \\\n",
       "0  2008-12-01   Albury           W          W        WNW        No   \n",
       "1  2008-12-02   Albury         WNW        NNW        WSW        No   \n",
       "2  2008-12-03   Albury         WSW          W        WSW        No   \n",
       "3  2008-12-04   Albury          NE         SE          E        No   \n",
       "4  2008-12-05   Albury           W        ENE         NW        No   \n",
       "\n",
       "  RainTomorrow  \n",
       "0           No  \n",
       "1           No  \n",
       "2           No  \n",
       "3           No  \n",
       "4           No  "
      ]
     },
     "execution_count": 9,
     "metadata": {},
     "output_type": "execute_result"
    }
   ],
   "source": [
    "#Diaplying categorical variables\n",
    "#RainTomorrow is our Target variable\n",
    "df[cat_var].head()"
   ]
  },
  {
   "cell_type": "code",
   "execution_count": 10,
   "id": "048b7116",
   "metadata": {
    "colab": {
     "base_uri": "https://localhost:8080/"
    },
    "id": "048b7116",
    "outputId": "dfad19c5-d579-4c98-83ea-faf6f07d98b9"
   },
   "outputs": [
    {
     "name": "stdout",
     "output_type": "stream",
     "text": [
      "Date  -  3436  labels\n",
      "Location  -  49  labels\n",
      "WindGustDir  -  17  labels\n",
      "WindDir9am  -  17  labels\n",
      "WindDir3pm  -  17  labels\n",
      "RainToday  -  3  labels\n",
      "RainTomorrow  -  3  labels\n"
     ]
    }
   ],
   "source": [
    "#Cardinality of Categorical variables\n",
    "for catvar in cat_var:\n",
    "    print(catvar, ' - ', len(df[catvar].unique()), ' labels')"
   ]
  },
  {
   "cell_type": "code",
   "execution_count": 11,
   "id": "0946dec2",
   "metadata": {
    "colab": {
     "base_uri": "https://localhost:8080/"
    },
    "id": "0946dec2",
    "outputId": "5b320f2f-cecd-428b-8a5e-47255b3c9224"
   },
   "outputs": [
    {
     "data": {
      "text/plain": [
       "Date                0\n",
       "Location            0\n",
       "WindGustDir     10326\n",
       "WindDir9am      10566\n",
       "WindDir3pm       4228\n",
       "RainToday        3261\n",
       "RainTomorrow     3267\n",
       "dtype: int64"
      ]
     },
     "execution_count": 11,
     "metadata": {},
     "output_type": "execute_result"
    }
   ],
   "source": [
    "#Identifying missing values in Categorical variables\n",
    "# 5 Features - windGustDir, WindDir9am, WindDir3pm, RainToday, RainTomorrow contains null values\n",
    "df[cat_var].isnull().sum()"
   ]
  },
  {
   "cell_type": "code",
   "execution_count": 12,
   "id": "400b122e",
   "metadata": {},
   "outputs": [],
   "source": [
    "# Creating a Data Quality Report for Categorical Features\n",
    "\n",
    "desc = ['The date of observation', 'The common name of the location of the weather station', 'The direction of the strongest wind gust in the 24 hours to midnight', 'Direction of the wind at 9am','Direction of the wind at 3pm','1 if precipitation (mm) in the 24 hours to 9am exceeds 1mm, otherwise 0','The amount of next day rain in mm.']\n",
    "\n",
    "dqr_df_cat = pd.DataFrame(columns = ['Feature', 'Desc.', 'Count', '% of Missing', 'Card.', 'Mode', 'Mode Freq.', 'Mode %', '2nd Mode','2nd Mode Freq.','2nd Mode Perc' , 'Notes'])\n",
    "\n",
    "count = 0\n",
    "for col in cat_var:\n",
    "    vals = df[col].value_counts().index.tolist()\n",
    "    dqr_df_cat.loc[len(dqr_df_cat)] = [df[col].name, desc[count], df[col].count(), ((df.shape[0] - df[col].count()) / df.shape[0])*100, len(df[col].unique()), vals[0] ,df[col].value_counts()[0], df[col].value_counts(normalize = True)[0]*100 , vals[1], df[col].value_counts()[1], df[col].value_counts(normalize = True)[1]*100 , '']\n",
    "    count += 1"
   ]
  },
  {
   "cell_type": "markdown",
   "id": "81b5868a",
   "metadata": {},
   "source": [
    "# Data Quality Report for Categorical Features"
   ]
  },
  {
   "cell_type": "code",
   "execution_count": 13,
   "id": "a3be402e",
   "metadata": {},
   "outputs": [
    {
     "data": {
      "text/html": [
       "<div>\n",
       "<style scoped>\n",
       "    .dataframe tbody tr th:only-of-type {\n",
       "        vertical-align: middle;\n",
       "    }\n",
       "\n",
       "    .dataframe tbody tr th {\n",
       "        vertical-align: top;\n",
       "    }\n",
       "\n",
       "    .dataframe thead th {\n",
       "        text-align: right;\n",
       "    }\n",
       "</style>\n",
       "<table border=\"1\" class=\"dataframe\">\n",
       "  <thead>\n",
       "    <tr style=\"text-align: right;\">\n",
       "      <th></th>\n",
       "      <th>Feature</th>\n",
       "      <th>Desc.</th>\n",
       "      <th>Count</th>\n",
       "      <th>% of Missing</th>\n",
       "      <th>Card.</th>\n",
       "      <th>Mode</th>\n",
       "      <th>Mode Freq.</th>\n",
       "      <th>Mode %</th>\n",
       "      <th>2nd Mode</th>\n",
       "      <th>2nd Mode Freq.</th>\n",
       "      <th>2nd Mode Perc</th>\n",
       "      <th>Notes</th>\n",
       "    </tr>\n",
       "  </thead>\n",
       "  <tbody>\n",
       "    <tr>\n",
       "      <th>0</th>\n",
       "      <td>Date</td>\n",
       "      <td>The date of observation</td>\n",
       "      <td>145460</td>\n",
       "      <td>0.000000</td>\n",
       "      <td>3436</td>\n",
       "      <td>2013-11-12</td>\n",
       "      <td>49</td>\n",
       "      <td>0.033686</td>\n",
       "      <td>2014-09-01</td>\n",
       "      <td>49</td>\n",
       "      <td>0.033686</td>\n",
       "      <td></td>\n",
       "    </tr>\n",
       "    <tr>\n",
       "      <th>1</th>\n",
       "      <td>Location</td>\n",
       "      <td>The common name of the location of the weather...</td>\n",
       "      <td>145460</td>\n",
       "      <td>0.000000</td>\n",
       "      <td>49</td>\n",
       "      <td>Canberra</td>\n",
       "      <td>3436</td>\n",
       "      <td>2.362161</td>\n",
       "      <td>Sydney</td>\n",
       "      <td>3344</td>\n",
       "      <td>2.298914</td>\n",
       "      <td></td>\n",
       "    </tr>\n",
       "    <tr>\n",
       "      <th>2</th>\n",
       "      <td>WindGustDir</td>\n",
       "      <td>The direction of the strongest wind gust in th...</td>\n",
       "      <td>135134</td>\n",
       "      <td>7.098859</td>\n",
       "      <td>17</td>\n",
       "      <td>W</td>\n",
       "      <td>9915</td>\n",
       "      <td>7.337162</td>\n",
       "      <td>SE</td>\n",
       "      <td>9418</td>\n",
       "      <td>6.969379</td>\n",
       "      <td></td>\n",
       "    </tr>\n",
       "    <tr>\n",
       "      <th>3</th>\n",
       "      <td>WindDir9am</td>\n",
       "      <td>Direction of the wind at 9am</td>\n",
       "      <td>134894</td>\n",
       "      <td>7.263853</td>\n",
       "      <td>17</td>\n",
       "      <td>N</td>\n",
       "      <td>11758</td>\n",
       "      <td>8.716474</td>\n",
       "      <td>SE</td>\n",
       "      <td>9287</td>\n",
       "      <td>6.884665</td>\n",
       "      <td></td>\n",
       "    </tr>\n",
       "    <tr>\n",
       "      <th>4</th>\n",
       "      <td>WindDir3pm</td>\n",
       "      <td>Direction of the wind at 3pm</td>\n",
       "      <td>141232</td>\n",
       "      <td>2.906641</td>\n",
       "      <td>17</td>\n",
       "      <td>SE</td>\n",
       "      <td>10838</td>\n",
       "      <td>7.673898</td>\n",
       "      <td>W</td>\n",
       "      <td>10110</td>\n",
       "      <td>7.158434</td>\n",
       "      <td></td>\n",
       "    </tr>\n",
       "    <tr>\n",
       "      <th>5</th>\n",
       "      <td>RainToday</td>\n",
       "      <td>1 if precipitation (mm) in the 24 hours to 9am...</td>\n",
       "      <td>142199</td>\n",
       "      <td>2.241853</td>\n",
       "      <td>3</td>\n",
       "      <td>No</td>\n",
       "      <td>110319</td>\n",
       "      <td>77.580714</td>\n",
       "      <td>Yes</td>\n",
       "      <td>31880</td>\n",
       "      <td>22.419286</td>\n",
       "      <td></td>\n",
       "    </tr>\n",
       "    <tr>\n",
       "      <th>6</th>\n",
       "      <td>RainTomorrow</td>\n",
       "      <td>The amount of next day rain in mm.</td>\n",
       "      <td>142193</td>\n",
       "      <td>2.245978</td>\n",
       "      <td>3</td>\n",
       "      <td>No</td>\n",
       "      <td>110316</td>\n",
       "      <td>77.581878</td>\n",
       "      <td>Yes</td>\n",
       "      <td>31877</td>\n",
       "      <td>22.418122</td>\n",
       "      <td></td>\n",
       "    </tr>\n",
       "  </tbody>\n",
       "</table>\n",
       "</div>"
      ],
      "text/plain": [
       "        Feature                                              Desc.   Count  \\\n",
       "0          Date                            The date of observation  145460   \n",
       "1      Location  The common name of the location of the weather...  145460   \n",
       "2   WindGustDir  The direction of the strongest wind gust in th...  135134   \n",
       "3    WindDir9am                       Direction of the wind at 9am  134894   \n",
       "4    WindDir3pm                       Direction of the wind at 3pm  141232   \n",
       "5     RainToday  1 if precipitation (mm) in the 24 hours to 9am...  142199   \n",
       "6  RainTomorrow                 The amount of next day rain in mm.  142193   \n",
       "\n",
       "   % of Missing Card.        Mode Mode Freq.     Mode %    2nd Mode  \\\n",
       "0      0.000000  3436  2013-11-12         49   0.033686  2014-09-01   \n",
       "1      0.000000    49    Canberra       3436   2.362161      Sydney   \n",
       "2      7.098859    17           W       9915   7.337162          SE   \n",
       "3      7.263853    17           N      11758   8.716474          SE   \n",
       "4      2.906641    17          SE      10838   7.673898           W   \n",
       "5      2.241853     3          No     110319  77.580714         Yes   \n",
       "6      2.245978     3          No     110316  77.581878         Yes   \n",
       "\n",
       "  2nd Mode Freq.  2nd Mode Perc Notes  \n",
       "0             49       0.033686        \n",
       "1           3344       2.298914        \n",
       "2           9418       6.969379        \n",
       "3           9287       6.884665        \n",
       "4          10110       7.158434        \n",
       "5          31880      22.419286        \n",
       "6          31877      22.418122        "
      ]
     },
     "execution_count": 13,
     "metadata": {},
     "output_type": "execute_result"
    }
   ],
   "source": [
    "dqr_df_cat"
   ]
  },
  {
   "cell_type": "code",
   "execution_count": 14,
   "id": "64aa74c6",
   "metadata": {
    "colab": {
     "base_uri": "https://localhost:8080/"
    },
    "id": "64aa74c6",
    "outputId": "6735ad79-224a-4d1b-c623-0aa7bcf8f0d2"
   },
   "outputs": [
    {
     "name": "stdout",
     "output_type": "stream",
     "text": [
      "No.of Continuous values : 16\n",
      "Coninuous variables in the dfset are : ['MinTemp', 'MaxTemp', 'Rainfall', 'Evaporation', 'Sunshine', 'WindGustSpeed', 'WindSpeed9am', 'WindSpeed3pm', 'Humidity9am', 'Humidity3pm', 'Pressure9am', 'Pressure3pm', 'Cloud9am', 'Cloud3pm', 'Temp9am', 'Temp3pm']\n"
     ]
    }
   ],
   "source": [
    "#Finding Continuous variables\n",
    "cont_var = [var for var in df.columns if df[var].dtype!='O']\n",
    "print('No.of Continuous values :',len(cont_var))\n",
    "print('Coninuous variables in the dfset are :', cont_var)"
   ]
  },
  {
   "cell_type": "code",
   "execution_count": 15,
   "id": "41e42c9c",
   "metadata": {
    "colab": {
     "base_uri": "https://localhost:8080/",
     "height": 270
    },
    "id": "41e42c9c",
    "outputId": "9338311d-8439-478b-a4da-aba41cbef834"
   },
   "outputs": [
    {
     "data": {
      "text/html": [
       "<div>\n",
       "<style scoped>\n",
       "    .dataframe tbody tr th:only-of-type {\n",
       "        vertical-align: middle;\n",
       "    }\n",
       "\n",
       "    .dataframe tbody tr th {\n",
       "        vertical-align: top;\n",
       "    }\n",
       "\n",
       "    .dataframe thead th {\n",
       "        text-align: right;\n",
       "    }\n",
       "</style>\n",
       "<table border=\"1\" class=\"dataframe\">\n",
       "  <thead>\n",
       "    <tr style=\"text-align: right;\">\n",
       "      <th></th>\n",
       "      <th>MinTemp</th>\n",
       "      <th>MaxTemp</th>\n",
       "      <th>Rainfall</th>\n",
       "      <th>Evaporation</th>\n",
       "      <th>Sunshine</th>\n",
       "      <th>WindGustSpeed</th>\n",
       "      <th>WindSpeed9am</th>\n",
       "      <th>WindSpeed3pm</th>\n",
       "      <th>Humidity9am</th>\n",
       "      <th>Humidity3pm</th>\n",
       "      <th>Pressure9am</th>\n",
       "      <th>Pressure3pm</th>\n",
       "      <th>Cloud9am</th>\n",
       "      <th>Cloud3pm</th>\n",
       "      <th>Temp9am</th>\n",
       "      <th>Temp3pm</th>\n",
       "    </tr>\n",
       "  </thead>\n",
       "  <tbody>\n",
       "    <tr>\n",
       "      <th>0</th>\n",
       "      <td>13.4</td>\n",
       "      <td>22.9</td>\n",
       "      <td>0.6</td>\n",
       "      <td>NaN</td>\n",
       "      <td>NaN</td>\n",
       "      <td>44.0</td>\n",
       "      <td>20.0</td>\n",
       "      <td>24.0</td>\n",
       "      <td>71.0</td>\n",
       "      <td>22.0</td>\n",
       "      <td>1007.7</td>\n",
       "      <td>1007.1</td>\n",
       "      <td>8.0</td>\n",
       "      <td>NaN</td>\n",
       "      <td>16.9</td>\n",
       "      <td>21.8</td>\n",
       "    </tr>\n",
       "    <tr>\n",
       "      <th>1</th>\n",
       "      <td>7.4</td>\n",
       "      <td>25.1</td>\n",
       "      <td>0.0</td>\n",
       "      <td>NaN</td>\n",
       "      <td>NaN</td>\n",
       "      <td>44.0</td>\n",
       "      <td>4.0</td>\n",
       "      <td>22.0</td>\n",
       "      <td>44.0</td>\n",
       "      <td>25.0</td>\n",
       "      <td>1010.6</td>\n",
       "      <td>1007.8</td>\n",
       "      <td>NaN</td>\n",
       "      <td>NaN</td>\n",
       "      <td>17.2</td>\n",
       "      <td>24.3</td>\n",
       "    </tr>\n",
       "    <tr>\n",
       "      <th>2</th>\n",
       "      <td>12.9</td>\n",
       "      <td>25.7</td>\n",
       "      <td>0.0</td>\n",
       "      <td>NaN</td>\n",
       "      <td>NaN</td>\n",
       "      <td>46.0</td>\n",
       "      <td>19.0</td>\n",
       "      <td>26.0</td>\n",
       "      <td>38.0</td>\n",
       "      <td>30.0</td>\n",
       "      <td>1007.6</td>\n",
       "      <td>1008.7</td>\n",
       "      <td>NaN</td>\n",
       "      <td>2.0</td>\n",
       "      <td>21.0</td>\n",
       "      <td>23.2</td>\n",
       "    </tr>\n",
       "    <tr>\n",
       "      <th>3</th>\n",
       "      <td>9.2</td>\n",
       "      <td>28.0</td>\n",
       "      <td>0.0</td>\n",
       "      <td>NaN</td>\n",
       "      <td>NaN</td>\n",
       "      <td>24.0</td>\n",
       "      <td>11.0</td>\n",
       "      <td>9.0</td>\n",
       "      <td>45.0</td>\n",
       "      <td>16.0</td>\n",
       "      <td>1017.6</td>\n",
       "      <td>1012.8</td>\n",
       "      <td>NaN</td>\n",
       "      <td>NaN</td>\n",
       "      <td>18.1</td>\n",
       "      <td>26.5</td>\n",
       "    </tr>\n",
       "    <tr>\n",
       "      <th>4</th>\n",
       "      <td>17.5</td>\n",
       "      <td>32.3</td>\n",
       "      <td>1.0</td>\n",
       "      <td>NaN</td>\n",
       "      <td>NaN</td>\n",
       "      <td>41.0</td>\n",
       "      <td>7.0</td>\n",
       "      <td>20.0</td>\n",
       "      <td>82.0</td>\n",
       "      <td>33.0</td>\n",
       "      <td>1010.8</td>\n",
       "      <td>1006.0</td>\n",
       "      <td>7.0</td>\n",
       "      <td>8.0</td>\n",
       "      <td>17.8</td>\n",
       "      <td>29.7</td>\n",
       "    </tr>\n",
       "  </tbody>\n",
       "</table>\n",
       "</div>"
      ],
      "text/plain": [
       "   MinTemp  MaxTemp  Rainfall  Evaporation  Sunshine  WindGustSpeed  \\\n",
       "0     13.4     22.9       0.6          NaN       NaN           44.0   \n",
       "1      7.4     25.1       0.0          NaN       NaN           44.0   \n",
       "2     12.9     25.7       0.0          NaN       NaN           46.0   \n",
       "3      9.2     28.0       0.0          NaN       NaN           24.0   \n",
       "4     17.5     32.3       1.0          NaN       NaN           41.0   \n",
       "\n",
       "   WindSpeed9am  WindSpeed3pm  Humidity9am  Humidity3pm  Pressure9am  \\\n",
       "0          20.0          24.0         71.0         22.0       1007.7   \n",
       "1           4.0          22.0         44.0         25.0       1010.6   \n",
       "2          19.0          26.0         38.0         30.0       1007.6   \n",
       "3          11.0           9.0         45.0         16.0       1017.6   \n",
       "4           7.0          20.0         82.0         33.0       1010.8   \n",
       "\n",
       "   Pressure3pm  Cloud9am  Cloud3pm  Temp9am  Temp3pm  \n",
       "0       1007.1       8.0       NaN     16.9     21.8  \n",
       "1       1007.8       NaN       NaN     17.2     24.3  \n",
       "2       1008.7       NaN       2.0     21.0     23.2  \n",
       "3       1012.8       NaN       NaN     18.1     26.5  \n",
       "4       1006.0       7.0       8.0     17.8     29.7  "
      ]
     },
     "execution_count": 15,
     "metadata": {},
     "output_type": "execute_result"
    }
   ],
   "source": [
    "#Displying Continuous variables\n",
    "df[cont_var].head()"
   ]
  },
  {
   "cell_type": "code",
   "execution_count": 16,
   "id": "d111a16f",
   "metadata": {
    "colab": {
     "base_uri": "https://localhost:8080/"
    },
    "id": "d111a16f",
    "outputId": "8f72d2ad-7609-40e3-cda1-6010d7e94629"
   },
   "outputs": [
    {
     "data": {
      "text/plain": [
       "MinTemp           1485\n",
       "MaxTemp           1261\n",
       "Rainfall          3261\n",
       "Evaporation      62790\n",
       "Sunshine         69835\n",
       "WindGustSpeed    10263\n",
       "WindSpeed9am      1767\n",
       "WindSpeed3pm      3062\n",
       "Humidity9am       2654\n",
       "Humidity3pm       4507\n",
       "Pressure9am      15065\n",
       "Pressure3pm      15028\n",
       "Cloud9am         55888\n",
       "Cloud3pm         59358\n",
       "Temp9am           1767\n",
       "Temp3pm           3609\n",
       "dtype: int64"
      ]
     },
     "execution_count": 16,
     "metadata": {},
     "output_type": "execute_result"
    }
   ],
   "source": [
    "#Identifying missing values in Continuous variables\n",
    "# 5 Features - windGustDir, WindDir9am, WindDir3pm, RainToday, RainTomorrow contains null values\n",
    "df[cont_var].isnull().sum()"
   ]
  },
  {
   "cell_type": "code",
   "execution_count": 17,
   "id": "baf78b54",
   "metadata": {},
   "outputs": [],
   "source": [
    "dqr_df_cont = pd.DataFrame(columns = ['Feature', 'Desc.', 'Count', '% of Missing', 'Card.', 'Min.', 'Q1', 'Median', 'Q3', 'Max.', 'Mean', 'Std. Dev.', 'Notes'])\n",
    "\n",
    "desc1 =['The minimum temperature in degrees celsius', 'The maximum temperature in degrees celsius','The amount of rainfall recorded for the day in mm','The so-called Class A pan evaporation (mm) in the 24 hours to 9am','The number of hours of bright sunshine in the day.','The speed (km/h) of the strongest wind gust in the 24 hours to midnight','Wind speed (km/hr) averaged over 10 minutes prior to 9am','Wind speed (km/hr) averaged over 10 minutes prior to 3pm','Humidity (percent) at 9am','Humidity (percent) at 3pm','Atmospheric pressure (hpa) reduced to mean sea level at 9am','Atmospheric pressure (hpa) reduced to mean sea level at 3pm','Fraction of sky obscured by cloud at 9am. This is measured in \"oktas\", which are a unit of eigths.','Fraction of sky obscured by cloud (in \"oktas\": eighths) at 3pm.','Temperature (degrees C) at 9am','Temperature (degrees C) at 3pm']\n",
    "\n",
    "count = 0\n",
    "for col in cont_var:\n",
    "    vals = df[col].value_counts().index.tolist()\n",
    "    dqr_df_cont.loc[len(dqr_df_cont)] = [df[col].name, desc1[count], df[col].count(), ((df.shape[0] - df[col].count()) / df.shape[0])*100, len(df[col].unique()), df[col].min() , df[col].describe()['25%'],df[col].describe()['50%'],df[col].describe()['75%'], df[col].max(), df[col].describe()['mean'], df[col].describe()['std'] , '']\n",
    "    count += 1"
   ]
  },
  {
   "cell_type": "markdown",
   "id": "0377b1bc",
   "metadata": {},
   "source": [
    "# Data Quality Report for Continuous Variables"
   ]
  },
  {
   "cell_type": "code",
   "execution_count": 18,
   "id": "cfcb2acc",
   "metadata": {},
   "outputs": [
    {
     "data": {
      "text/html": [
       "<div>\n",
       "<style scoped>\n",
       "    .dataframe tbody tr th:only-of-type {\n",
       "        vertical-align: middle;\n",
       "    }\n",
       "\n",
       "    .dataframe tbody tr th {\n",
       "        vertical-align: top;\n",
       "    }\n",
       "\n",
       "    .dataframe thead th {\n",
       "        text-align: right;\n",
       "    }\n",
       "</style>\n",
       "<table border=\"1\" class=\"dataframe\">\n",
       "  <thead>\n",
       "    <tr style=\"text-align: right;\">\n",
       "      <th></th>\n",
       "      <th>Feature</th>\n",
       "      <th>Desc.</th>\n",
       "      <th>Count</th>\n",
       "      <th>% of Missing</th>\n",
       "      <th>Card.</th>\n",
       "      <th>Min.</th>\n",
       "      <th>Q1</th>\n",
       "      <th>Median</th>\n",
       "      <th>Q3</th>\n",
       "      <th>Max.</th>\n",
       "      <th>Mean</th>\n",
       "      <th>Std. Dev.</th>\n",
       "      <th>Notes</th>\n",
       "    </tr>\n",
       "  </thead>\n",
       "  <tbody>\n",
       "    <tr>\n",
       "      <th>0</th>\n",
       "      <td>MinTemp</td>\n",
       "      <td>The minimum temperature in degrees celsius</td>\n",
       "      <td>143975</td>\n",
       "      <td>1.020899</td>\n",
       "      <td>390</td>\n",
       "      <td>-8.5</td>\n",
       "      <td>7.6</td>\n",
       "      <td>12.0</td>\n",
       "      <td>16.9</td>\n",
       "      <td>33.9</td>\n",
       "      <td>12.194034</td>\n",
       "      <td>6.398495</td>\n",
       "      <td></td>\n",
       "    </tr>\n",
       "    <tr>\n",
       "      <th>1</th>\n",
       "      <td>MaxTemp</td>\n",
       "      <td>The maximum temperature in degrees celsius</td>\n",
       "      <td>144199</td>\n",
       "      <td>0.866905</td>\n",
       "      <td>506</td>\n",
       "      <td>-4.8</td>\n",
       "      <td>17.9</td>\n",
       "      <td>22.6</td>\n",
       "      <td>28.2</td>\n",
       "      <td>48.1</td>\n",
       "      <td>23.221348</td>\n",
       "      <td>7.119049</td>\n",
       "      <td></td>\n",
       "    </tr>\n",
       "    <tr>\n",
       "      <th>2</th>\n",
       "      <td>Rainfall</td>\n",
       "      <td>The amount of rainfall recorded for the day in mm</td>\n",
       "      <td>142199</td>\n",
       "      <td>2.241853</td>\n",
       "      <td>682</td>\n",
       "      <td>0.0</td>\n",
       "      <td>0.0</td>\n",
       "      <td>0.0</td>\n",
       "      <td>0.8</td>\n",
       "      <td>371.0</td>\n",
       "      <td>2.360918</td>\n",
       "      <td>8.478060</td>\n",
       "      <td></td>\n",
       "    </tr>\n",
       "    <tr>\n",
       "      <th>3</th>\n",
       "      <td>Evaporation</td>\n",
       "      <td>The so-called Class A pan evaporation (mm) in ...</td>\n",
       "      <td>82670</td>\n",
       "      <td>43.166506</td>\n",
       "      <td>359</td>\n",
       "      <td>0.0</td>\n",
       "      <td>2.6</td>\n",
       "      <td>4.8</td>\n",
       "      <td>7.4</td>\n",
       "      <td>145.0</td>\n",
       "      <td>5.468232</td>\n",
       "      <td>4.193704</td>\n",
       "      <td></td>\n",
       "    </tr>\n",
       "    <tr>\n",
       "      <th>4</th>\n",
       "      <td>Sunshine</td>\n",
       "      <td>The number of hours of bright sunshine in the ...</td>\n",
       "      <td>75625</td>\n",
       "      <td>48.009762</td>\n",
       "      <td>146</td>\n",
       "      <td>0.0</td>\n",
       "      <td>4.8</td>\n",
       "      <td>8.4</td>\n",
       "      <td>10.6</td>\n",
       "      <td>14.5</td>\n",
       "      <td>7.611178</td>\n",
       "      <td>3.785483</td>\n",
       "      <td></td>\n",
       "    </tr>\n",
       "    <tr>\n",
       "      <th>5</th>\n",
       "      <td>WindGustSpeed</td>\n",
       "      <td>The speed (km/h) of the strongest wind gust in...</td>\n",
       "      <td>135197</td>\n",
       "      <td>7.055548</td>\n",
       "      <td>68</td>\n",
       "      <td>6.0</td>\n",
       "      <td>31.0</td>\n",
       "      <td>39.0</td>\n",
       "      <td>48.0</td>\n",
       "      <td>135.0</td>\n",
       "      <td>40.035230</td>\n",
       "      <td>13.607062</td>\n",
       "      <td></td>\n",
       "    </tr>\n",
       "    <tr>\n",
       "      <th>6</th>\n",
       "      <td>WindSpeed9am</td>\n",
       "      <td>Wind speed (km/hr) averaged over 10 minutes pr...</td>\n",
       "      <td>143693</td>\n",
       "      <td>1.214767</td>\n",
       "      <td>44</td>\n",
       "      <td>0.0</td>\n",
       "      <td>7.0</td>\n",
       "      <td>13.0</td>\n",
       "      <td>19.0</td>\n",
       "      <td>130.0</td>\n",
       "      <td>14.043426</td>\n",
       "      <td>8.915375</td>\n",
       "      <td></td>\n",
       "    </tr>\n",
       "    <tr>\n",
       "      <th>7</th>\n",
       "      <td>WindSpeed3pm</td>\n",
       "      <td>Wind speed (km/hr) averaged over 10 minutes pr...</td>\n",
       "      <td>142398</td>\n",
       "      <td>2.105046</td>\n",
       "      <td>45</td>\n",
       "      <td>0.0</td>\n",
       "      <td>13.0</td>\n",
       "      <td>19.0</td>\n",
       "      <td>24.0</td>\n",
       "      <td>87.0</td>\n",
       "      <td>18.662657</td>\n",
       "      <td>8.809800</td>\n",
       "      <td></td>\n",
       "    </tr>\n",
       "    <tr>\n",
       "      <th>8</th>\n",
       "      <td>Humidity9am</td>\n",
       "      <td>Humidity (percent) at 9am</td>\n",
       "      <td>142806</td>\n",
       "      <td>1.824557</td>\n",
       "      <td>102</td>\n",
       "      <td>0.0</td>\n",
       "      <td>57.0</td>\n",
       "      <td>70.0</td>\n",
       "      <td>83.0</td>\n",
       "      <td>100.0</td>\n",
       "      <td>68.880831</td>\n",
       "      <td>19.029164</td>\n",
       "      <td></td>\n",
       "    </tr>\n",
       "    <tr>\n",
       "      <th>9</th>\n",
       "      <td>Humidity3pm</td>\n",
       "      <td>Humidity (percent) at 3pm</td>\n",
       "      <td>140953</td>\n",
       "      <td>3.098446</td>\n",
       "      <td>102</td>\n",
       "      <td>0.0</td>\n",
       "      <td>37.0</td>\n",
       "      <td>52.0</td>\n",
       "      <td>66.0</td>\n",
       "      <td>100.0</td>\n",
       "      <td>51.539116</td>\n",
       "      <td>20.795902</td>\n",
       "      <td></td>\n",
       "    </tr>\n",
       "    <tr>\n",
       "      <th>10</th>\n",
       "      <td>Pressure9am</td>\n",
       "      <td>Atmospheric pressure (hpa) reduced to mean sea...</td>\n",
       "      <td>130395</td>\n",
       "      <td>10.356799</td>\n",
       "      <td>547</td>\n",
       "      <td>980.5</td>\n",
       "      <td>1012.9</td>\n",
       "      <td>1017.6</td>\n",
       "      <td>1022.4</td>\n",
       "      <td>1041.0</td>\n",
       "      <td>1017.649940</td>\n",
       "      <td>7.106530</td>\n",
       "      <td></td>\n",
       "    </tr>\n",
       "    <tr>\n",
       "      <th>11</th>\n",
       "      <td>Pressure3pm</td>\n",
       "      <td>Atmospheric pressure (hpa) reduced to mean sea...</td>\n",
       "      <td>130432</td>\n",
       "      <td>10.331363</td>\n",
       "      <td>550</td>\n",
       "      <td>977.1</td>\n",
       "      <td>1010.4</td>\n",
       "      <td>1015.2</td>\n",
       "      <td>1020.0</td>\n",
       "      <td>1039.6</td>\n",
       "      <td>1015.255889</td>\n",
       "      <td>7.037414</td>\n",
       "      <td></td>\n",
       "    </tr>\n",
       "    <tr>\n",
       "      <th>12</th>\n",
       "      <td>Cloud9am</td>\n",
       "      <td>Fraction of sky obscured by cloud at 9am. This...</td>\n",
       "      <td>89572</td>\n",
       "      <td>38.421559</td>\n",
       "      <td>11</td>\n",
       "      <td>0.0</td>\n",
       "      <td>1.0</td>\n",
       "      <td>5.0</td>\n",
       "      <td>7.0</td>\n",
       "      <td>9.0</td>\n",
       "      <td>4.447461</td>\n",
       "      <td>2.887159</td>\n",
       "      <td></td>\n",
       "    </tr>\n",
       "    <tr>\n",
       "      <th>13</th>\n",
       "      <td>Cloud3pm</td>\n",
       "      <td>Fraction of sky obscured by cloud (in \"oktas\":...</td>\n",
       "      <td>86102</td>\n",
       "      <td>40.807095</td>\n",
       "      <td>11</td>\n",
       "      <td>0.0</td>\n",
       "      <td>2.0</td>\n",
       "      <td>5.0</td>\n",
       "      <td>7.0</td>\n",
       "      <td>9.0</td>\n",
       "      <td>4.509930</td>\n",
       "      <td>2.720357</td>\n",
       "      <td></td>\n",
       "    </tr>\n",
       "    <tr>\n",
       "      <th>14</th>\n",
       "      <td>Temp9am</td>\n",
       "      <td>Temperature (degrees C) at 9am</td>\n",
       "      <td>143693</td>\n",
       "      <td>1.214767</td>\n",
       "      <td>442</td>\n",
       "      <td>-7.2</td>\n",
       "      <td>12.3</td>\n",
       "      <td>16.7</td>\n",
       "      <td>21.6</td>\n",
       "      <td>40.2</td>\n",
       "      <td>16.990631</td>\n",
       "      <td>6.488753</td>\n",
       "      <td></td>\n",
       "    </tr>\n",
       "    <tr>\n",
       "      <th>15</th>\n",
       "      <td>Temp3pm</td>\n",
       "      <td>Temperature (degrees C) at 3pm</td>\n",
       "      <td>141851</td>\n",
       "      <td>2.481094</td>\n",
       "      <td>503</td>\n",
       "      <td>-5.4</td>\n",
       "      <td>16.6</td>\n",
       "      <td>21.1</td>\n",
       "      <td>26.4</td>\n",
       "      <td>46.7</td>\n",
       "      <td>21.683390</td>\n",
       "      <td>6.936650</td>\n",
       "      <td></td>\n",
       "    </tr>\n",
       "  </tbody>\n",
       "</table>\n",
       "</div>"
      ],
      "text/plain": [
       "          Feature                                              Desc.   Count  \\\n",
       "0         MinTemp         The minimum temperature in degrees celsius  143975   \n",
       "1         MaxTemp         The maximum temperature in degrees celsius  144199   \n",
       "2        Rainfall  The amount of rainfall recorded for the day in mm  142199   \n",
       "3     Evaporation  The so-called Class A pan evaporation (mm) in ...   82670   \n",
       "4        Sunshine  The number of hours of bright sunshine in the ...   75625   \n",
       "5   WindGustSpeed  The speed (km/h) of the strongest wind gust in...  135197   \n",
       "6    WindSpeed9am  Wind speed (km/hr) averaged over 10 minutes pr...  143693   \n",
       "7    WindSpeed3pm  Wind speed (km/hr) averaged over 10 minutes pr...  142398   \n",
       "8     Humidity9am                          Humidity (percent) at 9am  142806   \n",
       "9     Humidity3pm                          Humidity (percent) at 3pm  140953   \n",
       "10    Pressure9am  Atmospheric pressure (hpa) reduced to mean sea...  130395   \n",
       "11    Pressure3pm  Atmospheric pressure (hpa) reduced to mean sea...  130432   \n",
       "12       Cloud9am  Fraction of sky obscured by cloud at 9am. This...   89572   \n",
       "13       Cloud3pm  Fraction of sky obscured by cloud (in \"oktas\":...   86102   \n",
       "14        Temp9am                     Temperature (degrees C) at 9am  143693   \n",
       "15        Temp3pm                     Temperature (degrees C) at 3pm  141851   \n",
       "\n",
       "    % of Missing Card.   Min.      Q1  Median      Q3    Max.         Mean  \\\n",
       "0       1.020899   390   -8.5     7.6    12.0    16.9    33.9    12.194034   \n",
       "1       0.866905   506   -4.8    17.9    22.6    28.2    48.1    23.221348   \n",
       "2       2.241853   682    0.0     0.0     0.0     0.8   371.0     2.360918   \n",
       "3      43.166506   359    0.0     2.6     4.8     7.4   145.0     5.468232   \n",
       "4      48.009762   146    0.0     4.8     8.4    10.6    14.5     7.611178   \n",
       "5       7.055548    68    6.0    31.0    39.0    48.0   135.0    40.035230   \n",
       "6       1.214767    44    0.0     7.0    13.0    19.0   130.0    14.043426   \n",
       "7       2.105046    45    0.0    13.0    19.0    24.0    87.0    18.662657   \n",
       "8       1.824557   102    0.0    57.0    70.0    83.0   100.0    68.880831   \n",
       "9       3.098446   102    0.0    37.0    52.0    66.0   100.0    51.539116   \n",
       "10     10.356799   547  980.5  1012.9  1017.6  1022.4  1041.0  1017.649940   \n",
       "11     10.331363   550  977.1  1010.4  1015.2  1020.0  1039.6  1015.255889   \n",
       "12     38.421559    11    0.0     1.0     5.0     7.0     9.0     4.447461   \n",
       "13     40.807095    11    0.0     2.0     5.0     7.0     9.0     4.509930   \n",
       "14      1.214767   442   -7.2    12.3    16.7    21.6    40.2    16.990631   \n",
       "15      2.481094   503   -5.4    16.6    21.1    26.4    46.7    21.683390   \n",
       "\n",
       "    Std. Dev. Notes  \n",
       "0    6.398495        \n",
       "1    7.119049        \n",
       "2    8.478060        \n",
       "3    4.193704        \n",
       "4    3.785483        \n",
       "5   13.607062        \n",
       "6    8.915375        \n",
       "7    8.809800        \n",
       "8   19.029164        \n",
       "9   20.795902        \n",
       "10   7.106530        \n",
       "11   7.037414        \n",
       "12   2.887159        \n",
       "13   2.720357        \n",
       "14   6.488753        \n",
       "15   6.936650        "
      ]
     },
     "execution_count": 18,
     "metadata": {},
     "output_type": "execute_result"
    }
   ],
   "source": [
    "dqr_df_cont"
   ]
  },
  {
   "cell_type": "markdown",
   "id": "cc1e7a0d",
   "metadata": {},
   "source": [
    "# Handling of Missing Values and Outliers"
   ]
  },
  {
   "cell_type": "code",
   "execution_count": 19,
   "id": "4ca5f2e0",
   "metadata": {},
   "outputs": [
    {
     "data": {
      "text/plain": [
       "Date                0\n",
       "Location            0\n",
       "WindGustDir     10326\n",
       "WindDir9am      10566\n",
       "WindDir3pm       4228\n",
       "RainToday        3261\n",
       "RainTomorrow     3267\n",
       "dtype: int64"
      ]
     },
     "execution_count": 19,
     "metadata": {},
     "output_type": "execute_result"
    }
   ],
   "source": [
    "# Checking for Missing Values before Imputation in Categorical Features\n",
    "df[cat_var].isnull().sum()"
   ]
  },
  {
   "cell_type": "code",
   "execution_count": 20,
   "id": "16b01976",
   "metadata": {
    "colab": {
     "base_uri": "https://localhost:8080/",
     "height": 661
    },
    "id": "16b01976",
    "outputId": "912d2996-fe9c-4e0d-fd0e-21bbe8dd69ea"
   },
   "outputs": [
    {
     "data": {
      "text/html": [
       "<div>\n",
       "<style scoped>\n",
       "    .dataframe tbody tr th:only-of-type {\n",
       "        vertical-align: middle;\n",
       "    }\n",
       "\n",
       "    .dataframe tbody tr th {\n",
       "        vertical-align: top;\n",
       "    }\n",
       "\n",
       "    .dataframe thead th {\n",
       "        text-align: right;\n",
       "    }\n",
       "</style>\n",
       "<table border=\"1\" class=\"dataframe\">\n",
       "  <thead>\n",
       "    <tr style=\"text-align: right;\">\n",
       "      <th></th>\n",
       "      <th>Date</th>\n",
       "      <th>Location</th>\n",
       "      <th>MinTemp</th>\n",
       "      <th>MaxTemp</th>\n",
       "      <th>Rainfall</th>\n",
       "      <th>Evaporation</th>\n",
       "      <th>Sunshine</th>\n",
       "      <th>WindGustDir</th>\n",
       "      <th>WindGustSpeed</th>\n",
       "      <th>WindDir9am</th>\n",
       "      <th>...</th>\n",
       "      <th>Humidity9am</th>\n",
       "      <th>Humidity3pm</th>\n",
       "      <th>Pressure9am</th>\n",
       "      <th>Pressure3pm</th>\n",
       "      <th>Cloud9am</th>\n",
       "      <th>Cloud3pm</th>\n",
       "      <th>Temp9am</th>\n",
       "      <th>Temp3pm</th>\n",
       "      <th>RainToday</th>\n",
       "      <th>RainTomorrow</th>\n",
       "    </tr>\n",
       "  </thead>\n",
       "  <tbody>\n",
       "    <tr>\n",
       "      <th>0</th>\n",
       "      <td>2008-12-01</td>\n",
       "      <td>Albury</td>\n",
       "      <td>13.4</td>\n",
       "      <td>22.9</td>\n",
       "      <td>0.6</td>\n",
       "      <td>NaN</td>\n",
       "      <td>NaN</td>\n",
       "      <td>W</td>\n",
       "      <td>44.0</td>\n",
       "      <td>W</td>\n",
       "      <td>...</td>\n",
       "      <td>71.0</td>\n",
       "      <td>22.0</td>\n",
       "      <td>1007.7</td>\n",
       "      <td>1007.1</td>\n",
       "      <td>8.0</td>\n",
       "      <td>NaN</td>\n",
       "      <td>16.9</td>\n",
       "      <td>21.8</td>\n",
       "      <td>No</td>\n",
       "      <td>No</td>\n",
       "    </tr>\n",
       "    <tr>\n",
       "      <th>1</th>\n",
       "      <td>2008-12-02</td>\n",
       "      <td>Albury</td>\n",
       "      <td>7.4</td>\n",
       "      <td>25.1</td>\n",
       "      <td>0.0</td>\n",
       "      <td>NaN</td>\n",
       "      <td>NaN</td>\n",
       "      <td>WNW</td>\n",
       "      <td>44.0</td>\n",
       "      <td>NNW</td>\n",
       "      <td>...</td>\n",
       "      <td>44.0</td>\n",
       "      <td>25.0</td>\n",
       "      <td>1010.6</td>\n",
       "      <td>1007.8</td>\n",
       "      <td>NaN</td>\n",
       "      <td>NaN</td>\n",
       "      <td>17.2</td>\n",
       "      <td>24.3</td>\n",
       "      <td>No</td>\n",
       "      <td>No</td>\n",
       "    </tr>\n",
       "    <tr>\n",
       "      <th>2</th>\n",
       "      <td>2008-12-03</td>\n",
       "      <td>Albury</td>\n",
       "      <td>12.9</td>\n",
       "      <td>25.7</td>\n",
       "      <td>0.0</td>\n",
       "      <td>NaN</td>\n",
       "      <td>NaN</td>\n",
       "      <td>WSW</td>\n",
       "      <td>46.0</td>\n",
       "      <td>W</td>\n",
       "      <td>...</td>\n",
       "      <td>38.0</td>\n",
       "      <td>30.0</td>\n",
       "      <td>1007.6</td>\n",
       "      <td>1008.7</td>\n",
       "      <td>NaN</td>\n",
       "      <td>2.0</td>\n",
       "      <td>21.0</td>\n",
       "      <td>23.2</td>\n",
       "      <td>No</td>\n",
       "      <td>No</td>\n",
       "    </tr>\n",
       "    <tr>\n",
       "      <th>3</th>\n",
       "      <td>2008-12-04</td>\n",
       "      <td>Albury</td>\n",
       "      <td>9.2</td>\n",
       "      <td>28.0</td>\n",
       "      <td>0.0</td>\n",
       "      <td>NaN</td>\n",
       "      <td>NaN</td>\n",
       "      <td>NE</td>\n",
       "      <td>24.0</td>\n",
       "      <td>SE</td>\n",
       "      <td>...</td>\n",
       "      <td>45.0</td>\n",
       "      <td>16.0</td>\n",
       "      <td>1017.6</td>\n",
       "      <td>1012.8</td>\n",
       "      <td>NaN</td>\n",
       "      <td>NaN</td>\n",
       "      <td>18.1</td>\n",
       "      <td>26.5</td>\n",
       "      <td>No</td>\n",
       "      <td>No</td>\n",
       "    </tr>\n",
       "    <tr>\n",
       "      <th>4</th>\n",
       "      <td>2008-12-05</td>\n",
       "      <td>Albury</td>\n",
       "      <td>17.5</td>\n",
       "      <td>32.3</td>\n",
       "      <td>1.0</td>\n",
       "      <td>NaN</td>\n",
       "      <td>NaN</td>\n",
       "      <td>W</td>\n",
       "      <td>41.0</td>\n",
       "      <td>ENE</td>\n",
       "      <td>...</td>\n",
       "      <td>82.0</td>\n",
       "      <td>33.0</td>\n",
       "      <td>1010.8</td>\n",
       "      <td>1006.0</td>\n",
       "      <td>7.0</td>\n",
       "      <td>8.0</td>\n",
       "      <td>17.8</td>\n",
       "      <td>29.7</td>\n",
       "      <td>No</td>\n",
       "      <td>No</td>\n",
       "    </tr>\n",
       "    <tr>\n",
       "      <th>...</th>\n",
       "      <td>...</td>\n",
       "      <td>...</td>\n",
       "      <td>...</td>\n",
       "      <td>...</td>\n",
       "      <td>...</td>\n",
       "      <td>...</td>\n",
       "      <td>...</td>\n",
       "      <td>...</td>\n",
       "      <td>...</td>\n",
       "      <td>...</td>\n",
       "      <td>...</td>\n",
       "      <td>...</td>\n",
       "      <td>...</td>\n",
       "      <td>...</td>\n",
       "      <td>...</td>\n",
       "      <td>...</td>\n",
       "      <td>...</td>\n",
       "      <td>...</td>\n",
       "      <td>...</td>\n",
       "      <td>...</td>\n",
       "      <td>...</td>\n",
       "    </tr>\n",
       "    <tr>\n",
       "      <th>145455</th>\n",
       "      <td>2017-06-21</td>\n",
       "      <td>Uluru</td>\n",
       "      <td>2.8</td>\n",
       "      <td>23.4</td>\n",
       "      <td>0.0</td>\n",
       "      <td>NaN</td>\n",
       "      <td>NaN</td>\n",
       "      <td>E</td>\n",
       "      <td>31.0</td>\n",
       "      <td>SE</td>\n",
       "      <td>...</td>\n",
       "      <td>51.0</td>\n",
       "      <td>24.0</td>\n",
       "      <td>1024.6</td>\n",
       "      <td>1020.3</td>\n",
       "      <td>NaN</td>\n",
       "      <td>NaN</td>\n",
       "      <td>10.1</td>\n",
       "      <td>22.4</td>\n",
       "      <td>No</td>\n",
       "      <td>No</td>\n",
       "    </tr>\n",
       "    <tr>\n",
       "      <th>145456</th>\n",
       "      <td>2017-06-22</td>\n",
       "      <td>Uluru</td>\n",
       "      <td>3.6</td>\n",
       "      <td>25.3</td>\n",
       "      <td>0.0</td>\n",
       "      <td>NaN</td>\n",
       "      <td>NaN</td>\n",
       "      <td>NNW</td>\n",
       "      <td>22.0</td>\n",
       "      <td>SE</td>\n",
       "      <td>...</td>\n",
       "      <td>56.0</td>\n",
       "      <td>21.0</td>\n",
       "      <td>1023.5</td>\n",
       "      <td>1019.1</td>\n",
       "      <td>NaN</td>\n",
       "      <td>NaN</td>\n",
       "      <td>10.9</td>\n",
       "      <td>24.5</td>\n",
       "      <td>No</td>\n",
       "      <td>No</td>\n",
       "    </tr>\n",
       "    <tr>\n",
       "      <th>145457</th>\n",
       "      <td>2017-06-23</td>\n",
       "      <td>Uluru</td>\n",
       "      <td>5.4</td>\n",
       "      <td>26.9</td>\n",
       "      <td>0.0</td>\n",
       "      <td>NaN</td>\n",
       "      <td>NaN</td>\n",
       "      <td>N</td>\n",
       "      <td>37.0</td>\n",
       "      <td>SE</td>\n",
       "      <td>...</td>\n",
       "      <td>53.0</td>\n",
       "      <td>24.0</td>\n",
       "      <td>1021.0</td>\n",
       "      <td>1016.8</td>\n",
       "      <td>NaN</td>\n",
       "      <td>NaN</td>\n",
       "      <td>12.5</td>\n",
       "      <td>26.1</td>\n",
       "      <td>No</td>\n",
       "      <td>No</td>\n",
       "    </tr>\n",
       "    <tr>\n",
       "      <th>145458</th>\n",
       "      <td>2017-06-24</td>\n",
       "      <td>Uluru</td>\n",
       "      <td>7.8</td>\n",
       "      <td>27.0</td>\n",
       "      <td>0.0</td>\n",
       "      <td>NaN</td>\n",
       "      <td>NaN</td>\n",
       "      <td>SE</td>\n",
       "      <td>28.0</td>\n",
       "      <td>SSE</td>\n",
       "      <td>...</td>\n",
       "      <td>51.0</td>\n",
       "      <td>24.0</td>\n",
       "      <td>1019.4</td>\n",
       "      <td>1016.5</td>\n",
       "      <td>3.0</td>\n",
       "      <td>2.0</td>\n",
       "      <td>15.1</td>\n",
       "      <td>26.0</td>\n",
       "      <td>No</td>\n",
       "      <td>No</td>\n",
       "    </tr>\n",
       "    <tr>\n",
       "      <th>145459</th>\n",
       "      <td>2017-06-25</td>\n",
       "      <td>Uluru</td>\n",
       "      <td>14.9</td>\n",
       "      <td>NaN</td>\n",
       "      <td>0.0</td>\n",
       "      <td>NaN</td>\n",
       "      <td>NaN</td>\n",
       "      <td>W</td>\n",
       "      <td>NaN</td>\n",
       "      <td>ESE</td>\n",
       "      <td>...</td>\n",
       "      <td>62.0</td>\n",
       "      <td>36.0</td>\n",
       "      <td>1020.2</td>\n",
       "      <td>1017.9</td>\n",
       "      <td>8.0</td>\n",
       "      <td>8.0</td>\n",
       "      <td>15.0</td>\n",
       "      <td>20.9</td>\n",
       "      <td>No</td>\n",
       "      <td>No</td>\n",
       "    </tr>\n",
       "  </tbody>\n",
       "</table>\n",
       "<p>145460 rows × 23 columns</p>\n",
       "</div>"
      ],
      "text/plain": [
       "              Date Location  MinTemp  MaxTemp  Rainfall  Evaporation  \\\n",
       "0       2008-12-01   Albury     13.4     22.9       0.6          NaN   \n",
       "1       2008-12-02   Albury      7.4     25.1       0.0          NaN   \n",
       "2       2008-12-03   Albury     12.9     25.7       0.0          NaN   \n",
       "3       2008-12-04   Albury      9.2     28.0       0.0          NaN   \n",
       "4       2008-12-05   Albury     17.5     32.3       1.0          NaN   \n",
       "...            ...      ...      ...      ...       ...          ...   \n",
       "145455  2017-06-21    Uluru      2.8     23.4       0.0          NaN   \n",
       "145456  2017-06-22    Uluru      3.6     25.3       0.0          NaN   \n",
       "145457  2017-06-23    Uluru      5.4     26.9       0.0          NaN   \n",
       "145458  2017-06-24    Uluru      7.8     27.0       0.0          NaN   \n",
       "145459  2017-06-25    Uluru     14.9      NaN       0.0          NaN   \n",
       "\n",
       "        Sunshine WindGustDir  WindGustSpeed WindDir9am  ... Humidity9am  \\\n",
       "0            NaN           W           44.0          W  ...        71.0   \n",
       "1            NaN         WNW           44.0        NNW  ...        44.0   \n",
       "2            NaN         WSW           46.0          W  ...        38.0   \n",
       "3            NaN          NE           24.0         SE  ...        45.0   \n",
       "4            NaN           W           41.0        ENE  ...        82.0   \n",
       "...          ...         ...            ...        ...  ...         ...   \n",
       "145455       NaN           E           31.0         SE  ...        51.0   \n",
       "145456       NaN         NNW           22.0         SE  ...        56.0   \n",
       "145457       NaN           N           37.0         SE  ...        53.0   \n",
       "145458       NaN          SE           28.0        SSE  ...        51.0   \n",
       "145459       NaN           W            NaN        ESE  ...        62.0   \n",
       "\n",
       "        Humidity3pm  Pressure9am  Pressure3pm  Cloud9am  Cloud3pm  Temp9am  \\\n",
       "0              22.0       1007.7       1007.1       8.0       NaN     16.9   \n",
       "1              25.0       1010.6       1007.8       NaN       NaN     17.2   \n",
       "2              30.0       1007.6       1008.7       NaN       2.0     21.0   \n",
       "3              16.0       1017.6       1012.8       NaN       NaN     18.1   \n",
       "4              33.0       1010.8       1006.0       7.0       8.0     17.8   \n",
       "...             ...          ...          ...       ...       ...      ...   \n",
       "145455         24.0       1024.6       1020.3       NaN       NaN     10.1   \n",
       "145456         21.0       1023.5       1019.1       NaN       NaN     10.9   \n",
       "145457         24.0       1021.0       1016.8       NaN       NaN     12.5   \n",
       "145458         24.0       1019.4       1016.5       3.0       2.0     15.1   \n",
       "145459         36.0       1020.2       1017.9       8.0       8.0     15.0   \n",
       "\n",
       "        Temp3pm  RainToday  RainTomorrow  \n",
       "0          21.8         No            No  \n",
       "1          24.3         No            No  \n",
       "2          23.2         No            No  \n",
       "3          26.5         No            No  \n",
       "4          29.7         No            No  \n",
       "...         ...        ...           ...  \n",
       "145455     22.4         No            No  \n",
       "145456     24.5         No            No  \n",
       "145457     26.1         No            No  \n",
       "145458     26.0         No            No  \n",
       "145459     20.9         No            No  \n",
       "\n",
       "[145460 rows x 23 columns]"
      ]
     },
     "execution_count": 20,
     "metadata": {},
     "output_type": "execute_result"
    }
   ],
   "source": [
    "# Missing value Imputation in Categorical Features using Mode (Mode Imputation)\n",
    "df['WindGustDir']= df['WindGustDir'].fillna( df['WindGustDir'].mode()[0])\n",
    "df['WindDir9am']= df['WindDir9am'].fillna( df['WindDir9am'].mode()[0])\n",
    "df['WindDir3pm']= df['WindDir3pm'].fillna( df['WindDir3pm'].mode()[0])\n",
    "df['RainToday']= df['RainToday'].fillna( df['RainToday'].mode()[0])\n",
    "df['RainTomorrow']= df['RainTomorrow'].fillna( df['RainTomorrow'].mode()[0])\n",
    "df"
   ]
  },
  {
   "cell_type": "code",
   "execution_count": 21,
   "id": "c15f9049",
   "metadata": {
    "colab": {
     "base_uri": "https://localhost:8080/"
    },
    "id": "c15f9049",
    "outputId": "71534ecc-df28-40a2-8898-41091e236a60"
   },
   "outputs": [
    {
     "data": {
      "text/plain": [
       "Date            0\n",
       "Location        0\n",
       "WindGustDir     0\n",
       "WindDir9am      0\n",
       "WindDir3pm      0\n",
       "RainToday       0\n",
       "RainTomorrow    0\n",
       "dtype: int64"
      ]
     },
     "execution_count": 21,
     "metadata": {},
     "output_type": "execute_result"
    }
   ],
   "source": [
    "# Checking for Missing Values after Imputation in Categorical Features\n",
    "df[cat_var].isnull().sum()"
   ]
  },
  {
   "cell_type": "code",
   "execution_count": 22,
   "id": "07c4e291",
   "metadata": {},
   "outputs": [
    {
     "data": {
      "text/plain": [
       "MinTemp           1485\n",
       "MaxTemp           1261\n",
       "Rainfall          3261\n",
       "Evaporation      62790\n",
       "Sunshine         69835\n",
       "WindGustSpeed    10263\n",
       "WindSpeed9am      1767\n",
       "WindSpeed3pm      3062\n",
       "Humidity9am       2654\n",
       "Humidity3pm       4507\n",
       "Pressure9am      15065\n",
       "Pressure3pm      15028\n",
       "Cloud9am         55888\n",
       "Cloud3pm         59358\n",
       "Temp9am           1767\n",
       "Temp3pm           3609\n",
       "dtype: int64"
      ]
     },
     "execution_count": 22,
     "metadata": {},
     "output_type": "execute_result"
    }
   ],
   "source": [
    "#Checking for Missing Values before Imputation in Continuous Features\n",
    "df[cont_var].isnull().sum()"
   ]
  },
  {
   "cell_type": "code",
   "execution_count": 23,
   "id": "8ad369eb",
   "metadata": {},
   "outputs": [],
   "source": [
    "#Imputing Missing Values in Continuous Variables with Median (Median Imputation)\n",
    "\n",
    "for col in cont_var:\n",
    "    col_median=df[col].median()\n",
    "    df[col].fillna(col_median, inplace=True) "
   ]
  },
  {
   "cell_type": "code",
   "execution_count": 24,
   "id": "cdda6d1e",
   "metadata": {},
   "outputs": [
    {
     "data": {
      "text/plain": [
       "MinTemp          0\n",
       "MaxTemp          0\n",
       "Rainfall         0\n",
       "Evaporation      0\n",
       "Sunshine         0\n",
       "WindGustSpeed    0\n",
       "WindSpeed9am     0\n",
       "WindSpeed3pm     0\n",
       "Humidity9am      0\n",
       "Humidity3pm      0\n",
       "Pressure9am      0\n",
       "Pressure3pm      0\n",
       "Cloud9am         0\n",
       "Cloud3pm         0\n",
       "Temp9am          0\n",
       "Temp3pm          0\n",
       "dtype: int64"
      ]
     },
     "execution_count": 24,
     "metadata": {},
     "output_type": "execute_result"
    }
   ],
   "source": [
    "#Checking for Missing Values before Imputation in Continuous Features\n",
    "df[cont_var].isnull().sum()"
   ]
  },
  {
   "cell_type": "code",
   "execution_count": 25,
   "id": "DohVhGOmqOS5",
   "metadata": {
    "colab": {
     "base_uri": "https://localhost:8080/",
     "height": 1000
    },
    "id": "DohVhGOmqOS5",
    "outputId": "fd88dbc8-9c55-4c82-8e82-659771e194fc"
   },
   "outputs": [
    {
     "data": {
      "image/png": "[encoded data removed]",
      "text/plain": [
       "<Figure size 432x288 with 1 Axes>"
      ]
     },
     "metadata": {
      "needs_background": "light"
     },
     "output_type": "display_data"
    },
    {
     "data": {
      "image/png": "[encoded data removed]",
      "text/plain": [
       "<Figure size 432x288 with 1 Axes>"
      ]
     },
     "metadata": {
      "needs_background": "light"
     },
     "output_type": "display_data"
    },
    {
     "data": {
      "image/png": "[encoded data removed]",
      "text/plain": [
       "<Figure size 432x288 with 1 Axes>"
      ]
     },
     "metadata": {
      "needs_background": "light"
     },
     "output_type": "display_data"
    },
    {
     "data": {
      "image/png": "[encoded data removed]",
      "text/plain": [
       "<Figure size 432x288 with 1 Axes>"
      ]
     },
     "metadata": {
      "needs_background": "light"
     },
     "output_type": "display_data"
    },
    {
     "data": {
      "image/png": "[encoded data removed]",
      "text/plain": [
       "<Figure size 432x288 with 1 Axes>"
      ]
     },
     "metadata": {
      "needs_background": "light"
     },
     "output_type": "display_data"
    },
    {
     "data": {
      "image/png": "[encoded data removed]",
      "text/plain": [
       "<Figure size 432x288 with 1 Axes>"
      ]
     },
     "metadata": {
      "needs_background": "light"
     },
     "output_type": "display_data"
    },
    {
     "data": {
      "image/png": "[encoded data removed]",
      "text/plain": [
       "<Figure size 432x288 with 1 Axes>"
      ]
     },
     "metadata": {
      "needs_background": "light"
     },
     "output_type": "display_data"
    },
    {
     "data": {
      "image/png": "[encoded data removed]",
      "text/plain": [
       "<Figure size 432x288 with 1 Axes>"
      ]
     },
     "metadata": {
      "needs_background": "light"
     },
     "output_type": "display_data"
    },
    {
     "data": {
      "image/png": "[encoded data removed]",
      "text/plain": [
       "<Figure size 432x288 with 1 Axes>"
      ]
     },
     "metadata": {
      "needs_background": "light"
     },
     "output_type": "display_data"
    },
    {
     "data": {
      "image/png": "[encoded data removed]",
      "text/plain": [
       "<Figure size 432x288 with 1 Axes>"
      ]
     },
     "metadata": {
      "needs_background": "light"
     },
     "output_type": "display_data"
    },
    {
     "data": {
      "image/png": "[encoded data removed]",
      "text/plain": [
       "<Figure size 432x288 with 1 Axes>"
      ]
     },
     "metadata": {
      "needs_background": "light"
     },
     "output_type": "display_data"
    },
    {
     "data": {
      "image/png": "[encoded data removed]",
      "text/plain": [
       "<Figure size 432x288 with 1 Axes>"
      ]
     },
     "metadata": {
      "needs_background": "light"
     },
     "output_type": "display_data"
    },
    {
     "data": {
      "image/png": "[encoded data removed]",
      "text/plain": [
       "<Figure size 432x288 with 1 Axes>"
      ]
     },
     "metadata": {
      "needs_background": "light"
     },
     "output_type": "display_data"
    },
    {
     "data": {
      "image/png": "[encoded data removed]",
      "text/plain": [
       "<Figure size 432x288 with 1 Axes>"
      ]
     },
     "metadata": {
      "needs_background": "light"
     },
     "output_type": "display_data"
    },
    {
     "data": {
      "image/png": "[encoded data removed]",
      "text/plain": [
       "<Figure size 432x288 with 1 Axes>"
      ]
     },
     "metadata": {
      "needs_background": "light"
     },
     "output_type": "display_data"
    },
    {
     "data": {
      "image/png": "[encoded data removed]",
      "text/plain": [
       "<Figure size 432x288 with 1 Axes>"
      ]
     },
     "metadata": {
      "needs_background": "light"
     },
     "output_type": "display_data"
    }
   ],
   "source": [
    "# Visualizing Continuous Features to check for Outliers\n",
    "for x in df[cont_var]:\n",
    "  plt.hist(df[x], bins = 100, edgecolor='black')\n",
    "  plt.xlabel(x)\n",
    "  plt.ylabel(\"Counts\")\n",
    "  plt.show()"
   ]
  },
  {
   "cell_type": "code",
   "execution_count": 26,
   "id": "c0b4cbf3",
   "metadata": {
    "colab": {
     "base_uri": "https://localhost:8080/"
    },
    "id": "c0b4cbf3",
    "outputId": "d3589ec5-6ce5-49fb-d766-f1265912edfb"
   },
   "outputs": [
    {
     "name": "stdout",
     "output_type": "stream",
     "text": [
      "        MinTemp   MaxTemp  Rainfall  Evaporation  Sunshine  WindGustSpeed  \\\n",
      "count  145460.0  145460.0  145460.0     145460.0  145460.0       145460.0   \n",
      "mean       12.0      23.0       2.0          5.0       8.0           40.0   \n",
      "std         6.0       7.0       8.0          3.0       3.0           13.0   \n",
      "min        -8.0      -5.0       0.0          0.0       0.0            6.0   \n",
      "25%         8.0      18.0       0.0          4.0       8.0           31.0   \n",
      "50%        12.0      23.0       0.0          5.0       8.0           39.0   \n",
      "75%        17.0      28.0       1.0          5.0       9.0           46.0   \n",
      "max        34.0      48.0     371.0        145.0      14.0          135.0   \n",
      "\n",
      "       WindSpeed9am  WindSpeed3pm  Humidity9am  Humidity3pm  Pressure9am  \\\n",
      "count      145460.0      145460.0     145460.0     145460.0     145460.0   \n",
      "mean           14.0          19.0         69.0         52.0       1018.0   \n",
      "std             9.0           9.0         19.0         20.0          7.0   \n",
      "min             0.0           0.0          0.0          0.0        980.0   \n",
      "25%             7.0          13.0         57.0         37.0       1014.0   \n",
      "50%            13.0          19.0         70.0         52.0       1018.0   \n",
      "75%            19.0          24.0         83.0         65.0       1022.0   \n",
      "max           130.0          87.0        100.0        100.0       1041.0   \n",
      "\n",
      "       Pressure3pm  Cloud9am  Cloud3pm   Temp9am   Temp3pm  \n",
      "count     145460.0  145460.0  145460.0  145460.0  145460.0  \n",
      "mean        1015.0       5.0       5.0      17.0      22.0  \n",
      "std            7.0       2.0       2.0       6.0       7.0  \n",
      "min          977.0       0.0       0.0      -7.0      -5.0  \n",
      "25%         1011.0       3.0       4.0      12.0      17.0  \n",
      "50%         1015.0       5.0       5.0      17.0      21.0  \n",
      "75%         1019.0       6.0       6.0      22.0      26.0  \n",
      "max         1040.0       9.0       9.0      40.0      47.0   2\n"
     ]
    }
   ],
   "source": [
    "# Checking for Outliers\n",
    "print(round(df[cont_var].describe()),2)"
   ]
  },
  {
   "cell_type": "code",
   "execution_count": 27,
   "id": "2d58efae",
   "metadata": {
    "colab": {
     "base_uri": "https://localhost:8080/",
     "height": 610
    },
    "id": "2d58efae",
    "outputId": "54e74a7c-3a8d-4035-a0e3-c97f6c89f8d1"
   },
   "outputs": [
    {
     "data": {
      "text/plain": [
       "Text(0, 0.5, 'WindSpeed3pm')"
      ]
     },
     "execution_count": 27,
     "metadata": {},
     "output_type": "execute_result"
    },
    {
     "data": {
      "image/png": "[encoded data removed]",
      "text/plain": [
       "<Figure size 864x864 with 4 Axes>"
      ]
     },
     "metadata": {
      "needs_background": "light"
     },
     "output_type": "display_data"
    }
   ],
   "source": [
    "#Visualizing outliers\n",
    "plt.figure(figsize=(12,12))\n",
    "plt.subplot(2, 2, 1)\n",
    "fig = df.boxplot(column='Rainfall')\n",
    "fig.set_title('')\n",
    "fig.set_ylabel('Rainfall')\n",
    "\n",
    "plt.subplot(2, 2, 2)\n",
    "fig = df.boxplot(column='WindSpeed9am')\n",
    "fig.set_title('')\n",
    "fig.set_ylabel('WindSpeed9am')\n",
    "\n",
    "plt.subplot(2, 2, 3)\n",
    "fig = df.boxplot(column='Evaporation')\n",
    "fig.set_title('')\n",
    "fig.set_ylabel('Evaporation')\n",
    "\n",
    "plt.subplot(2, 2, 4)\n",
    "fig = df.boxplot(column='WindSpeed3pm')\n",
    "fig.set_title('')\n",
    "fig.set_ylabel('WindSpeed3pm')"
   ]
  },
  {
   "cell_type": "code",
   "execution_count": 28,
   "id": "db0ea904",
   "metadata": {
    "colab": {
     "base_uri": "https://localhost:8080/"
    },
    "id": "db0ea904",
    "outputId": "21db380f-3520-430d-f5e5-543b47cbe3c0"
   },
   "outputs": [
    {
     "name": "stdout",
     "output_type": "stream",
     "text": [
      "<class 'pandas.core.frame.DataFrame'>\n",
      "RangeIndex: 145460 entries, 0 to 145459\n",
      "Data columns (total 4 columns):\n",
      " #   Column        Non-Null Count   Dtype  \n",
      "---  ------        --------------   -----  \n",
      " 0   Rainfall      145460 non-null  float64\n",
      " 1   Evaporation   145460 non-null  float64\n",
      " 2   WindSpeed9am  145460 non-null  float64\n",
      " 3   WindSpeed3pm  145460 non-null  float64\n",
      "dtypes: float64(4)\n",
      "memory usage: 4.4 MB\n"
     ]
    }
   ],
   "source": [
    "df_continuous=df[[\"Rainfall\",\"Evaporation\",\"WindSpeed9am\",\"WindSpeed3pm\"]]\n",
    "df_continuous.info()"
   ]
  },
  {
   "cell_type": "code",
   "execution_count": 29,
   "id": "c6c9ec1e",
   "metadata": {
    "colab": {
     "base_uri": "https://localhost:8080/"
    },
    "id": "c6c9ec1e",
    "outputId": "ae9550df-93bb-474f-81ab-3404f0c0a225"
   },
   "outputs": [
    {
     "name": "stdout",
     "output_type": "stream",
     "text": [
      "Rainfall IQR range is: -1.7999999999999998 and 2.4\n",
      "Evaporation IQR range is: 0.39999999999999947 and 8.8\n",
      "WindSpeed9am IQR range is: 0.39999999999999947 and 55.0\n",
      "WindSpeed3pm IQR range is: 0.39999999999999947 and 57.0\n"
     ]
    }
   ],
   "source": [
    "#Identifying the Outliers\n",
    "IQR = df.Rainfall.quantile(0.75) - df.Rainfall.quantile(0.25)\n",
    "Low_bound = df.Rainfall.quantile(0.25) - (IQR * 3)\n",
    "Upper_bound = df.Rainfall.quantile(0.75) + (IQR * 3)\n",
    "print('Rainfall IQR range is: {lowerboundary} and {upperboundary}'.format(lowerboundary=Low_bound, upperboundary=Upper_bound))\n",
    "\n",
    "IQR = df.Evaporation.quantile(0.75) - df.Evaporation.quantile(0.25)\n",
    "Low_bound = df.Evaporation.quantile(0.25) - (IQR * 3)\n",
    "Upper_bound = df.Evaporation.quantile(0.75) + (IQR * 3)\n",
    "print('Evaporation IQR range is: {lowerboundary} and {upperboundary}'.format(lowerboundary=Low_bound, upperboundary=Upper_bound))\n",
    "\n",
    "IQR = df.WindSpeed9am.quantile(0.75) - df.WindSpeed9am.quantile(0.25)\n",
    "Lowe_bound = df.WindSpeed9am.quantile(0.25) - (IQR * 3)\n",
    "Upper_bound = df.WindSpeed9am.quantile(0.75) + (IQR * 3)\n",
    "print('WindSpeed9am IQR range is: {lowerboundary} and {upperboundary}'.format(lowerboundary=Low_bound, upperboundary=Upper_bound))\n",
    "\n",
    "IQR = df.WindSpeed3pm.quantile(0.75) - df.WindSpeed3pm.quantile(0.25)\n",
    "Lower_bound = df.WindSpeed3pm.quantile(0.25) - (IQR * 3)\n",
    "Upper_bound = df.WindSpeed3pm.quantile(0.75) + (IQR * 3)\n",
    "print('WindSpeed3pm IQR range is: {lowerboundary} and {upperboundary}'.format(lowerboundary=Low_bound, upperboundary=Upper_bound))"
   ]
  },
  {
   "cell_type": "code",
   "execution_count": 30,
   "id": "qCcIe-Ro2IvN",
   "metadata": {
    "id": "qCcIe-Ro2IvN"
   },
   "outputs": [],
   "source": [
    "# Clamping the Outliers to the Upper and Lower bounds as calculated by IQR method above\n",
    "df['Rainfall'].clip(upper = 3.2, inplace = True)\n",
    "df['Rainfall'].clip(lower = -2.4000000000000004, inplace = True)\n",
    "\n",
    "df['Evaporation'].clip(upper = 21.800000000000004, inplace = True)\n",
    "df['Evaporation'].clip(lower = -11.800000000000002, inplace = True)\n",
    "\n",
    "df['WindSpeed9am'].clip(upper = 55.0, inplace = True)\n",
    "df['WindSpeed9am'].clip(lower = -11.800000000000002, inplace = True)\n",
    "\n",
    "df['WindSpeed3pm'].clip(upper = 57.0, inplace = True)\n",
    "df['WindSpeed3pm'].clip(lower = -11.800000000000002, inplace = True)\n"
   ]
  },
  {
   "cell_type": "code",
   "execution_count": 31,
   "id": "xXUec7dl4Zu6",
   "metadata": {
    "colab": {
     "base_uri": "https://localhost:8080/",
     "height": 1000
    },
    "id": "xXUec7dl4Zu6",
    "outputId": "87189dc7-3087-4717-b9f0-7202c95a823d"
   },
   "outputs": [
    {
     "data": {
      "image/png": "[encoded data removed]",
      "text/plain": [
       "<Figure size 432x288 with 1 Axes>"
      ]
     },
     "metadata": {
      "needs_background": "light"
     },
     "output_type": "display_data"
    },
    {
     "data": {
      "image/png": "[encoded data removed]",
      "text/plain": [
       "<Figure size 432x288 with 1 Axes>"
      ]
     },
     "metadata": {
      "needs_background": "light"
     },
     "output_type": "display_data"
    },
    {
     "data": {
      "image/png": "[encoded data removed]",
      "text/plain": [
       "<Figure size 432x288 with 1 Axes>"
      ]
     },
     "metadata": {
      "needs_background": "light"
     },
     "output_type": "display_data"
    },
    {
     "data": {
      "image/png": "[encoded data removed]",
      "text/plain": [
       "<Figure size 432x288 with 1 Axes>"
      ]
     },
     "metadata": {
      "needs_background": "light"
     },
     "output_type": "display_data"
    },
    {
     "data": {
      "image/png": "[encoded data removed]",
      "text/plain": [
       "<Figure size 432x288 with 1 Axes>"
      ]
     },
     "metadata": {
      "needs_background": "light"
     },
     "output_type": "display_data"
    },
    {
     "data": {
      "image/png": "[encoded data removed]",
      "text/plain": [
       "<Figure size 432x288 with 1 Axes>"
      ]
     },
     "metadata": {
      "needs_background": "light"
     },
     "output_type": "display_data"
    },
    {
     "data": {
      "image/png": "[encoded data removed]",
      "text/plain": [
       "<Figure size 432x288 with 1 Axes>"
      ]
     },
     "metadata": {
      "needs_background": "light"
     },
     "output_type": "display_data"
    },
    {
     "data": {
      "image/png": "[encoded data removed]",
      "text/plain": [
       "<Figure size 432x288 with 1 Axes>"
      ]
     },
     "metadata": {
      "needs_background": "light"
     },
     "output_type": "display_data"
    },
    {
     "data": {
      "image/png": "[encoded data removed]",
      "text/plain": [
       "<Figure size 432x288 with 1 Axes>"
      ]
     },
     "metadata": {
      "needs_background": "light"
     },
     "output_type": "display_data"
    },
    {
     "data": {
      "image/png": "[encoded data removed]",
      "text/plain": [
       "<Figure size 432x288 with 1 Axes>"
      ]
     },
     "metadata": {
      "needs_background": "light"
     },
     "output_type": "display_data"
    },
    {
     "data": {
      "image/png": "[encoded data removed]",
      "text/plain": [
       "<Figure size 432x288 with 1 Axes>"
      ]
     },
     "metadata": {
      "needs_background": "light"
     },
     "output_type": "display_data"
    },
    {
     "data": {
      "image/png": "[encoded data removed]",
      "text/plain": [
       "<Figure size 432x288 with 1 Axes>"
      ]
     },
     "metadata": {
      "needs_background": "light"
     },
     "output_type": "display_data"
    },
    {
     "data": {
      "image/png": "[encoded data removed]",
      "text/plain": [
       "<Figure size 432x288 with 1 Axes>"
      ]
     },
     "metadata": {
      "needs_background": "light"
     },
     "output_type": "display_data"
    },
    {
     "data": {
      "image/png": "[encoded data removed]",
      "text/plain": [
       "<Figure size 432x288 with 1 Axes>"
      ]
     },
     "metadata": {
      "needs_background": "light"
     },
     "output_type": "display_data"
    },
    {
     "data": {
      "image/png": "[encoded data removed]",
      "text/plain": [
       "<Figure size 432x288 with 1 Axes>"
      ]
     },
     "metadata": {
      "needs_background": "light"
     },
     "output_type": "display_data"
    },
    {
     "data": {
      "image/png": "[encoded data removed]",
      "text/plain": [
       "<Figure size 432x288 with 1 Axes>"
      ]
     },
     "metadata": {
      "needs_background": "light"
     },
     "output_type": "display_data"
    }
   ],
   "source": [
    "# Visualizing Continuous Features after clamping the Outliers\n",
    "for x in df[cont_var]:\n",
    "  plt.hist(df[x], bins = 100, edgecolor='black')\n",
    "  plt.xlabel(x)\n",
    "  plt.ylabel(\"Counts\")\n",
    "  plt.show()"
   ]
  },
  {
   "cell_type": "markdown",
   "id": "d74d78c9",
   "metadata": {},
   "source": [
    "# Data Normalization"
   ]
  },
  {
   "cell_type": "code",
   "execution_count": 32,
   "id": "ee993c7c",
   "metadata": {},
   "outputs": [
    {
     "data": {
      "text/html": [
       "<div>\n",
       "<style scoped>\n",
       "    .dataframe tbody tr th:only-of-type {\n",
       "        vertical-align: middle;\n",
       "    }\n",
       "\n",
       "    .dataframe tbody tr th {\n",
       "        vertical-align: top;\n",
       "    }\n",
       "\n",
       "    .dataframe thead th {\n",
       "        text-align: right;\n",
       "    }\n",
       "</style>\n",
       "<table border=\"1\" class=\"dataframe\">\n",
       "  <thead>\n",
       "    <tr style=\"text-align: right;\">\n",
       "      <th></th>\n",
       "      <th>Date</th>\n",
       "      <th>Location</th>\n",
       "      <th>WindGustDir</th>\n",
       "      <th>WindDir9am</th>\n",
       "      <th>WindDir3pm</th>\n",
       "      <th>RainToday</th>\n",
       "      <th>RainTomorrow</th>\n",
       "    </tr>\n",
       "  </thead>\n",
       "  <tbody>\n",
       "    <tr>\n",
       "      <th>0</th>\n",
       "      <td>2008-12-01</td>\n",
       "      <td>Albury</td>\n",
       "      <td>W</td>\n",
       "      <td>W</td>\n",
       "      <td>WNW</td>\n",
       "      <td>No</td>\n",
       "      <td>No</td>\n",
       "    </tr>\n",
       "    <tr>\n",
       "      <th>1</th>\n",
       "      <td>2008-12-02</td>\n",
       "      <td>Albury</td>\n",
       "      <td>WNW</td>\n",
       "      <td>NNW</td>\n",
       "      <td>WSW</td>\n",
       "      <td>No</td>\n",
       "      <td>No</td>\n",
       "    </tr>\n",
       "    <tr>\n",
       "      <th>2</th>\n",
       "      <td>2008-12-03</td>\n",
       "      <td>Albury</td>\n",
       "      <td>WSW</td>\n",
       "      <td>W</td>\n",
       "      <td>WSW</td>\n",
       "      <td>No</td>\n",
       "      <td>No</td>\n",
       "    </tr>\n",
       "    <tr>\n",
       "      <th>3</th>\n",
       "      <td>2008-12-04</td>\n",
       "      <td>Albury</td>\n",
       "      <td>NE</td>\n",
       "      <td>SE</td>\n",
       "      <td>E</td>\n",
       "      <td>No</td>\n",
       "      <td>No</td>\n",
       "    </tr>\n",
       "    <tr>\n",
       "      <th>4</th>\n",
       "      <td>2008-12-05</td>\n",
       "      <td>Albury</td>\n",
       "      <td>W</td>\n",
       "      <td>ENE</td>\n",
       "      <td>NW</td>\n",
       "      <td>No</td>\n",
       "      <td>No</td>\n",
       "    </tr>\n",
       "    <tr>\n",
       "      <th>...</th>\n",
       "      <td>...</td>\n",
       "      <td>...</td>\n",
       "      <td>...</td>\n",
       "      <td>...</td>\n",
       "      <td>...</td>\n",
       "      <td>...</td>\n",
       "      <td>...</td>\n",
       "    </tr>\n",
       "    <tr>\n",
       "      <th>145455</th>\n",
       "      <td>2017-06-21</td>\n",
       "      <td>Uluru</td>\n",
       "      <td>E</td>\n",
       "      <td>SE</td>\n",
       "      <td>ENE</td>\n",
       "      <td>No</td>\n",
       "      <td>No</td>\n",
       "    </tr>\n",
       "    <tr>\n",
       "      <th>145456</th>\n",
       "      <td>2017-06-22</td>\n",
       "      <td>Uluru</td>\n",
       "      <td>NNW</td>\n",
       "      <td>SE</td>\n",
       "      <td>N</td>\n",
       "      <td>No</td>\n",
       "      <td>No</td>\n",
       "    </tr>\n",
       "    <tr>\n",
       "      <th>145457</th>\n",
       "      <td>2017-06-23</td>\n",
       "      <td>Uluru</td>\n",
       "      <td>N</td>\n",
       "      <td>SE</td>\n",
       "      <td>WNW</td>\n",
       "      <td>No</td>\n",
       "      <td>No</td>\n",
       "    </tr>\n",
       "    <tr>\n",
       "      <th>145458</th>\n",
       "      <td>2017-06-24</td>\n",
       "      <td>Uluru</td>\n",
       "      <td>SE</td>\n",
       "      <td>SSE</td>\n",
       "      <td>N</td>\n",
       "      <td>No</td>\n",
       "      <td>No</td>\n",
       "    </tr>\n",
       "    <tr>\n",
       "      <th>145459</th>\n",
       "      <td>2017-06-25</td>\n",
       "      <td>Uluru</td>\n",
       "      <td>W</td>\n",
       "      <td>ESE</td>\n",
       "      <td>ESE</td>\n",
       "      <td>No</td>\n",
       "      <td>No</td>\n",
       "    </tr>\n",
       "  </tbody>\n",
       "</table>\n",
       "<p>145460 rows × 7 columns</p>\n",
       "</div>"
      ],
      "text/plain": [
       "              Date Location WindGustDir WindDir9am WindDir3pm RainToday  \\\n",
       "0       2008-12-01   Albury           W          W        WNW        No   \n",
       "1       2008-12-02   Albury         WNW        NNW        WSW        No   \n",
       "2       2008-12-03   Albury         WSW          W        WSW        No   \n",
       "3       2008-12-04   Albury          NE         SE          E        No   \n",
       "4       2008-12-05   Albury           W        ENE         NW        No   \n",
       "...            ...      ...         ...        ...        ...       ...   \n",
       "145455  2017-06-21    Uluru           E         SE        ENE        No   \n",
       "145456  2017-06-22    Uluru         NNW         SE          N        No   \n",
       "145457  2017-06-23    Uluru           N         SE        WNW        No   \n",
       "145458  2017-06-24    Uluru          SE        SSE          N        No   \n",
       "145459  2017-06-25    Uluru           W        ESE        ESE        No   \n",
       "\n",
       "       RainTomorrow  \n",
       "0                No  \n",
       "1                No  \n",
       "2                No  \n",
       "3                No  \n",
       "4                No  \n",
       "...             ...  \n",
       "145455           No  \n",
       "145456           No  \n",
       "145457           No  \n",
       "145458           No  \n",
       "145459           No  \n",
       "\n",
       "[145460 rows x 7 columns]"
      ]
     },
     "execution_count": 32,
     "metadata": {},
     "output_type": "execute_result"
    }
   ],
   "source": [
    "df[cat_var]"
   ]
  },
  {
   "cell_type": "code",
   "execution_count": 33,
   "id": "TM2SRvQ18Hzr",
   "metadata": {
    "colab": {
     "base_uri": "https://localhost:8080/",
     "height": 270
    },
    "id": "TM2SRvQ18Hzr",
    "outputId": "fd402c2a-ec7d-498a-bdba-cbe42bfbe268"
   },
   "outputs": [
    {
     "data": {
      "text/html": [
       "<div>\n",
       "<style scoped>\n",
       "    .dataframe tbody tr th:only-of-type {\n",
       "        vertical-align: middle;\n",
       "    }\n",
       "\n",
       "    .dataframe tbody tr th {\n",
       "        vertical-align: top;\n",
       "    }\n",
       "\n",
       "    .dataframe thead th {\n",
       "        text-align: right;\n",
       "    }\n",
       "</style>\n",
       "<table border=\"1\" class=\"dataframe\">\n",
       "  <thead>\n",
       "    <tr style=\"text-align: right;\">\n",
       "      <th></th>\n",
       "      <th>MinTemp</th>\n",
       "      <th>MaxTemp</th>\n",
       "      <th>Rainfall</th>\n",
       "      <th>Evaporation</th>\n",
       "      <th>Sunshine</th>\n",
       "      <th>WindGustSpeed</th>\n",
       "      <th>WindSpeed9am</th>\n",
       "      <th>WindSpeed3pm</th>\n",
       "      <th>Humidity9am</th>\n",
       "      <th>Humidity3pm</th>\n",
       "      <th>Pressure9am</th>\n",
       "      <th>Pressure3pm</th>\n",
       "      <th>Cloud9am</th>\n",
       "      <th>Cloud3pm</th>\n",
       "      <th>Temp9am</th>\n",
       "      <th>Temp3pm</th>\n",
       "    </tr>\n",
       "  </thead>\n",
       "  <tbody>\n",
       "    <tr>\n",
       "      <th>0</th>\n",
       "      <td>0.516509</td>\n",
       "      <td>0.523629</td>\n",
       "      <td>0.1875</td>\n",
       "      <td>0.220183</td>\n",
       "      <td>0.57931</td>\n",
       "      <td>0.294574</td>\n",
       "      <td>0.363636</td>\n",
       "      <td>0.421053</td>\n",
       "      <td>0.71</td>\n",
       "      <td>0.22</td>\n",
       "      <td>0.449587</td>\n",
       "      <td>0.4800</td>\n",
       "      <td>0.888889</td>\n",
       "      <td>0.555556</td>\n",
       "      <td>0.508439</td>\n",
       "      <td>0.522073</td>\n",
       "    </tr>\n",
       "    <tr>\n",
       "      <th>1</th>\n",
       "      <td>0.375000</td>\n",
       "      <td>0.565217</td>\n",
       "      <td>0.0000</td>\n",
       "      <td>0.220183</td>\n",
       "      <td>0.57931</td>\n",
       "      <td>0.294574</td>\n",
       "      <td>0.072727</td>\n",
       "      <td>0.385965</td>\n",
       "      <td>0.44</td>\n",
       "      <td>0.25</td>\n",
       "      <td>0.497521</td>\n",
       "      <td>0.4912</td>\n",
       "      <td>0.555556</td>\n",
       "      <td>0.555556</td>\n",
       "      <td>0.514768</td>\n",
       "      <td>0.570058</td>\n",
       "    </tr>\n",
       "    <tr>\n",
       "      <th>2</th>\n",
       "      <td>0.504717</td>\n",
       "      <td>0.576560</td>\n",
       "      <td>0.0000</td>\n",
       "      <td>0.220183</td>\n",
       "      <td>0.57931</td>\n",
       "      <td>0.310078</td>\n",
       "      <td>0.345455</td>\n",
       "      <td>0.456140</td>\n",
       "      <td>0.38</td>\n",
       "      <td>0.30</td>\n",
       "      <td>0.447934</td>\n",
       "      <td>0.5056</td>\n",
       "      <td>0.555556</td>\n",
       "      <td>0.222222</td>\n",
       "      <td>0.594937</td>\n",
       "      <td>0.548944</td>\n",
       "    </tr>\n",
       "    <tr>\n",
       "      <th>3</th>\n",
       "      <td>0.417453</td>\n",
       "      <td>0.620038</td>\n",
       "      <td>0.0000</td>\n",
       "      <td>0.220183</td>\n",
       "      <td>0.57931</td>\n",
       "      <td>0.139535</td>\n",
       "      <td>0.200000</td>\n",
       "      <td>0.157895</td>\n",
       "      <td>0.45</td>\n",
       "      <td>0.16</td>\n",
       "      <td>0.613223</td>\n",
       "      <td>0.5712</td>\n",
       "      <td>0.555556</td>\n",
       "      <td>0.555556</td>\n",
       "      <td>0.533755</td>\n",
       "      <td>0.612284</td>\n",
       "    </tr>\n",
       "    <tr>\n",
       "      <th>4</th>\n",
       "      <td>0.613208</td>\n",
       "      <td>0.701323</td>\n",
       "      <td>0.3125</td>\n",
       "      <td>0.220183</td>\n",
       "      <td>0.57931</td>\n",
       "      <td>0.271318</td>\n",
       "      <td>0.127273</td>\n",
       "      <td>0.350877</td>\n",
       "      <td>0.82</td>\n",
       "      <td>0.33</td>\n",
       "      <td>0.500826</td>\n",
       "      <td>0.4624</td>\n",
       "      <td>0.777778</td>\n",
       "      <td>0.888889</td>\n",
       "      <td>0.527426</td>\n",
       "      <td>0.673704</td>\n",
       "    </tr>\n",
       "  </tbody>\n",
       "</table>\n",
       "</div>"
      ],
      "text/plain": [
       "    MinTemp   MaxTemp  Rainfall  Evaporation  Sunshine  WindGustSpeed  \\\n",
       "0  0.516509  0.523629    0.1875     0.220183   0.57931       0.294574   \n",
       "1  0.375000  0.565217    0.0000     0.220183   0.57931       0.294574   \n",
       "2  0.504717  0.576560    0.0000     0.220183   0.57931       0.310078   \n",
       "3  0.417453  0.620038    0.0000     0.220183   0.57931       0.139535   \n",
       "4  0.613208  0.701323    0.3125     0.220183   0.57931       0.271318   \n",
       "\n",
       "   WindSpeed9am  WindSpeed3pm  Humidity9am  Humidity3pm  Pressure9am  \\\n",
       "0      0.363636      0.421053         0.71         0.22     0.449587   \n",
       "1      0.072727      0.385965         0.44         0.25     0.497521   \n",
       "2      0.345455      0.456140         0.38         0.30     0.447934   \n",
       "3      0.200000      0.157895         0.45         0.16     0.613223   \n",
       "4      0.127273      0.350877         0.82         0.33     0.500826   \n",
       "\n",
       "   Pressure3pm  Cloud9am  Cloud3pm   Temp9am   Temp3pm  \n",
       "0       0.4800  0.888889  0.555556  0.508439  0.522073  \n",
       "1       0.4912  0.555556  0.555556  0.514768  0.570058  \n",
       "2       0.5056  0.555556  0.222222  0.594937  0.548944  \n",
       "3       0.5712  0.555556  0.555556  0.533755  0.612284  \n",
       "4       0.4624  0.777778  0.888889  0.527426  0.673704  "
      ]
     },
     "execution_count": 33,
     "metadata": {},
     "output_type": "execute_result"
    }
   ],
   "source": [
    "#Normalization for contnuous variables\n",
    "from sklearn.preprocessing import MinMaxScaler\n",
    "scaler = MinMaxScaler()\n",
    "df[cont_var] = scaler.fit_transform(df[cont_var])\n",
    "df[cont_var].head()"
   ]
  },
  {
   "cell_type": "markdown",
   "id": "bbcd0f1f",
   "metadata": {},
   "source": [
    "# Data Transformations"
   ]
  },
  {
   "cell_type": "code",
   "execution_count": 34,
   "id": "6hIIjIdE-9xE",
   "metadata": {
    "colab": {
     "base_uri": "https://localhost:8080/",
     "height": 206
    },
    "id": "6hIIjIdE-9xE",
    "outputId": "35cb183f-4ba1-40cf-a3f6-33172d1e0632"
   },
   "outputs": [],
   "source": [
    "# One-Hot Encoding Location, WindGustDir, WindDir9am and WindDir3pm features\n",
    "df_loc = pd.get_dummies(df.Location, drop_first=True)\n",
    "\n",
    "df_wg = pd.get_dummies(df.WindGustDir, drop_first=True, dummy_na=True)\n",
    "\n",
    "df_wd9 = pd.get_dummies(df.WindDir9am, drop_first=True, dummy_na=True)\n",
    "\n",
    "df_wd3 = pd.get_dummies(df.WindDir3pm, drop_first=True, dummy_na=True)"
   ]
  },
  {
   "cell_type": "code",
   "execution_count": 35,
   "id": "d306f258",
   "metadata": {},
   "outputs": [],
   "source": [
    "# Label Encoding RainToday and RainTomorrow features\n",
    "from sklearn import preprocessing\n",
    "le = preprocessing.LabelEncoder()\n",
    "df['RainToday'] = le.fit_transform(df['RainToday'])\n",
    "df['RainTomorrow'] = le.fit_transform(df['RainTomorrow'])"
   ]
  },
  {
   "cell_type": "code",
   "execution_count": 36,
   "id": "aba2d0d5",
   "metadata": {},
   "outputs": [],
   "source": [
    "df = df.drop(columns=['Location', 'WindGustDir', 'WindDir9am', 'WindDir3pm'])\n",
    "df_enc = pd.concat([df,df_loc, df_wg, df_wd9, df_wd3], axis = 1)"
   ]
  },
  {
   "cell_type": "code",
   "execution_count": 37,
   "id": "d7b64fd0",
   "metadata": {},
   "outputs": [
    {
     "data": {
      "text/plain": [
       "Date           0\n",
       "MinTemp        0\n",
       "MaxTemp        0\n",
       "Rainfall       0\n",
       "Evaporation    0\n",
       "              ..\n",
       "SW             0\n",
       "W              0\n",
       "WNW            0\n",
       "WSW            0\n",
       "NaN            0\n",
       "Length: 115, dtype: int64"
      ]
     },
     "execution_count": 37,
     "metadata": {},
     "output_type": "execute_result"
    }
   ],
   "source": [
    "df_enc.isnull().sum()"
   ]
  },
  {
   "cell_type": "code",
   "execution_count": 38,
   "id": "810be103",
   "metadata": {},
   "outputs": [
    {
     "data": {
      "text/html": [
       "<div>\n",
       "<style scoped>\n",
       "    .dataframe tbody tr th:only-of-type {\n",
       "        vertical-align: middle;\n",
       "    }\n",
       "\n",
       "    .dataframe tbody tr th {\n",
       "        vertical-align: top;\n",
       "    }\n",
       "\n",
       "    .dataframe thead th {\n",
       "        text-align: right;\n",
       "    }\n",
       "</style>\n",
       "<table border=\"1\" class=\"dataframe\">\n",
       "  <thead>\n",
       "    <tr style=\"text-align: right;\">\n",
       "      <th></th>\n",
       "      <th>Date</th>\n",
       "      <th>MinTemp</th>\n",
       "      <th>MaxTemp</th>\n",
       "      <th>Rainfall</th>\n",
       "      <th>Evaporation</th>\n",
       "      <th>Sunshine</th>\n",
       "      <th>WindGustSpeed</th>\n",
       "      <th>WindSpeed9am</th>\n",
       "      <th>WindSpeed3pm</th>\n",
       "      <th>Humidity9am</th>\n",
       "      <th>...</th>\n",
       "      <th>NW</th>\n",
       "      <th>S</th>\n",
       "      <th>SE</th>\n",
       "      <th>SSE</th>\n",
       "      <th>SSW</th>\n",
       "      <th>SW</th>\n",
       "      <th>W</th>\n",
       "      <th>WNW</th>\n",
       "      <th>WSW</th>\n",
       "      <th>NaN</th>\n",
       "    </tr>\n",
       "  </thead>\n",
       "  <tbody>\n",
       "    <tr>\n",
       "      <th>0</th>\n",
       "      <td>2008-12-01</td>\n",
       "      <td>0.516509</td>\n",
       "      <td>0.523629</td>\n",
       "      <td>0.1875</td>\n",
       "      <td>0.220183</td>\n",
       "      <td>0.57931</td>\n",
       "      <td>0.294574</td>\n",
       "      <td>0.363636</td>\n",
       "      <td>0.421053</td>\n",
       "      <td>0.71</td>\n",
       "      <td>...</td>\n",
       "      <td>0</td>\n",
       "      <td>0</td>\n",
       "      <td>0</td>\n",
       "      <td>0</td>\n",
       "      <td>0</td>\n",
       "      <td>0</td>\n",
       "      <td>0</td>\n",
       "      <td>1</td>\n",
       "      <td>0</td>\n",
       "      <td>0</td>\n",
       "    </tr>\n",
       "    <tr>\n",
       "      <th>1</th>\n",
       "      <td>2008-12-02</td>\n",
       "      <td>0.375000</td>\n",
       "      <td>0.565217</td>\n",
       "      <td>0.0000</td>\n",
       "      <td>0.220183</td>\n",
       "      <td>0.57931</td>\n",
       "      <td>0.294574</td>\n",
       "      <td>0.072727</td>\n",
       "      <td>0.385965</td>\n",
       "      <td>0.44</td>\n",
       "      <td>...</td>\n",
       "      <td>0</td>\n",
       "      <td>0</td>\n",
       "      <td>0</td>\n",
       "      <td>0</td>\n",
       "      <td>0</td>\n",
       "      <td>0</td>\n",
       "      <td>0</td>\n",
       "      <td>0</td>\n",
       "      <td>1</td>\n",
       "      <td>0</td>\n",
       "    </tr>\n",
       "    <tr>\n",
       "      <th>2</th>\n",
       "      <td>2008-12-03</td>\n",
       "      <td>0.504717</td>\n",
       "      <td>0.576560</td>\n",
       "      <td>0.0000</td>\n",
       "      <td>0.220183</td>\n",
       "      <td>0.57931</td>\n",
       "      <td>0.310078</td>\n",
       "      <td>0.345455</td>\n",
       "      <td>0.456140</td>\n",
       "      <td>0.38</td>\n",
       "      <td>...</td>\n",
       "      <td>0</td>\n",
       "      <td>0</td>\n",
       "      <td>0</td>\n",
       "      <td>0</td>\n",
       "      <td>0</td>\n",
       "      <td>0</td>\n",
       "      <td>0</td>\n",
       "      <td>0</td>\n",
       "      <td>1</td>\n",
       "      <td>0</td>\n",
       "    </tr>\n",
       "    <tr>\n",
       "      <th>3</th>\n",
       "      <td>2008-12-04</td>\n",
       "      <td>0.417453</td>\n",
       "      <td>0.620038</td>\n",
       "      <td>0.0000</td>\n",
       "      <td>0.220183</td>\n",
       "      <td>0.57931</td>\n",
       "      <td>0.139535</td>\n",
       "      <td>0.200000</td>\n",
       "      <td>0.157895</td>\n",
       "      <td>0.45</td>\n",
       "      <td>...</td>\n",
       "      <td>0</td>\n",
       "      <td>0</td>\n",
       "      <td>0</td>\n",
       "      <td>0</td>\n",
       "      <td>0</td>\n",
       "      <td>0</td>\n",
       "      <td>0</td>\n",
       "      <td>0</td>\n",
       "      <td>0</td>\n",
       "      <td>0</td>\n",
       "    </tr>\n",
       "    <tr>\n",
       "      <th>4</th>\n",
       "      <td>2008-12-05</td>\n",
       "      <td>0.613208</td>\n",
       "      <td>0.701323</td>\n",
       "      <td>0.3125</td>\n",
       "      <td>0.220183</td>\n",
       "      <td>0.57931</td>\n",
       "      <td>0.271318</td>\n",
       "      <td>0.127273</td>\n",
       "      <td>0.350877</td>\n",
       "      <td>0.82</td>\n",
       "      <td>...</td>\n",
       "      <td>1</td>\n",
       "      <td>0</td>\n",
       "      <td>0</td>\n",
       "      <td>0</td>\n",
       "      <td>0</td>\n",
       "      <td>0</td>\n",
       "      <td>0</td>\n",
       "      <td>0</td>\n",
       "      <td>0</td>\n",
       "      <td>0</td>\n",
       "    </tr>\n",
       "    <tr>\n",
       "      <th>...</th>\n",
       "      <td>...</td>\n",
       "      <td>...</td>\n",
       "      <td>...</td>\n",
       "      <td>...</td>\n",
       "      <td>...</td>\n",
       "      <td>...</td>\n",
       "      <td>...</td>\n",
       "      <td>...</td>\n",
       "      <td>...</td>\n",
       "      <td>...</td>\n",
       "      <td>...</td>\n",
       "      <td>...</td>\n",
       "      <td>...</td>\n",
       "      <td>...</td>\n",
       "      <td>...</td>\n",
       "      <td>...</td>\n",
       "      <td>...</td>\n",
       "      <td>...</td>\n",
       "      <td>...</td>\n",
       "      <td>...</td>\n",
       "      <td>...</td>\n",
       "    </tr>\n",
       "    <tr>\n",
       "      <th>145455</th>\n",
       "      <td>2017-06-21</td>\n",
       "      <td>0.266509</td>\n",
       "      <td>0.533081</td>\n",
       "      <td>0.0000</td>\n",
       "      <td>0.220183</td>\n",
       "      <td>0.57931</td>\n",
       "      <td>0.193798</td>\n",
       "      <td>0.236364</td>\n",
       "      <td>0.192982</td>\n",
       "      <td>0.51</td>\n",
       "      <td>...</td>\n",
       "      <td>0</td>\n",
       "      <td>0</td>\n",
       "      <td>0</td>\n",
       "      <td>0</td>\n",
       "      <td>0</td>\n",
       "      <td>0</td>\n",
       "      <td>0</td>\n",
       "      <td>0</td>\n",
       "      <td>0</td>\n",
       "      <td>0</td>\n",
       "    </tr>\n",
       "    <tr>\n",
       "      <th>145456</th>\n",
       "      <td>2017-06-22</td>\n",
       "      <td>0.285377</td>\n",
       "      <td>0.568998</td>\n",
       "      <td>0.0000</td>\n",
       "      <td>0.220183</td>\n",
       "      <td>0.57931</td>\n",
       "      <td>0.124031</td>\n",
       "      <td>0.236364</td>\n",
       "      <td>0.157895</td>\n",
       "      <td>0.56</td>\n",
       "      <td>...</td>\n",
       "      <td>0</td>\n",
       "      <td>0</td>\n",
       "      <td>0</td>\n",
       "      <td>0</td>\n",
       "      <td>0</td>\n",
       "      <td>0</td>\n",
       "      <td>0</td>\n",
       "      <td>0</td>\n",
       "      <td>0</td>\n",
       "      <td>0</td>\n",
       "    </tr>\n",
       "    <tr>\n",
       "      <th>145457</th>\n",
       "      <td>2017-06-23</td>\n",
       "      <td>0.327830</td>\n",
       "      <td>0.599244</td>\n",
       "      <td>0.0000</td>\n",
       "      <td>0.220183</td>\n",
       "      <td>0.57931</td>\n",
       "      <td>0.240310</td>\n",
       "      <td>0.163636</td>\n",
       "      <td>0.157895</td>\n",
       "      <td>0.53</td>\n",
       "      <td>...</td>\n",
       "      <td>0</td>\n",
       "      <td>0</td>\n",
       "      <td>0</td>\n",
       "      <td>0</td>\n",
       "      <td>0</td>\n",
       "      <td>0</td>\n",
       "      <td>0</td>\n",
       "      <td>1</td>\n",
       "      <td>0</td>\n",
       "      <td>0</td>\n",
       "    </tr>\n",
       "    <tr>\n",
       "      <th>145458</th>\n",
       "      <td>2017-06-24</td>\n",
       "      <td>0.384434</td>\n",
       "      <td>0.601134</td>\n",
       "      <td>0.0000</td>\n",
       "      <td>0.220183</td>\n",
       "      <td>0.57931</td>\n",
       "      <td>0.170543</td>\n",
       "      <td>0.236364</td>\n",
       "      <td>0.122807</td>\n",
       "      <td>0.51</td>\n",
       "      <td>...</td>\n",
       "      <td>0</td>\n",
       "      <td>0</td>\n",
       "      <td>0</td>\n",
       "      <td>0</td>\n",
       "      <td>0</td>\n",
       "      <td>0</td>\n",
       "      <td>0</td>\n",
       "      <td>0</td>\n",
       "      <td>0</td>\n",
       "      <td>0</td>\n",
       "    </tr>\n",
       "    <tr>\n",
       "      <th>145459</th>\n",
       "      <td>2017-06-25</td>\n",
       "      <td>0.551887</td>\n",
       "      <td>0.517958</td>\n",
       "      <td>0.0000</td>\n",
       "      <td>0.220183</td>\n",
       "      <td>0.57931</td>\n",
       "      <td>0.255814</td>\n",
       "      <td>0.309091</td>\n",
       "      <td>0.298246</td>\n",
       "      <td>0.62</td>\n",
       "      <td>...</td>\n",
       "      <td>0</td>\n",
       "      <td>0</td>\n",
       "      <td>0</td>\n",
       "      <td>0</td>\n",
       "      <td>0</td>\n",
       "      <td>0</td>\n",
       "      <td>0</td>\n",
       "      <td>0</td>\n",
       "      <td>0</td>\n",
       "      <td>0</td>\n",
       "    </tr>\n",
       "  </tbody>\n",
       "</table>\n",
       "<p>145460 rows × 115 columns</p>\n",
       "</div>"
      ],
      "text/plain": [
       "              Date   MinTemp   MaxTemp  Rainfall  Evaporation  Sunshine  \\\n",
       "0       2008-12-01  0.516509  0.523629    0.1875     0.220183   0.57931   \n",
       "1       2008-12-02  0.375000  0.565217    0.0000     0.220183   0.57931   \n",
       "2       2008-12-03  0.504717  0.576560    0.0000     0.220183   0.57931   \n",
       "3       2008-12-04  0.417453  0.620038    0.0000     0.220183   0.57931   \n",
       "4       2008-12-05  0.613208  0.701323    0.3125     0.220183   0.57931   \n",
       "...            ...       ...       ...       ...          ...       ...   \n",
       "145455  2017-06-21  0.266509  0.533081    0.0000     0.220183   0.57931   \n",
       "145456  2017-06-22  0.285377  0.568998    0.0000     0.220183   0.57931   \n",
       "145457  2017-06-23  0.327830  0.599244    0.0000     0.220183   0.57931   \n",
       "145458  2017-06-24  0.384434  0.601134    0.0000     0.220183   0.57931   \n",
       "145459  2017-06-25  0.551887  0.517958    0.0000     0.220183   0.57931   \n",
       "\n",
       "        WindGustSpeed  WindSpeed9am  WindSpeed3pm  Humidity9am  ...  NW  S  \\\n",
       "0            0.294574      0.363636      0.421053         0.71  ...   0  0   \n",
       "1            0.294574      0.072727      0.385965         0.44  ...   0  0   \n",
       "2            0.310078      0.345455      0.456140         0.38  ...   0  0   \n",
       "3            0.139535      0.200000      0.157895         0.45  ...   0  0   \n",
       "4            0.271318      0.127273      0.350877         0.82  ...   1  0   \n",
       "...               ...           ...           ...          ...  ...  .. ..   \n",
       "145455       0.193798      0.236364      0.192982         0.51  ...   0  0   \n",
       "145456       0.124031      0.236364      0.157895         0.56  ...   0  0   \n",
       "145457       0.240310      0.163636      0.157895         0.53  ...   0  0   \n",
       "145458       0.170543      0.236364      0.122807         0.51  ...   0  0   \n",
       "145459       0.255814      0.309091      0.298246         0.62  ...   0  0   \n",
       "\n",
       "        SE  SSE  SSW  SW  W  WNW  WSW  NaN  \n",
       "0        0    0    0   0  0    1    0    0  \n",
       "1        0    0    0   0  0    0    1    0  \n",
       "2        0    0    0   0  0    0    1    0  \n",
       "3        0    0    0   0  0    0    0    0  \n",
       "4        0    0    0   0  0    0    0    0  \n",
       "...     ..  ...  ...  .. ..  ...  ...  ...  \n",
       "145455   0    0    0   0  0    0    0    0  \n",
       "145456   0    0    0   0  0    0    0    0  \n",
       "145457   0    0    0   0  0    1    0    0  \n",
       "145458   0    0    0   0  0    0    0    0  \n",
       "145459   0    0    0   0  0    0    0    0  \n",
       "\n",
       "[145460 rows x 115 columns]"
      ]
     },
     "execution_count": 38,
     "metadata": {},
     "output_type": "execute_result"
    }
   ],
   "source": [
    "df_enc"
   ]
  },
  {
   "cell_type": "code",
   "execution_count": 39,
   "id": "316a93b4",
   "metadata": {},
   "outputs": [
    {
     "data": {
      "text/plain": [
       "(145460, 115)"
      ]
     },
     "execution_count": 39,
     "metadata": {},
     "output_type": "execute_result"
    }
   ],
   "source": [
    "df_enc.shape"
   ]
  },
  {
   "cell_type": "code",
   "execution_count": 40,
   "id": "70b74db4",
   "metadata": {},
   "outputs": [],
   "source": [
    "df_enc.to_csv('Processed_Weather_Data.csv')"
   ]
  },
  {
   "cell_type": "markdown",
   "id": "9a04e260",
   "metadata": {},
   "source": [
    "# Feature Selection"
   ]
  },
  {
   "cell_type": "code",
   "execution_count": 41,
   "id": "94e50c16",
   "metadata": {},
   "outputs": [],
   "source": [
    "from sklearn.model_selection import train_test_split # To split data\n",
    "from sklearn.ensemble import RandomForestClassifier # Random Forest\n",
    "from sklearn.metrics import confusion_matrix # To calculate the confusion matrix\n",
    "from sklearn.metrics import accuracy_score # To calculate the score\n",
    "from sklearn.feature_selection import SelectKBest # Univariate Feature Selection\n",
    "from sklearn.feature_selection import chi2 # To apply Univariate Feature Selection\n",
    "from sklearn.feature_selection import RFE # Recursive Feature Selection\n",
    "from sklearn.feature_selection import RFECV # Recursive Feature Selection with Cross Validation\n",
    "from sklearn.decomposition import PCA # To apply PCA\n",
    "\n",
    "# To plot inline\n",
    "%matplotlib inline"
   ]
  },
  {
   "cell_type": "code",
   "execution_count": 42,
   "id": "0570796d",
   "metadata": {},
   "outputs": [],
   "source": [
    "y = df['RainTomorrow']"
   ]
  },
  {
   "cell_type": "code",
   "execution_count": 43,
   "id": "9c13f0d2",
   "metadata": {},
   "outputs": [],
   "source": [
    "X = df_enc.drop(columns = ['Date','RainTomorrow'])"
   ]
  },
  {
   "cell_type": "code",
   "execution_count": 44,
   "id": "e017a408",
   "metadata": {},
   "outputs": [],
   "source": [
    "X1 = df.drop(columns = ['Date', 'RainTomorrow'])"
   ]
  },
  {
   "cell_type": "code",
   "execution_count": 45,
   "id": "81ccfcd6",
   "metadata": {},
   "outputs": [],
   "source": [
    "UnivariateFeatureSelection = SelectKBest(chi2, k=5).fit(X, y)"
   ]
  },
  {
   "cell_type": "code",
   "execution_count": 46,
   "id": "3314baaa",
   "metadata": {},
   "outputs": [
    {
     "data": {
      "text/plain": [
       "[(10617.40077202912, 'RainToday'),\n",
       " (10167.672808723586, 'Rainfall'),\n",
       " (2218.641383006436, 'Humidity3pm'),\n",
       " (1286.2896360835502, 'Cloud3pm'),\n",
       " (1076.9953277251475, 'Cloud9am'),\n",
       " (974.2223350144237, 'Sunshine'),\n",
       " (474.42138931083963, 'Humidity9am'),\n",
       " (406.3375938012192, 'Woomera'),\n",
       " (368.4923147289704, 'Portland'),\n",
       " (342.6637355925192, 'AliceSprings'),\n",
       " (277.01192791691005, 'WindGustSpeed'),\n",
       " (214.5973806664779, 'Mildura'),\n",
       " (170.57724557255324, 'Temp3pm'),\n",
       " (156.29995193132044, 'Pressure9am'),\n",
       " (154.82260617994152, 'Cairns'),\n",
       " (145.17956450830053, 'Cobar'),\n",
       " (136.80795112913367, 'Moree'),\n",
       " (133.91461156741556, 'Dartmoor'),\n",
       " (130.87222509445562, 'NorfolkIsland'),\n",
       " (123.82013271606843, 'MountGambier'),\n",
       " (121.70476152701578, 'Pressure3pm'),\n",
       " (120.81671738583185, 'MaxTemp'),\n",
       " (110.80930324966154, 'WindSpeed9am'),\n",
       " (106.8795221066139, 'Albany'),\n",
       " (95.02693493232118, 'Evaporation'),\n",
       " (85.31237984103612, 'CoffsHarbour'),\n",
       " (73.14159030603446, 'WindSpeed3pm'),\n",
       " (67.1206166712695, 'SalmonGums'),\n",
       " (46.3051687270476, 'PearceRAAF'),\n",
       " (45.45004923117924, 'MinTemp'),\n",
       " (44.879186020346395, 'MountGinini'),\n",
       " (43.586570669112, 'NorahHead'),\n",
       " (42.43314070086589, 'Darwin'),\n",
       " (41.65468938109083, 'Townsville'),\n",
       " (39.91074415754259, 'Nhil'),\n",
       " (30.530253272991217, 'Sydney'),\n",
       " (26.145075579387093, 'Canberra'),\n",
       " (25.501262306533178, 'SydneyAirport'),\n",
       " (25.332258742263893, 'Ballarat'),\n",
       " (24.185102576055748, 'Katherine'),\n",
       " (22.753390919107144, 'GoldCoast'),\n",
       " (20.87344975068612, 'Bendigo'),\n",
       " (19.192927391854777, 'Richmond'),\n",
       " (16.58515496550108, 'PerthAirport'),\n",
       " (11.3392293764018, 'BadgerysCreek'),\n",
       " (9.689490843317392, 'Penrith'),\n",
       " (8.825371361431724, 'Nuriootpa'),\n",
       " (8.12812802509508, 'Newcastle'),\n",
       " (7.4342207452259075, 'Melbourne'),\n",
       " (6.869752157863735, 'Hobart'),\n",
       " (5.482854961947822, 'Perth'),\n",
       " (4.4667811921481695, 'Albury'),\n",
       " (3.428180498406441, 'Temp9am'),\n",
       " (2.067550642910657, 'Launceston'),\n",
       " (0.5230376962844427, 'Sale'),\n",
       " (0.15714917950287244, 'Brisbane'),\n",
       " (0.07981726172616806, 'MelbourneAirport'),\n",
       " (nan, nan),\n",
       " (339.82881603992035, 'NNW'),\n",
       " (235.13913510712405, 'ESE'),\n",
       " (195.58574448437216, 'Uluru'),\n",
       " (186.36079470800973, 'SE'),\n",
       " (182.8344513067799, 'NW'),\n",
       " (171.69838660385318, 'ENE'),\n",
       " (nan, nan),\n",
       " (173.88192716772383, 'NW'),\n",
       " (163.77282868079618, 'Walpole'),\n",
       " (158.02497911783541, 'NNW'),\n",
       " (154.18340917193058, 'WNW'),\n",
       " (150.0254264836233, 'NNW'),\n",
       " (148.61129267235944, 'NW'),\n",
       " (146.93742075169766, 'N'),\n",
       " (136.88257480926762, 'ESE'),\n",
       " (136.51065384061667, 'WNW'),\n",
       " (134.74478338420403, 'ESE'),\n",
       " (117.61514994936034, 'W'),\n",
       " (106.04360851694244, 'N'),\n",
       " (100.49985650949954, 'SSE'),\n",
       " (93.64750421812309, 'Witchcliffe'),\n",
       " (92.52367773790947, 'ENE'),\n",
       " (90.88395823326528, 'NNE'),\n",
       " (85.89473254059843, 'ENE'),\n",
       " (82.36105994530033, 'WNW'),\n",
       " (75.98873703380848, 'N'),\n",
       " (67.94849073614412, 'SE'),\n",
       " (63.526942345912396, 'W'),\n",
       " (59.65551954325899, 'SSE'),\n",
       " (56.42313736512493, 'W'),\n",
       " (51.48226467274667, 'NE'),\n",
       " (48.84353946665733, 'NE'),\n",
       " (44.412062863237274, 'SSE'),\n",
       " (36.55494823312357, 'SW'),\n",
       " (31.658600378776285, 'S'),\n",
       " (29.578792517957734, 'WaggaWagga'),\n",
       " (19.403893838243903, 'WSW'),\n",
       " (18.462325352114, 'Tuggeranong'),\n",
       " (18.375523455095326, 'SE'),\n",
       " (16.910319724714892, 'SW'),\n",
       " (15.645251870137553, 'NNE'),\n",
       " (11.994995416218751, 'Watsonia'),\n",
       " (9.739586074762322, 'NE'),\n",
       " (6.133547716976614, 'WSW'),\n",
       " (5.916235209064769, 'S'),\n",
       " (4.209537469581283, 'Wollongong'),\n",
       " (3.19959842071768, 'Williamtown'),\n",
       " (2.7652065392026155, 'SW'),\n",
       " (1.8909840048941864, 'NNE'),\n",
       " (0.24027070263615652, 'SSW'),\n",
       " (0.20394516697684187, 'SSW'),\n",
       " (0.039459726322393154, 'S'),\n",
       " (0.03153629358899302, 'WSW'),\n",
       " (0.001936390165509605, 'SSW'),\n",
       " (nan, nan)]"
      ]
     },
     "execution_count": 46,
     "metadata": {},
     "output_type": "execute_result"
    }
   ],
   "source": [
    "dic = {key:value for (key, value) in zip(UnivariateFeatureSelection.scores_, X.columns)}\n",
    "sorted(dic.items(), reverse=True)"
   ]
  },
  {
   "cell_type": "code",
   "execution_count": 47,
   "id": "0d0b658f",
   "metadata": {},
   "outputs": [
    {
     "data": {
      "text/plain": [
       "PCA()"
      ]
     },
     "execution_count": 47,
     "metadata": {},
     "output_type": "execute_result"
    }
   ],
   "source": [
    "# Principal Component Analysis\n",
    "pca = PCA()\n",
    "pca.fit(X)"
   ]
  },
  {
   "cell_type": "code",
   "execution_count": 48,
   "id": "79881bf2",
   "metadata": {},
   "outputs": [
    {
     "data": {
      "text/plain": [
       "Text(0, 0.5, 'Variance Ratio')"
      ]
     },
     "execution_count": 48,
     "metadata": {},
     "output_type": "execute_result"
    },
    {
     "data": {
      "image/png": "[encoded data removed]",
      "text/plain": [
       "<Figure size 648x576 with 1 Axes>"
      ]
     },
     "metadata": {
      "needs_background": "light"
     },
     "output_type": "display_data"
    }
   ],
   "source": [
    "# Plotting to visualize the best number of elements\n",
    "plt.figure(1, figsize=(9, 8))\n",
    "plt.clf()\n",
    "plt.axes([.2, .2, .7, .7])\n",
    "plt.plot(pca.explained_variance_ratio_, linewidth=2)\n",
    "plt.axis('tight')\n",
    "plt.xlabel('Number of Feautres')\n",
    "plt.ylabel('Variance Ratio')"
   ]
  },
  {
   "cell_type": "code",
   "execution_count": 49,
   "id": "cdacdb6a",
   "metadata": {},
   "outputs": [
    {
     "name": "stderr",
     "output_type": "stream",
     "text": [
      "/Users/vinay/opt/anaconda3/lib/python3.9/site-packages/sklearn/utils/validation.py:70: FutureWarning: Pass n_features_to_select=10 as keyword args. From version 1.0 (renaming of 0.25) passing these as positional arguments will result in an error\n",
      "  warnings.warn(f\"Pass {args_msg} as keyword args. From version \"\n"
     ]
    },
    {
     "name": "stdout",
     "output_type": "stream",
     "text": [
      "Num Features: 10\n",
      "Selected Features: [False  True False False  True  True False  True False  True  True  True\n",
      " False  True False  True False False False False False False False False\n",
      " False False False False False False False False False False False False\n",
      " False False False  True False False False False False False False False\n",
      " False False False False False False False False False False False False\n",
      " False False False False False False False False False False False False\n",
      " False False False False False False False False False False False False\n",
      " False False False False False False False False False False False False\n",
      " False False False False False False False False False False False False\n",
      " False False False False False]\n",
      "Feature Ranking: [  7   1   2  60   1   1   5   1  43   1   1   1  88   1  21   1  58  32\n",
      "  96  25  48  19  45  70  24  38  64  33  40  13  22   6  11  18  10   9\n",
      "  29  31  36   1  41  28   8  12  35  44  74  86  72  34  46  14  73  37\n",
      "  26   4  65  30  47  42  16  39  87   3  15 101  83  95  63  62  91  94\n",
      "  81  82  84  93  92  76  77 100 102  49  79  52  50  27  54  53  68  78\n",
      "  69  90  55  57  51  56 103  85  97  23  67  61  17  20  89  66  75  98\n",
      "  71  80  59  99 104]\n"
     ]
    }
   ],
   "source": [
    "from sklearn.feature_selection import RFE\n",
    "from sklearn.linear_model import LogisticRegression\n",
    "\n",
    "# Feature extraction\n",
    "model = LogisticRegression(max_iter = 10000)\n",
    "rfe = RFE(model, 10)\n",
    "fit = rfe.fit(X, y)\n",
    "print(\"Num Features: %s\" % (fit.n_features_))\n",
    "print(\"Selected Features: %s\" % (fit.support_))\n",
    "print(\"Feature Ranking: %s\" % (fit.ranking_))"
   ]
  },
  {
   "cell_type": "code",
   "execution_count": 50,
   "id": "095c8d8c",
   "metadata": {
    "id": "095c8d8c"
   },
   "outputs": [
    {
     "data": {
      "image/png": "[encoded data removed]",
      "text/plain": [
       "<Figure size 1152x864 with 2 Axes>"
      ]
     },
     "metadata": {
      "needs_background": "light"
     },
     "output_type": "display_data"
    }
   ],
   "source": [
    "#Data Correlation Visualization\n",
    "correlation = df.corr()\n",
    "\n",
    "#Heatmap\n",
    "plt.figure(figsize=(16,12))\n",
    "plt.title('Heatmap for Rain in Australia dfset')\n",
    "ax = sns.heatmap(correlation, square=True, annot=True, fmt='.2f', linecolor='white')\n",
    "ax.set_xticklabels(ax.get_xticklabels(), rotation=90)\n",
    "ax.set_yticklabels(ax.get_yticklabels(), rotation=30)           \n",
    "plt.show()"
   ]
  },
  {
   "cell_type": "code",
   "execution_count": null,
   "id": "60911b5f",
   "metadata": {},
   "outputs": [],
   "source": []
  }
 ],
 "metadata": {
  "colab": {
   "collapsed_sections": [],
   "name": "FDS_Project_Weather_AU.ipynb",
   "provenance": []
  },
  "kernelspec": {
   "display_name": "Python 3 (ipykernel)",
   "language": "python",
   "name": "python3"
  },
  "language_info": {
   "codemirror_mode": {
    "name": "ipython",
    "version": 3
   },
   "file_extension": ".py",
   "mimetype": "text/x-python",
   "name": "python",
   "nbconvert_exporter": "python",
   "pygments_lexer": "ipython3",
   "version": "3.9.7"
  }
 },
 "nbformat": 4,
 "nbformat_minor": 5
}
