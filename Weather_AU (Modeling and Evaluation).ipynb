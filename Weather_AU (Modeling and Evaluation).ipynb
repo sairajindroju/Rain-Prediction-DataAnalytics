{
 "cells": [
  {
   "cell_type": "code",
   "execution_count": 24,
   "id": "f48007ce",
   "metadata": {},
   "outputs": [],
   "source": [
    "import numpy as np\n",
    "import pandas as pd\n",
    "\n",
    "#Visualisation Libraries\n",
    "import matplotlib as mpl\n",
    "import matplotlib.pyplot as plt\n",
    "import seaborn as sns"
   ]
  },
  {
   "cell_type": "code",
   "execution_count": 25,
   "id": "44d1388f",
   "metadata": {},
   "outputs": [],
   "source": [
    "#Read dataset\n",
    "\n",
    "df = pd.read_csv(\"Processed_Weather_Data.csv\")\n",
    "df = df.drop('Unnamed: 0', axis = 1)\n",
    "df = df.drop('Unnamed: 115', axis = 1)\n",
    "df = df.drop('Date', axis = 1)"
   ]
  },
  {
   "cell_type": "code",
   "execution_count": 26,
   "id": "351c5f2b",
   "metadata": {},
   "outputs": [],
   "source": [
    "y = df['RainTomorrow']\n",
    "X = df.drop(columns = ['RainTomorrow'])"
   ]
  },
  {
   "cell_type": "code",
   "execution_count": 27,
   "id": "b0aceba2",
   "metadata": {},
   "outputs": [],
   "source": [
    "#Splitting the Data into Train and Test Data\n",
    "\n",
    "from sklearn.model_selection import train_test_split\n",
    "X_train, X_test, y_train, y_test = train_test_split(X, y, test_size=0.33, random_state=15)"
   ]
  },
  {
   "cell_type": "markdown",
   "id": "357c6dcb",
   "metadata": {},
   "source": [
    "# Logistic Regression"
   ]
  },
  {
   "cell_type": "code",
   "execution_count": 28,
   "id": "81e76336",
   "metadata": {},
   "outputs": [
    {
     "data": {
      "text/plain": [
       "LogisticRegression(random_state=0, solver='liblinear')"
      ]
     },
     "execution_count": 28,
     "metadata": {},
     "output_type": "execute_result"
    }
   ],
   "source": [
    "from sklearn.linear_model import LogisticRegression\n",
    "\n",
    "# instantiate the model\n",
    "logreg = LogisticRegression(solver='liblinear', random_state=0)\n",
    "\n",
    "# fit the model\n",
    "logreg.fit(X_train, y_train)"
   ]
  },
  {
   "cell_type": "code",
   "execution_count": 29,
   "id": "82e6e99e",
   "metadata": {},
   "outputs": [
    {
     "name": "stdout",
     "output_type": "stream",
     "text": [
      "Model accuracy score (Testing data): 0.8454\n",
      "Training set score: 0.8503\n"
     ]
    }
   ],
   "source": [
    "y_pred = logreg.predict(X_test)\n",
    "\n",
    "from sklearn.metrics import accuracy_score\n",
    "\n",
    "print('Model accuracy score (Testing data): {0:0.4f}'. format(accuracy_score(y_test, y_pred)))\n",
    "\n",
    "print('Training set score: {:.4f}'.format(logreg.score(X_train, y_train)))"
   ]
  },
  {
   "cell_type": "code",
   "execution_count": 30,
   "id": "1ccf658c",
   "metadata": {},
   "outputs": [
    {
     "name": "stdout",
     "output_type": "stream",
     "text": [
      "Confusion matrix\n",
      "\n",
      " [[35434  2029]\n",
      " [ 5391  5148]]\n",
      "\n",
      "True Negatives(TN) =  35434\n",
      "\n",
      "True Positives(TP) =  5148\n",
      "\n",
      "False Positives(FP) =  2029\n",
      "\n",
      "False Negatives(FN) =  5391\n"
     ]
    }
   ],
   "source": [
    "# Print the Confusion Matrix \n",
    "\n",
    "from sklearn.metrics import confusion_matrix\n",
    "\n",
    "cm = confusion_matrix(y_test, y_pred)\n",
    "\n",
    "print('Confusion matrix\\n\\n', cm)\n",
    "\n",
    "print('\\nTrue Negatives(TN) = ', cm[0,0])\n",
    "\n",
    "print('\\nTrue Positives(TP) = ', cm[1,1])\n",
    "\n",
    "print('\\nFalse Positives(FP) = ', cm[0,1])\n",
    "\n",
    "print('\\nFalse Negatives(FN) = ', cm[1,0])\n",
    "\n",
    "TN = cm[0,0]\n",
    "TP = cm[1,1]\n",
    "FP = cm[0,1]\n",
    "FN = cm[1,0]"
   ]
  },
  {
   "cell_type": "code",
   "execution_count": 31,
   "id": "420b0014",
   "metadata": {},
   "outputs": [
    {
     "data": {
      "text/plain": [
       "0    37463\n",
       "1    10539\n",
       "Name: RainTomorrow, dtype: int64"
      ]
     },
     "execution_count": 31,
     "metadata": {},
     "output_type": "execute_result"
    }
   ],
   "source": [
    "y_test.value_counts()"
   ]
  },
  {
   "cell_type": "code",
   "execution_count": 32,
   "id": "2643b6e9",
   "metadata": {},
   "outputs": [
    {
     "data": {
      "text/plain": [
       "<AxesSubplot:>"
      ]
     },
     "execution_count": 32,
     "metadata": {},
     "output_type": "execute_result"
    },
    {
     "data": {
      "image/png": "[encoded data removed]",
      "text/plain": [
       "<Figure size 432x288 with 2 Axes>"
      ]
     },
     "metadata": {
      "needs_background": "light"
     },
     "output_type": "display_data"
    }
   ],
   "source": [
    "# visualize confusion matrix with seaborn heatmap\n",
    "\n",
    "cm_matrix = pd.DataFrame(data=cm, index=['Actual Negative:0', 'Actual Positive:1'], \n",
    "                                 columns=['Predict Negative:0', 'Predict Positive:1'])\n",
    "\n",
    "sns.heatmap(cm_matrix, annot=True, fmt='d', cmap='Blues')"
   ]
  },
  {
   "cell_type": "code",
   "execution_count": 33,
   "id": "08d38f8f",
   "metadata": {},
   "outputs": [
    {
     "name": "stdout",
     "output_type": "stream",
     "text": [
      "              precision    recall  f1-score   support\n",
      "\n",
      "           0       0.87      0.95      0.91     37463\n",
      "           1       0.72      0.49      0.58     10539\n",
      "\n",
      "    accuracy                           0.85     48002\n",
      "   macro avg       0.79      0.72      0.74     48002\n",
      "weighted avg       0.83      0.85      0.83     48002\n",
      "\n"
     ]
    }
   ],
   "source": [
    "# Printing the Classification Metrics\n",
    "from sklearn.metrics import classification_report\n",
    "\n",
    "print(classification_report(y_test, y_pred))"
   ]
  },
  {
   "cell_type": "code",
   "execution_count": 34,
   "id": "147daa5f",
   "metadata": {},
   "outputs": [
    {
     "name": "stdout",
     "output_type": "stream",
     "text": [
      "False Negative Rate : 0.51\n",
      "Youdens Index : 0.43\n",
      "Discriminant Power : 1.55\n",
      "Balanced Classification Rate : 0.72\n",
      "Geometric Mean : 0.68\n"
     ]
    }
   ],
   "source": [
    "# Additional Metrics for Model Evaluation\n",
    "\n",
    "# False Negative Rate (Miss rate) : The proportion of positive samples that were incorrectly classified.\n",
    "# FNR = FN / (FN + TP)\n",
    "\n",
    "FNR = FN / (FN + TP)\n",
    "print('False Negative Rate : {0:0.2f}'. format(FNR))\n",
    "\n",
    "# Youden's Index : Measures the discriminative power of the model\n",
    "# YI : TPR + TNR - 1\n",
    "\n",
    "TPR = TP / (TP + FN)\n",
    "TNR = TN / (TN + FP)\n",
    "\n",
    "YI = TPR + TNR - 1\n",
    "print('Youdens Index : {0:0.2f}'. format(YI))\n",
    "\n",
    "# Discriminant Power : This metric evaluates how well classification model distinguishes \n",
    "# between positive and negative class\n",
    "\n",
    "# DP = (3)^0.5 / Pi * (log(TPR/(1-TNR)) + log(TNR/(1-TPR)))\n",
    "\n",
    "DP = ((3)**0.5 / 3.14) * (np.log(TPR/(1-TNR)) + np.log(TNR/(1-TPR)))\n",
    "\n",
    "print('Discriminant Power : {0:0.2f}'. format(DP))\n",
    "\n",
    "#Balanced Classification Rate (Blanaced Accuracy): This Metric combines both specificity and sensitivity.\n",
    "# BCR = 0.5 * (TPR + TNR)\n",
    "\n",
    "BCR = 0.5 * (TPR + TNR)\n",
    "print('Balanced Classification Rate : {0:0.2f}'. format(BCR))\n",
    "\n",
    "# Geometric Mean : It tries to aggregate specificity and sensitivity\n",
    "# GM : (TPR * TNR)**0.5\n",
    "\n",
    "GM = (TPR * TNR)**0.5\n",
    "print('Geometric Mean : {0:0.2f}'. format(GM))"
   ]
  },
  {
   "cell_type": "code",
   "execution_count": 35,
   "id": "e910d72f",
   "metadata": {},
   "outputs": [
    {
     "name": "stdout",
     "output_type": "stream",
     "text": [
      "Fitting 5 folds for each of 6 candidates, totalling 30 fits\n"
     ]
    },
    {
     "data": {
      "text/plain": [
       "GridSearchCV(cv=5,\n",
       "             estimator=LogisticRegression(random_state=0, solver='liblinear'),\n",
       "             n_jobs=-1,\n",
       "             param_grid=[{'penalty': ['l1', 'l2']}, {'C': [1, 10, 100, 1000]}],\n",
       "             scoring='accuracy', verbose=2)"
      ]
     },
     "execution_count": 35,
     "metadata": {},
     "output_type": "execute_result"
    }
   ],
   "source": [
    "# Hyper Parameter Optimization using Grid Search CV\n",
    "from sklearn.model_selection import GridSearchCV\n",
    "\n",
    "parameters = [{'penalty':['l1','l2']}, \n",
    "              {'C':[1, 10, 100, 1000]}]\n",
    "\n",
    "\n",
    "grid_search = GridSearchCV(estimator = logreg,  \n",
    "                           param_grid = parameters,\n",
    "                           scoring = 'accuracy',\n",
    "                           cv = 5,\n",
    "                           verbose=2,\n",
    "                           n_jobs=-1)\n",
    "\n",
    "grid_search.fit(X_train, y_train)"
   ]
  },
  {
   "cell_type": "code",
   "execution_count": 36,
   "id": "07463217",
   "metadata": {},
   "outputs": [
    {
     "name": "stdout",
     "output_type": "stream",
     "text": [
      "Parameters that give the best results : \n",
      "\n",
      " {'penalty': 'l2'}\n",
      "\n",
      "\n",
      "Estimator that was chosen by the search : \n",
      "\n",
      " LogisticRegression(random_state=0, solver='liblinear')\n"
     ]
    }
   ],
   "source": [
    "# print parameters that give the best results\n",
    "print('Parameters that give the best results :','\\n\\n', (grid_search.best_params_))\n",
    "\n",
    "# print estimator that was chosen by the GridSearch\n",
    "print('\\n\\nEstimator that was chosen by the search :','\\n\\n', (grid_search.best_estimator_))"
   ]
  },
  {
   "cell_type": "code",
   "execution_count": 37,
   "id": "699b8314",
   "metadata": {},
   "outputs": [
    {
     "name": "stdout",
     "output_type": "stream",
     "text": [
      "GridSearch CV score on test set: 0.8454\n"
     ]
    }
   ],
   "source": [
    "# calculate GridSearch CV score on test set\n",
    "\n",
    "print('GridSearch CV score on test set: {0:0.4f}'.format(grid_search.score(X_test, y_test)))"
   ]
  },
  {
   "cell_type": "code",
   "execution_count": 38,
   "id": "39fc66e0",
   "metadata": {},
   "outputs": [
    {
     "name": "stdout",
     "output_type": "stream",
     "text": [
      "Confusion matrix\n",
      "\n",
      " [[35434  2029]\n",
      " [ 5391  5148]]\n",
      "\n",
      "True Positives(TP) =  35434\n",
      "\n",
      "True Negatives(TN) =  5148\n",
      "\n",
      "False Positives(FP) =  2029\n",
      "\n",
      "False Negatives(FN) =  5391\n"
     ]
    }
   ],
   "source": [
    "# Choosing the model suggested by Grid Search CV and using it to predict the values\n",
    "model = grid_search.best_estimator_\n",
    "y_pred = model.predict(X_test)\n",
    "\n",
    "\n",
    "# Print the Confusion Matrix \n",
    "\n",
    "from sklearn.metrics import confusion_matrix\n",
    "\n",
    "cm = confusion_matrix(y_test, y_pred)\n",
    "\n",
    "print('Confusion matrix\\n\\n', cm)\n",
    "\n",
    "print('\\nTrue Positives(TP) = ', cm[0,0])\n",
    "\n",
    "print('\\nTrue Negatives(TN) = ', cm[1,1])\n",
    "\n",
    "print('\\nFalse Positives(FP) = ', cm[0,1])\n",
    "\n",
    "print('\\nFalse Negatives(FN) = ', cm[1,0])\n",
    "\n",
    "TP = cm[0,0]\n",
    "TN = cm[1,1]\n",
    "FP = cm[0,1]\n",
    "FN = cm[1,0]"
   ]
  },
  {
   "cell_type": "code",
   "execution_count": 40,
   "id": "5267aec6",
   "metadata": {},
   "outputs": [
    {
     "data": {
      "text/plain": [
       "<AxesSubplot:>"
      ]
     },
     "execution_count": 40,
     "metadata": {},
     "output_type": "execute_result"
    },
    {
     "data": {
      "image/png": "[encoded data removed]",
      "text/plain": [
       "<Figure size 432x288 with 2 Axes>"
      ]
     },
     "metadata": {
      "needs_background": "light"
     },
     "output_type": "display_data"
    }
   ],
   "source": [
    "# visualize confusion matrix with seaborn heatmap\n",
    "\n",
    "cm_matrix = pd.DataFrame(data=cm, index=['Actual Negative:0', 'Actual Positive:1'], \n",
    "                                 columns=['Predict Negative:0', 'Predict Positive:1'])\n",
    "\n",
    "sns.heatmap(cm_matrix, annot=True, fmt='d', cmap='Blues')"
   ]
  },
  {
   "cell_type": "code",
   "execution_count": 41,
   "id": "a5b0e368",
   "metadata": {},
   "outputs": [
    {
     "name": "stdout",
     "output_type": "stream",
     "text": [
      "              precision    recall  f1-score   support\n",
      "\n",
      "           0       0.87      0.95      0.91     37463\n",
      "           1       0.72      0.49      0.58     10539\n",
      "\n",
      "    accuracy                           0.85     48002\n",
      "   macro avg       0.79      0.72      0.74     48002\n",
      "weighted avg       0.83      0.85      0.83     48002\n",
      "\n"
     ]
    }
   ],
   "source": [
    "# Printing the Classification Metrics (after model selection by Grid Search CV)\n",
    "\n",
    "print(classification_report(y_test, y_pred))"
   ]
  },
  {
   "cell_type": "code",
   "execution_count": 42,
   "id": "362dec7d",
   "metadata": {},
   "outputs": [
    {
     "name": "stdout",
     "output_type": "stream",
     "text": [
      "False Negative Rate : 0.13\n",
      "Youdens Index : 0.59\n",
      "Discriminant Power : 1.55\n",
      "Balanced Classification Rate : 0.79\n",
      "Geometric Mean : 0.79\n"
     ]
    }
   ],
   "source": [
    "# Additional Metrics (after model selection by Grid Search CV)\n",
    "FNR = FN / (FN + TP)\n",
    "print('False Negative Rate : {0:0.2f}'. format(FNR))\n",
    "\n",
    "# Youden's Index : Measures the discriminative power of the model\n",
    "# YI : TPR + TNR - 1\n",
    "\n",
    "# Want this to be closer to 1. \n",
    "\n",
    "TPR = TP / (TP + FN)\n",
    "TNR = TN / (TN + FP)\n",
    "\n",
    "YI = TPR + TNR - 1\n",
    "print('Youdens Index : {0:0.2f}'. format(YI))\n",
    "\n",
    "# Discriminant Power : This metric evaluates how well classification model distinguishes \n",
    "# between positive and negative class\n",
    "\n",
    "# DP = (3)^0.5 / Pi * (log(TPR/(1-TNR)) + log(TNR/(1-TPR)))\n",
    "\n",
    "DP = ((3)**0.5 / 3.14) * (np.log(TPR/(1-TNR)) + np.log(TNR/(1-TPR)))\n",
    "\n",
    "print('Discriminant Power : {0:0.2f}'. format(DP))\n",
    "\n",
    "#Balanced Classification Rate (Blanaced Accuracy): This Metric combines both specificity and sensitivity.\n",
    "# BCR = 0.5 * (TPR + TNR)\n",
    "\n",
    "BCR = 0.5 * (TPR + TNR)\n",
    "print('Balanced Classification Rate : {0:0.2f}'. format(BCR))\n",
    "\n",
    "# Geometric Mean : It tries to aggregate specificity and sensitivity\n",
    "# GM : (TPR * TNR)**0.5\n",
    "\n",
    "GM = (TPR * TNR)**0.5\n",
    "print('Geometric Mean : {0:0.2f}'. format(GM))"
   ]
  },
  {
   "cell_type": "markdown",
   "id": "7f871bb6",
   "metadata": {},
   "source": [
    "# Random Forest Classifier "
   ]
  },
  {
   "cell_type": "code",
   "execution_count": 43,
   "id": "bff3c706",
   "metadata": {},
   "outputs": [
    {
     "data": {
      "text/plain": [
       "RandomForestClassifier(max_depth=2, random_state=0)"
      ]
     },
     "execution_count": 43,
     "metadata": {},
     "output_type": "execute_result"
    }
   ],
   "source": [
    "from sklearn.ensemble import RandomForestClassifier\n",
    "clf = RandomForestClassifier(max_depth=2, random_state=0)\n",
    "clf.fit(X_train, y_train)"
   ]
  },
  {
   "cell_type": "code",
   "execution_count": 44,
   "id": "2242350d",
   "metadata": {},
   "outputs": [
    {
     "name": "stdout",
     "output_type": "stream",
     "text": [
      "Model accuracy score (Testing data): 0.7811\n",
      "Training set score: 0.7817\n"
     ]
    }
   ],
   "source": [
    "y_pred = clf.predict(X_test)\n",
    "\n",
    "from sklearn.metrics import accuracy_score\n",
    "\n",
    "print('Model accuracy score (Testing data): {0:0.4f}'. format(accuracy_score(y_test, y_pred)))\n",
    "\n",
    "print('Training set score: {:.4f}'.format(clf.score(X_train, y_train)))"
   ]
  },
  {
   "cell_type": "code",
   "execution_count": 45,
   "id": "6ef36f43",
   "metadata": {},
   "outputs": [
    {
     "name": "stdout",
     "output_type": "stream",
     "text": [
      "Confusion matrix\n",
      "\n",
      " [[37462     1]\n",
      " [10505    34]]\n",
      "\n",
      "True Positives(TP) =  37462\n",
      "\n",
      "True Negatives(TN) =  34\n",
      "\n",
      "False Positives(FP) =  1\n",
      "\n",
      "False Negatives(FN) =  10505\n"
     ]
    }
   ],
   "source": [
    "# Print the Confusion Matrix and slice it into four pieces\n",
    "\n",
    "from sklearn.metrics import confusion_matrix\n",
    "\n",
    "cm = confusion_matrix(y_test, y_pred)\n",
    "\n",
    "print('Confusion matrix\\n\\n', cm)\n",
    "\n",
    "print('\\nTrue Positives(TP) = ', cm[0,0])\n",
    "\n",
    "print('\\nTrue Negatives(TN) = ', cm[1,1])\n",
    "\n",
    "print('\\nFalse Positives(FP) = ', cm[0,1])\n",
    "\n",
    "print('\\nFalse Negatives(FN) = ', cm[1,0])\n",
    "\n",
    "TP = cm[0,0]\n",
    "TN = cm[1,1]\n",
    "FP = cm[0,1]\n",
    "FN = cm[1,0]"
   ]
  },
  {
   "cell_type": "code",
   "execution_count": 46,
   "id": "4e9c22a8",
   "metadata": {},
   "outputs": [
    {
     "data": {
      "text/plain": [
       "<AxesSubplot:>"
      ]
     },
     "execution_count": 46,
     "metadata": {},
     "output_type": "execute_result"
    },
    {
     "data": {
      "image/png": "[encoded data removed]",
      "text/plain": [
       "<Figure size 432x288 with 2 Axes>"
      ]
     },
     "metadata": {
      "needs_background": "light"
     },
     "output_type": "display_data"
    }
   ],
   "source": [
    "# visualize confusion matrix with seaborn heatmap\n",
    "\n",
    "cm_matrix = pd.DataFrame(data=cm, index=['Actual Negative:0', 'Actual Positive:1'], \n",
    "                                 columns=['Predict Negative:0', 'Predict Positive:1'])\n",
    "\n",
    "sns.heatmap(cm_matrix, annot=True, fmt='d', cmap='Blues')"
   ]
  },
  {
   "cell_type": "code",
   "execution_count": 47,
   "id": "ba28e3d9",
   "metadata": {
    "scrolled": true
   },
   "outputs": [
    {
     "name": "stdout",
     "output_type": "stream",
     "text": [
      "              precision    recall  f1-score   support\n",
      "\n",
      "           0       0.78      1.00      0.88     37463\n",
      "           1       0.97      0.00      0.01     10539\n",
      "\n",
      "    accuracy                           0.78     48002\n",
      "   macro avg       0.88      0.50      0.44     48002\n",
      "weighted avg       0.82      0.78      0.69     48002\n",
      "\n"
     ]
    }
   ],
   "source": [
    "# Printing the Classification Metrics\n",
    "\n",
    "print(classification_report(y_test, y_pred))"
   ]
  },
  {
   "cell_type": "code",
   "execution_count": 48,
   "id": "d39b8938",
   "metadata": {},
   "outputs": [
    {
     "name": "stdout",
     "output_type": "stream",
     "text": [
      "False Negative Rate : 0.22\n",
      "Youdens Index : 0.75\n",
      "Discriminant Power : 2.65\n",
      "Balanced Classification Rate : 0.88\n",
      "Geometric Mean : 0.87\n"
     ]
    }
   ],
   "source": [
    "# Additional Metrics\n",
    "FNR = FN / (FN + TP)\n",
    "print('False Negative Rate : {0:0.2f}'. format(FNR))\n",
    "\n",
    "\n",
    "TPR = TP / (TP + FN)\n",
    "TNR = TN / (TN + FP)\n",
    "\n",
    "YI = TPR + TNR - 1\n",
    "print('Youdens Index : {0:0.2f}'. format(YI))\n",
    "\n",
    "\n",
    "DP = ((3)**0.5 / 3.14) * (np.log(TPR/(1-TNR)) + np.log(TNR/(1-TPR)))\n",
    "print('Discriminant Power : {0:0.2f}'. format(DP))\n",
    "\n",
    "BCR = 0.5 * (TPR + TNR)\n",
    "print('Balanced Classification Rate : {0:0.2f}'. format(BCR))\n",
    "\n",
    "GM = (TPR * TNR)**0.5\n",
    "print('Geometric Mean : {0:0.2f}'. format(GM))"
   ]
  },
  {
   "cell_type": "code",
   "execution_count": 49,
   "id": "3c91377f",
   "metadata": {},
   "outputs": [
    {
     "name": "stdout",
     "output_type": "stream",
     "text": [
      "Fitting 2 folds for each of 84 candidates, totalling 168 fits\n"
     ]
    },
    {
     "data": {
      "text/plain": [
       "GridSearchCV(cv=2,\n",
       "             estimator=RandomForestClassifier(max_depth=2, random_state=0),\n",
       "             n_jobs=-1,\n",
       "             param_grid={'criterion': ['gini', 'entropy'],\n",
       "                         'max_depth': [2, 3, 4, 5, 6, 7, 8],\n",
       "                         'max_features': ['auto', 'sqrt', 'log2'],\n",
       "                         'n_estimators': [200, 500]},\n",
       "             scoring='accuracy', verbose=2)"
      ]
     },
     "execution_count": 49,
     "metadata": {},
     "output_type": "execute_result"
    }
   ],
   "source": [
    "# Hyper Parameter Optimization using Grid Search CV\n",
    "from sklearn.model_selection import GridSearchCV\n",
    "\n",
    "parameters = { \n",
    "    'n_estimators': [200, 500],\n",
    "    'max_features': ['auto', 'sqrt', 'log2'],\n",
    "    'max_depth' : [2,3,4,5,6,7,8],\n",
    "    'criterion' :['gini', 'entropy']\n",
    "}\n",
    "\n",
    "\n",
    "grid_search = GridSearchCV(estimator = clf,  \n",
    "                           param_grid = parameters,\n",
    "                           scoring = 'accuracy',\n",
    "                           cv = 2,\n",
    "                           verbose=2,\n",
    "                           n_jobs=-1)\n",
    "\n",
    "grid_search.fit(X_train, y_train)"
   ]
  },
  {
   "cell_type": "code",
   "execution_count": 50,
   "id": "5e9ddb55",
   "metadata": {},
   "outputs": [
    {
     "name": "stdout",
     "output_type": "stream",
     "text": [
      "Parameters that give the best results : \n",
      "\n",
      " {'criterion': 'gini', 'max_depth': 8, 'max_features': 'auto', 'n_estimators': 200}\n",
      "\n",
      "\n",
      "Estimator that was chosen by the search : \n",
      "\n",
      " RandomForestClassifier(max_depth=8, n_estimators=200, random_state=0)\n"
     ]
    }
   ],
   "source": [
    "# print parameters that give the best results\n",
    "print('Parameters that give the best results :','\\n\\n', (grid_search.best_params_))\n",
    "\n",
    "# print estimator that was chosen by the GridSearch\n",
    "print('\\n\\nEstimator that was chosen by the search :','\\n\\n', (grid_search.best_estimator_))"
   ]
  },
  {
   "cell_type": "code",
   "execution_count": 51,
   "id": "70de3b3f",
   "metadata": {},
   "outputs": [
    {
     "name": "stdout",
     "output_type": "stream",
     "text": [
      "GridSearch CV score on test set: 0.8366\n"
     ]
    }
   ],
   "source": [
    "# calculate GridSearch CV score on test set\n",
    "\n",
    "print('GridSearch CV score on test set: {0:0.4f}'.format(grid_search.score(X_test, y_test)))"
   ]
  },
  {
   "cell_type": "code",
   "execution_count": 52,
   "id": "df3bcd64",
   "metadata": {},
   "outputs": [
    {
     "name": "stdout",
     "output_type": "stream",
     "text": [
      "Confusion matrix\n",
      "\n",
      " [[36540   923]\n",
      " [ 6919  3620]]\n",
      "\n",
      "True Positives(TP) =  36540\n",
      "\n",
      "True Negatives(TN) =  3620\n",
      "\n",
      "False Positives(FP) =  923\n",
      "\n",
      "False Negatives(FN) =  6919\n"
     ]
    }
   ],
   "source": [
    "# Choosing the model suggested by Grid Search CV and using it to predict the values\n",
    "\n",
    "model = grid_search.best_estimator_\n",
    "y_pred = model.predict(X_test)\n",
    "\n",
    "# Print the Confusion Matrix \n",
    "\n",
    "from sklearn.metrics import confusion_matrix\n",
    "\n",
    "cm = confusion_matrix(y_test, y_pred)\n",
    "\n",
    "print('Confusion matrix\\n\\n', cm)\n",
    "\n",
    "print('\\nTrue Positives(TP) = ', cm[0,0])\n",
    "\n",
    "print('\\nTrue Negatives(TN) = ', cm[1,1])\n",
    "\n",
    "print('\\nFalse Positives(FP) = ', cm[0,1])\n",
    "\n",
    "print('\\nFalse Negatives(FN) = ', cm[1,0])\n",
    "\n",
    "TP = cm[0,0]\n",
    "TN = cm[1,1]\n",
    "FP = cm[0,1]\n",
    "FN = cm[1,0]"
   ]
  },
  {
   "cell_type": "code",
   "execution_count": 53,
   "id": "fb8d7568",
   "metadata": {},
   "outputs": [
    {
     "data": {
      "text/plain": [
       "<AxesSubplot:>"
      ]
     },
     "execution_count": 53,
     "metadata": {},
     "output_type": "execute_result"
    },
    {
     "data": {
      "image/png": "[encoded data removed]",
      "text/plain": [
       "<Figure size 432x288 with 2 Axes>"
      ]
     },
     "metadata": {
      "needs_background": "light"
     },
     "output_type": "display_data"
    }
   ],
   "source": [
    "# visualize confusion matrix with seaborn heatmap\n",
    "\n",
    "cm_matrix = pd.DataFrame(data=cm, index=['Actual Negative:0', 'Actual Positive:1'], \n",
    "                                 columns=['Predict Negative:0', 'Predict Positive:1'])\n",
    "\n",
    "sns.heatmap(cm_matrix, annot=True, fmt='d', cmap='Blues')"
   ]
  },
  {
   "cell_type": "code",
   "execution_count": 54,
   "id": "9d80bf7c",
   "metadata": {},
   "outputs": [
    {
     "name": "stdout",
     "output_type": "stream",
     "text": [
      "              precision    recall  f1-score   support\n",
      "\n",
      "           0       0.84      0.98      0.90     37463\n",
      "           1       0.80      0.34      0.48     10539\n",
      "\n",
      "    accuracy                           0.84     48002\n",
      "   macro avg       0.82      0.66      0.69     48002\n",
      "weighted avg       0.83      0.84      0.81     48002\n",
      "\n"
     ]
    }
   ],
   "source": [
    "# Printing the Classification Metrics (after model selection by Grid Search CV)\n",
    "\n",
    "print(classification_report(y_test, y_pred))"
   ]
  },
  {
   "cell_type": "code",
   "execution_count": 55,
   "id": "1e370752",
   "metadata": {},
   "outputs": [
    {
     "name": "stdout",
     "output_type": "stream",
     "text": [
      "False Negative Rate : 0.16\n",
      "Youdens Index : 0.64\n",
      "Discriminant Power : 1.67\n",
      "Balanced Classification Rate : 0.82\n",
      "Geometric Mean : 0.82\n"
     ]
    }
   ],
   "source": [
    "# Additional Metrics (after model selection by Grid Search CV)\n",
    "FNR = FN / (FN + TP)\n",
    "print('False Negative Rate : {0:0.2f}'. format(FNR))\n",
    "\n",
    "\n",
    "TPR = TP / (TP + FN)\n",
    "TNR = TN / (TN + FP)\n",
    "\n",
    "YI = TPR + TNR - 1\n",
    "print('Youdens Index : {0:0.2f}'. format(YI))\n",
    "\n",
    "\n",
    "DP = ((3)**0.5 / 3.14) * (np.log(TPR/(1-TNR)) + np.log(TNR/(1-TPR)))\n",
    "print('Discriminant Power : {0:0.2f}'. format(DP))\n",
    "\n",
    "BCR = 0.5 * (TPR + TNR)\n",
    "print('Balanced Classification Rate : {0:0.2f}'. format(BCR))\n",
    "\n",
    "GM = (TPR * TNR)**0.5\n",
    "print('Geometric Mean : {0:0.2f}'. format(GM))"
   ]
  },
  {
   "cell_type": "markdown",
   "id": "d44f2f3c",
   "metadata": {},
   "source": [
    "# KNN Classifier"
   ]
  },
  {
   "cell_type": "code",
   "execution_count": 56,
   "id": "3f344cc9",
   "metadata": {},
   "outputs": [
    {
     "data": {
      "text/plain": [
       "KNeighborsClassifier(n_neighbors=3)"
      ]
     },
     "execution_count": 56,
     "metadata": {},
     "output_type": "execute_result"
    }
   ],
   "source": [
    "from sklearn.neighbors import KNeighborsClassifier\n",
    "neigh = KNeighborsClassifier(n_neighbors=3)\n",
    "neigh.fit(X_train, y_train)"
   ]
  },
  {
   "cell_type": "code",
   "execution_count": 57,
   "id": "8af6a3ac",
   "metadata": {},
   "outputs": [],
   "source": [
    "y_pred = neigh.predict(X_test)\n",
    "\n",
    "from sklearn.metrics import accuracy_score"
   ]
  },
  {
   "cell_type": "code",
   "execution_count": 58,
   "id": "e3c85aea",
   "metadata": {},
   "outputs": [
    {
     "name": "stdout",
     "output_type": "stream",
     "text": [
      "Model accuracy score (Testing data): 0.7923\n"
     ]
    }
   ],
   "source": [
    "print('Model accuracy score (Testing data): {0:0.4f}'. format(accuracy_score(y_test, y_pred)))"
   ]
  },
  {
   "cell_type": "code",
   "execution_count": 59,
   "id": "608a3474",
   "metadata": {},
   "outputs": [
    {
     "name": "stdout",
     "output_type": "stream",
     "text": [
      "[CV] END .........................................penalty=l1; total time=  23.3s\n",
      "[CV] END criterion=gini, max_depth=2, max_features=sqrt, n_estimators=200; total time=   4.2s\n",
      "[CV] END criterion=gini, max_depth=2, max_features=log2, n_estimators=500; total time=   8.8s\n",
      "[CV] END criterion=gini, max_depth=3, max_features=log2, n_estimators=200; total time=   3.8s\n",
      "[CV] END criterion=gini, max_depth=4, max_features=auto, n_estimators=200; total time=   5.6s\n",
      "[CV] END criterion=gini, max_depth=4, max_features=sqrt, n_estimators=200; total time=   6.5s\n",
      "[CV] END criterion=gini, max_depth=4, max_features=log2, n_estimators=500; total time=  11.0s\n",
      "[CV] END criterion=gini, max_depth=5, max_features=log2, n_estimators=200; total time=   4.5s\n",
      "[CV] END criterion=gini, max_depth=6, max_features=auto, n_estimators=200; total time=   7.7s\n",
      "[CV] END criterion=gini, max_depth=6, max_features=auto, n_estimators=500; total time=  19.2s\n",
      "[CV] END criterion=gini, max_depth=7, max_features=sqrt, n_estimators=200; total time=   8.7s\n",
      "[CV] END criterion=gini, max_depth=7, max_features=log2, n_estimators=500; total time=  15.8s\n",
      "[CV] END criterion=gini, max_depth=8, max_features=log2, n_estimators=200; total time=   7.5s\n",
      "[CV] END criterion=entropy, max_depth=2, max_features=auto, n_estimators=200; total time=   4.2s\n",
      "[CV] END criterion=entropy, max_depth=2, max_features=auto, n_estimators=500; total time=   9.5s\n",
      "[CV] END criterion=entropy, max_depth=2, max_features=sqrt, n_estimators=500; total time=  10.6s\n",
      "[CV] END criterion=entropy, max_depth=3, max_features=sqrt, n_estimators=500; total time=  15.4s\n",
      "[CV] END criterion=entropy, max_depth=4, max_features=sqrt, n_estimators=500; total time=  15.6s\n",
      "[CV] END criterion=entropy, max_depth=5, max_features=sqrt, n_estimators=500; total time=  16.1s\n",
      "[CV] END criterion=entropy, max_depth=6, max_features=sqrt, n_estimators=500; total time=  17.5s\n",
      "[CV] END criterion=entropy, max_depth=7, max_features=sqrt, n_estimators=500; total time=  21.1s\n",
      "[CV] END criterion=entropy, max_depth=8, max_features=log2, n_estimators=200; total time=   7.0s\n",
      "[CV] END .........................................penalty=l2; total time=   3.0s\n",
      "[CV] END ................................................C=1; total time=   2.1s\n",
      "[CV] END ................................................C=1; total time=   2.1s\n",
      "[CV] END ...............................................C=10; total time=   2.1s\n",
      "[CV] END ...............................................C=10; total time=   2.7s\n",
      "[CV] END ..............................................C=100; total time=   2.3s\n",
      "[CV] END .............................................C=1000; total time=   2.2s\n",
      "[CV] END .............................................C=1000; total time=   2.3s\n",
      "[CV] END criterion=gini, max_depth=2, max_features=auto, n_estimators=200; total time=   3.9s\n",
      "[CV] END criterion=gini, max_depth=2, max_features=log2, n_estimators=200; total time=   3.5s\n",
      "[CV] END criterion=gini, max_depth=3, max_features=auto, n_estimators=200; total time=   5.5s\n",
      "[CV] END criterion=gini, max_depth=3, max_features=sqrt, n_estimators=500; total time=  11.3s\n",
      "[CV] END criterion=gini, max_depth=4, max_features=sqrt, n_estimators=500; total time=  15.0s\n",
      "[CV] END criterion=gini, max_depth=5, max_features=sqrt, n_estimators=500; total time=  16.3s\n",
      "[CV] END criterion=gini, max_depth=6, max_features=sqrt, n_estimators=500; total time=  18.6s\n",
      "[CV] END criterion=gini, max_depth=7, max_features=sqrt, n_estimators=500; total time=  21.9s\n",
      "[CV] END criterion=gini, max_depth=8, max_features=sqrt, n_estimators=500; total time=  25.9s\n",
      "[CV] END criterion=entropy, max_depth=3, max_features=auto, n_estimators=200; total time=   5.6s\n",
      "[CV] END criterion=entropy, max_depth=3, max_features=sqrt, n_estimators=200; total time=   6.6s\n",
      "[CV] END criterion=entropy, max_depth=3, max_features=log2, n_estimators=500; total time=  11.5s\n",
      "[CV] END criterion=entropy, max_depth=4, max_features=log2, n_estimators=200; total time=   6.1s\n",
      "[CV] END criterion=entropy, max_depth=5, max_features=auto, n_estimators=200; total time=   6.2s\n",
      "[CV] END criterion=entropy, max_depth=5, max_features=sqrt, n_estimators=200; total time=   6.3s\n",
      "[CV] END criterion=entropy, max_depth=5, max_features=log2, n_estimators=500; total time=  11.9s\n",
      "[CV] END criterion=entropy, max_depth=6, max_features=log2, n_estimators=200; total time=   5.1s\n",
      "[CV] END criterion=entropy, max_depth=6, max_features=log2, n_estimators=500; total time=  12.8s\n",
      "[CV] END criterion=entropy, max_depth=7, max_features=log2, n_estimators=200; total time=   5.9s\n",
      "[CV] END criterion=entropy, max_depth=8, max_features=auto, n_estimators=200; total time=   9.6s\n",
      "[CV] END criterion=entropy, max_depth=8, max_features=auto, n_estimators=500; total time=  23.4s\n",
      "[CV] END .........................................penalty=l1; total time=  23.4s\n",
      "[CV] END criterion=gini, max_depth=2, max_features=sqrt, n_estimators=200; total time=   4.2s\n",
      "[CV] END criterion=gini, max_depth=2, max_features=log2, n_estimators=500; total time=   8.8s\n",
      "[CV] END criterion=gini, max_depth=3, max_features=log2, n_estimators=200; total time=   3.8s\n",
      "[CV] END criterion=gini, max_depth=4, max_features=auto, n_estimators=200; total time=   5.5s\n",
      "[CV] END criterion=gini, max_depth=4, max_features=sqrt, n_estimators=200; total time=   6.4s\n",
      "[CV] END criterion=gini, max_depth=4, max_features=log2, n_estimators=500; total time=  11.0s\n",
      "[CV] END criterion=gini, max_depth=5, max_features=log2, n_estimators=200; total time=   4.6s\n",
      "[CV] END criterion=gini, max_depth=6, max_features=auto, n_estimators=200; total time=   7.6s\n",
      "[CV] END criterion=gini, max_depth=6, max_features=auto, n_estimators=500; total time=  19.0s\n",
      "[CV] END criterion=gini, max_depth=7, max_features=sqrt, n_estimators=200; total time=   8.7s\n",
      "[CV] END criterion=gini, max_depth=7, max_features=log2, n_estimators=500; total time=  16.3s\n",
      "[CV] END criterion=gini, max_depth=8, max_features=log2, n_estimators=200; total time=   7.6s\n",
      "[CV] END criterion=entropy, max_depth=2, max_features=auto, n_estimators=200; total time=   4.2s\n",
      "[CV] END criterion=entropy, max_depth=2, max_features=auto, n_estimators=500; total time=   9.2s\n",
      "[CV] END criterion=entropy, max_depth=2, max_features=sqrt, n_estimators=500; total time=  10.4s\n",
      "[CV] END criterion=entropy, max_depth=3, max_features=sqrt, n_estimators=500; total time=  15.3s\n",
      "[CV] END criterion=entropy, max_depth=4, max_features=sqrt, n_estimators=200; total time=   7.6s\n",
      "[CV] END criterion=entropy, max_depth=4, max_features=log2, n_estimators=500; total time=  10.3s\n",
      "[CV] END criterion=entropy, max_depth=5, max_features=log2, n_estimators=200; total time=   5.0s\n",
      "[CV] END criterion=entropy, max_depth=6, max_features=auto, n_estimators=200; total time=   7.6s\n",
      "[CV] END criterion=entropy, max_depth=6, max_features=sqrt, n_estimators=200; total time=   7.2s\n",
      "[CV] END criterion=entropy, max_depth=6, max_features=log2, n_estimators=500; total time=  13.1s\n",
      "[CV] END criterion=entropy, max_depth=7, max_features=log2, n_estimators=200; total time=   6.0s\n",
      "[CV] END criterion=entropy, max_depth=8, max_features=auto, n_estimators=200; total time=   9.3s\n",
      "[CV] END criterion=entropy, max_depth=8, max_features=auto, n_estimators=500; total time=  23.2s\n",
      "[CV] END .........................................penalty=l1; total time=  23.6s\n",
      "[CV] END criterion=gini, max_depth=2, max_features=sqrt, n_estimators=500; total time=  10.8s\n",
      "[CV] END criterion=gini, max_depth=3, max_features=sqrt, n_estimators=200; total time=   4.7s\n",
      "[CV] END criterion=gini, max_depth=3, max_features=log2, n_estimators=500; total time=   9.6s\n",
      "[CV] END criterion=gini, max_depth=4, max_features=log2, n_estimators=200; total time=   4.8s\n",
      "[CV] END criterion=gini, max_depth=5, max_features=auto, n_estimators=200; total time=   7.0s\n",
      "[CV] END criterion=gini, max_depth=5, max_features=sqrt, n_estimators=200; total time=   6.4s\n",
      "[CV] END criterion=gini, max_depth=5, max_features=log2, n_estimators=500; total time=  12.2s\n",
      "[CV] END criterion=gini, max_depth=6, max_features=log2, n_estimators=200; total time=   5.7s\n",
      "[CV] END criterion=gini, max_depth=7, max_features=auto, n_estimators=200; total time=   8.8s\n",
      "[CV] END criterion=gini, max_depth=7, max_features=auto, n_estimators=500; total time=  21.8s\n",
      "[CV] END criterion=gini, max_depth=8, max_features=sqrt, n_estimators=200; total time=  10.1s\n",
      "[CV] END criterion=gini, max_depth=8, max_features=log2, n_estimators=500; total time=  18.8s\n",
      "[CV] END criterion=entropy, max_depth=2, max_features=log2, n_estimators=200; total time=   3.8s\n",
      "[CV] END criterion=entropy, max_depth=3, max_features=auto, n_estimators=500; total time=  15.6s\n",
      "[CV] END criterion=entropy, max_depth=4, max_features=auto, n_estimators=500; total time=  15.8s\n",
      "[CV] END criterion=entropy, max_depth=5, max_features=auto, n_estimators=500; total time=  16.0s\n",
      "[CV] END criterion=entropy, max_depth=6, max_features=auto, n_estimators=500; total time=  17.7s\n",
      "[CV] END criterion=entropy, max_depth=7, max_features=auto, n_estimators=500; total time=  21.0s\n",
      "[CV] END criterion=entropy, max_depth=8, max_features=sqrt, n_estimators=200; total time=   9.9s\n",
      "[CV] END criterion=entropy, max_depth=8, max_features=log2, n_estimators=500; total time=  15.4s\n",
      "[CV] END .........................................penalty=l1; total time=  24.6s\n",
      "[CV] END criterion=gini, max_depth=2, max_features=auto, n_estimators=500; total time=  11.2s\n",
      "[CV] END criterion=gini, max_depth=3, max_features=auto, n_estimators=500; total time=  11.3s\n",
      "[CV] END criterion=gini, max_depth=4, max_features=auto, n_estimators=500; total time=  14.7s\n",
      "[CV] END criterion=gini, max_depth=5, max_features=auto, n_estimators=500; total time=  16.0s\n",
      "[CV] END criterion=gini, max_depth=6, max_features=sqrt, n_estimators=200; total time=   7.9s\n",
      "[CV] END criterion=gini, max_depth=6, max_features=log2, n_estimators=500; total time=  13.9s\n",
      "[CV] END criterion=gini, max_depth=7, max_features=log2, n_estimators=200; total time=   6.3s\n",
      "[CV] END criterion=gini, max_depth=8, max_features=auto, n_estimators=200; total time=  10.1s\n",
      "[CV] END criterion=gini, max_depth=8, max_features=auto, n_estimators=500; total time=  25.5s\n",
      "[CV] END criterion=entropy, max_depth=2, max_features=sqrt, n_estimators=200; total time=   4.1s\n",
      "[CV] END criterion=entropy, max_depth=2, max_features=log2, n_estimators=200; total time=   3.3s\n",
      "[CV] END criterion=entropy, max_depth=3, max_features=auto, n_estimators=500; total time=  15.4s\n",
      "[CV] END criterion=entropy, max_depth=4, max_features=auto, n_estimators=500; total time=  16.5s\n",
      "[CV] END criterion=entropy, max_depth=5, max_features=auto, n_estimators=500; total time=  16.0s\n",
      "[CV] END criterion=entropy, max_depth=6, max_features=auto, n_estimators=500; total time=  17.7s\n",
      "[CV] END criterion=entropy, max_depth=7, max_features=auto, n_estimators=500; total time=  21.0s\n",
      "[CV] END criterion=entropy, max_depth=8, max_features=sqrt, n_estimators=200; total time=  10.0s\n",
      "[CV] END criterion=entropy, max_depth=8, max_features=log2, n_estimators=500; total time=  15.7s\n"
     ]
    },
    {
     "name": "stdout",
     "output_type": "stream",
     "text": [
      "[CV] END .........................................penalty=l2; total time=   2.9s\n",
      "[CV] END .........................................penalty=l2; total time=   2.2s\n",
      "[CV] END ................................................C=1; total time=   1.8s\n",
      "[CV] END ................................................C=1; total time=   2.1s\n",
      "[CV] END ...............................................C=10; total time=   2.4s\n",
      "[CV] END ..............................................C=100; total time=   2.3s\n",
      "[CV] END ..............................................C=100; total time=   2.1s\n",
      "[CV] END .............................................C=1000; total time=   2.2s\n",
      "[CV] END .............................................C=1000; total time=   1.6s\n",
      "[CV] END criterion=gini, max_depth=2, max_features=sqrt, n_estimators=500; total time=  10.7s\n",
      "[CV] END criterion=gini, max_depth=3, max_features=sqrt, n_estimators=200; total time=   5.0s\n",
      "[CV] END criterion=gini, max_depth=3, max_features=log2, n_estimators=500; total time=   9.5s\n",
      "[CV] END criterion=gini, max_depth=4, max_features=log2, n_estimators=200; total time=   4.9s\n",
      "[CV] END criterion=gini, max_depth=5, max_features=auto, n_estimators=200; total time=   6.8s\n",
      "[CV] END criterion=gini, max_depth=5, max_features=sqrt, n_estimators=200; total time=   6.4s\n",
      "[CV] END criterion=gini, max_depth=5, max_features=log2, n_estimators=500; total time=  12.2s\n",
      "[CV] END criterion=gini, max_depth=6, max_features=log2, n_estimators=200; total time=   5.6s\n",
      "[CV] END criterion=gini, max_depth=7, max_features=auto, n_estimators=200; total time=   8.7s\n",
      "[CV] END criterion=gini, max_depth=7, max_features=auto, n_estimators=500; total time=  22.0s\n",
      "[CV] END criterion=gini, max_depth=8, max_features=sqrt, n_estimators=200; total time=  10.2s\n",
      "[CV] END criterion=gini, max_depth=8, max_features=log2, n_estimators=500; total time=  18.8s\n",
      "[CV] END criterion=entropy, max_depth=2, max_features=log2, n_estimators=500; total time=   9.9s\n",
      "[CV] END criterion=entropy, max_depth=3, max_features=log2, n_estimators=200; total time=   5.0s\n",
      "[CV] END criterion=entropy, max_depth=4, max_features=auto, n_estimators=200; total time=   7.1s\n",
      "[CV] END criterion=entropy, max_depth=4, max_features=sqrt, n_estimators=200; total time=   7.6s\n",
      "[CV] END criterion=entropy, max_depth=4, max_features=log2, n_estimators=500; total time=  10.1s\n",
      "[CV] END criterion=entropy, max_depth=5, max_features=log2, n_estimators=200; total time=   5.2s\n",
      "[CV] END criterion=entropy, max_depth=6, max_features=auto, n_estimators=200; total time=   7.7s\n",
      "[CV] END criterion=entropy, max_depth=6, max_features=sqrt, n_estimators=200; total time=   7.2s\n",
      "[CV] END criterion=entropy, max_depth=7, max_features=auto, n_estimators=200; total time=   8.4s\n",
      "[CV] END criterion=entropy, max_depth=7, max_features=sqrt, n_estimators=200; total time=   8.3s\n",
      "[CV] END criterion=entropy, max_depth=7, max_features=log2, n_estimators=500; total time=  15.2s\n",
      "[CV] END criterion=entropy, max_depth=8, max_features=sqrt, n_estimators=500; total time=  22.8s\n",
      "[CV] END .........................................penalty=l2; total time=   2.9s\n",
      "[CV] END .........................................penalty=l2; total time=   2.1s\n",
      "[CV] END ................................................C=1; total time=   1.9s\n",
      "[CV] END ...............................................C=10; total time=   2.1s\n",
      "[CV] END ...............................................C=10; total time=   2.6s\n",
      "[CV] END ..............................................C=100; total time=   2.2s\n",
      "[CV] END ..............................................C=100; total time=   2.1s\n",
      "[CV] END .............................................C=1000; total time=   2.3s\n",
      "[CV] END criterion=gini, max_depth=2, max_features=auto, n_estimators=200; total time=   4.0s\n",
      "[CV] END criterion=gini, max_depth=2, max_features=log2, n_estimators=200; total time=   3.6s\n",
      "[CV] END criterion=gini, max_depth=3, max_features=auto, n_estimators=200; total time=   5.4s\n",
      "[CV] END criterion=gini, max_depth=3, max_features=sqrt, n_estimators=500; total time=  11.4s\n",
      "[CV] END criterion=gini, max_depth=4, max_features=sqrt, n_estimators=500; total time=  14.9s\n",
      "[CV] END criterion=gini, max_depth=5, max_features=sqrt, n_estimators=500; total time=  16.1s\n",
      "[CV] END criterion=gini, max_depth=6, max_features=sqrt, n_estimators=500; total time=  19.2s\n",
      "[CV] END criterion=gini, max_depth=7, max_features=sqrt, n_estimators=500; total time=  21.9s\n",
      "[CV] END criterion=gini, max_depth=8, max_features=sqrt, n_estimators=500; total time=  26.1s\n",
      "[CV] END criterion=entropy, max_depth=3, max_features=auto, n_estimators=200; total time=   5.4s\n",
      "[CV] END criterion=entropy, max_depth=3, max_features=sqrt, n_estimators=200; total time=   6.7s\n",
      "[CV] END criterion=entropy, max_depth=3, max_features=log2, n_estimators=500; total time=  11.8s\n",
      "[CV] END criterion=entropy, max_depth=4, max_features=log2, n_estimators=200; total time=   5.1s\n",
      "[CV] END criterion=entropy, max_depth=5, max_features=auto, n_estimators=200; total time=   6.2s\n",
      "[CV] END criterion=entropy, max_depth=5, max_features=sqrt, n_estimators=200; total time=   6.5s\n",
      "[CV] END criterion=entropy, max_depth=5, max_features=log2, n_estimators=500; total time=  12.0s\n",
      "[CV] END criterion=entropy, max_depth=6, max_features=log2, n_estimators=200; total time=   5.4s\n",
      "[CV] END criterion=entropy, max_depth=7, max_features=auto, n_estimators=200; total time=   8.1s\n",
      "[CV] END criterion=entropy, max_depth=7, max_features=sqrt, n_estimators=200; total time=   8.4s\n",
      "[CV] END criterion=entropy, max_depth=7, max_features=log2, n_estimators=500; total time=  14.9s\n",
      "[CV] END criterion=entropy, max_depth=8, max_features=sqrt, n_estimators=500; total time=  22.7s\n",
      "Training set score: 0.8805\n"
     ]
    }
   ],
   "source": [
    "print('Training set score: {:.4f}'.format(neigh.score(X_train, y_train)))"
   ]
  },
  {
   "cell_type": "code",
   "execution_count": 60,
   "id": "ddd45599",
   "metadata": {},
   "outputs": [
    {
     "name": "stdout",
     "output_type": "stream",
     "text": [
      "Confusion matrix\n",
      "\n",
      " [[34043  3420]\n",
      " [ 6552  3987]]\n",
      "\n",
      "True Positives(TP) =  34043\n",
      "\n",
      "True Negatives(TN) =  3987\n",
      "\n",
      "False Positives(FP) =  3420\n",
      "\n",
      "False Negatives(FN) =  6552\n"
     ]
    }
   ],
   "source": [
    "# Print the Confusion Matrix \n",
    "\n",
    "from sklearn.metrics import confusion_matrix\n",
    "\n",
    "cm = confusion_matrix(y_test, y_pred)\n",
    "\n",
    "print('Confusion matrix\\n\\n', cm)\n",
    "\n",
    "print('\\nTrue Positives(TP) = ', cm[0,0])\n",
    "\n",
    "print('\\nTrue Negatives(TN) = ', cm[1,1])\n",
    "\n",
    "print('\\nFalse Positives(FP) = ', cm[0,1])\n",
    "\n",
    "print('\\nFalse Negatives(FN) = ', cm[1,0])\n",
    "\n",
    "TP = cm[0,0]\n",
    "TN = cm[1,1]\n",
    "FP = cm[0,1]\n",
    "FN = cm[1,0]"
   ]
  },
  {
   "cell_type": "code",
   "execution_count": 61,
   "id": "c2e82cec",
   "metadata": {},
   "outputs": [
    {
     "data": {
      "text/plain": [
       "<AxesSubplot:>"
      ]
     },
     "execution_count": 61,
     "metadata": {},
     "output_type": "execute_result"
    },
    {
     "data": {
      "image/png": "[encoded data removed]",
      "text/plain": [
       "<Figure size 432x288 with 2 Axes>"
      ]
     },
     "metadata": {
      "needs_background": "light"
     },
     "output_type": "display_data"
    }
   ],
   "source": [
    "# visualize confusion matrix with seaborn heatmap\n",
    "\n",
    "cm_matrix = pd.DataFrame(data=cm, index=['Actual Negative:0', 'Actual Positive:1'], \n",
    "                                 columns=['Predict Negative:0', 'Predict Positive:1'])\n",
    "\n",
    "sns.heatmap(cm_matrix, annot=True, fmt='d', cmap='Blues')"
   ]
  },
  {
   "cell_type": "code",
   "execution_count": 62,
   "id": "324ab7db",
   "metadata": {},
   "outputs": [
    {
     "name": "stdout",
     "output_type": "stream",
     "text": [
      "              precision    recall  f1-score   support\n",
      "\n",
      "           0       0.84      0.91      0.87     37463\n",
      "           1       0.54      0.38      0.44     10539\n",
      "\n",
      "    accuracy                           0.79     48002\n",
      "   macro avg       0.69      0.64      0.66     48002\n",
      "weighted avg       0.77      0.79      0.78     48002\n",
      "\n"
     ]
    }
   ],
   "source": [
    "# Printing the Classification Metrics\n",
    "\n",
    "print(classification_report(y_test, y_pred))"
   ]
  },
  {
   "cell_type": "code",
   "execution_count": 63,
   "id": "60d287d7",
   "metadata": {},
   "outputs": [
    {
     "name": "stdout",
     "output_type": "stream",
     "text": [
      "False Negative Rate : 0.16\n",
      "Youdens Index : 0.38\n",
      "Discriminant Power : 0.99\n",
      "Balanced Classification Rate : 0.69\n",
      "Geometric Mean : 0.67\n"
     ]
    }
   ],
   "source": [
    "# Additional Metrics\n",
    "FNR = FN / (FN + TP)\n",
    "print('False Negative Rate : {0:0.2f}'. format(FNR))\n",
    "\n",
    "\n",
    "TPR = TP / (TP + FN)\n",
    "TNR = TN / (TN + FP)\n",
    "\n",
    "YI = TPR + TNR - 1\n",
    "print('Youdens Index : {0:0.2f}'. format(YI))\n",
    "\n",
    "\n",
    "DP = ((3)**0.5 / 3.14) * (np.log(TPR/(1-TNR)) + np.log(TNR/(1-TPR)))\n",
    "print('Discriminant Power : {0:0.2f}'. format(DP))\n",
    "\n",
    "BCR = 0.5 * (TPR + TNR)\n",
    "print('Balanced Classification Rate : {0:0.2f}'. format(BCR))\n",
    "\n",
    "GM = (TPR * TNR)**0.5\n",
    "print('Geometric Mean : {0:0.2f}'. format(GM))"
   ]
  },
  {
   "cell_type": "code",
   "execution_count": 64,
   "id": "c8b2861f",
   "metadata": {},
   "outputs": [
    {
     "name": "stdout",
     "output_type": "stream",
     "text": [
      "Fitting 2 folds for each of 9 candidates, totalling 18 fits\n",
      "[CV] END .........................................penalty=l1; total time=  25.0s\n",
      "[CV] END criterion=gini, max_depth=2, max_features=auto, n_estimators=500; total time=  10.8s\n",
      "[CV] END criterion=gini, max_depth=3, max_features=auto, n_estimators=500; total time=  11.4s\n",
      "[CV] END criterion=gini, max_depth=4, max_features=auto, n_estimators=500; total time=  14.8s\n",
      "[CV] END criterion=gini, max_depth=5, max_features=auto, n_estimators=500; total time=  16.0s\n",
      "[CV] END criterion=gini, max_depth=6, max_features=sqrt, n_estimators=200; total time=   7.9s\n",
      "[CV] END criterion=gini, max_depth=6, max_features=log2, n_estimators=500; total time=  14.1s\n",
      "[CV] END criterion=gini, max_depth=7, max_features=log2, n_estimators=200; total time=   6.2s\n",
      "[CV] END criterion=gini, max_depth=8, max_features=auto, n_estimators=200; total time=  10.2s\n",
      "[CV] END criterion=gini, max_depth=8, max_features=auto, n_estimators=500; total time=  25.8s\n",
      "[CV] END criterion=entropy, max_depth=2, max_features=sqrt, n_estimators=200; total time=   4.1s\n",
      "[CV] END criterion=entropy, max_depth=2, max_features=log2, n_estimators=500; total time=  10.6s\n",
      "[CV] END criterion=entropy, max_depth=3, max_features=log2, n_estimators=200; total time=   4.6s\n",
      "[CV] END criterion=entropy, max_depth=4, max_features=auto, n_estimators=200; total time=   7.1s\n",
      "[CV] END criterion=entropy, max_depth=4, max_features=sqrt, n_estimators=500; total time=  15.3s\n",
      "[CV] END criterion=entropy, max_depth=5, max_features=sqrt, n_estimators=500; total time=  15.8s\n",
      "[CV] END criterion=entropy, max_depth=6, max_features=sqrt, n_estimators=500; total time=  17.9s\n",
      "[CV] END criterion=entropy, max_depth=7, max_features=sqrt, n_estimators=500; total time=  21.2s\n",
      "[CV] END criterion=entropy, max_depth=8, max_features=log2, n_estimators=200; total time=   7.1s\n",
      "[CV] END ......................................n_neighbors=1; total time= 1.2min\n",
      "[CV] END ......................................n_neighbors=1; total time= 1.1min\n",
      "[CV] END ......................................n_neighbors=2; total time=  53.8s\n",
      "[CV] END ......................................n_neighbors=2; total time=  44.6s\n",
      "[CV] END ......................................n_neighbors=3; total time=  58.1s\n",
      "[CV] END ......................................n_neighbors=3; total time= 1.5min\n",
      "[CV] END ......................................n_neighbors=4; total time= 1.2min\n",
      "[CV] END ......................................n_neighbors=4; total time= 1.4min\n",
      "[CV] END ......................................n_neighbors=5; total time= 1.3min\n",
      "[CV] END ......................................n_neighbors=5; total time= 1.1min\n",
      "[CV] END ......................................n_neighbors=6; total time= 1.1min\n",
      "[CV] END ......................................n_neighbors=6; total time= 1.1min\n",
      "[CV] END ......................................n_neighbors=7; total time=  58.4s\n",
      "[CV] END ......................................n_neighbors=7; total time= 1.0min\n",
      "[CV] END ......................................n_neighbors=8; total time= 1.2min\n",
      "[CV] END ......................................n_neighbors=8; total time=  58.9s\n",
      "[CV] END ......................................n_neighbors=9; total time= 1.1min\n",
      "[CV] END ......................................n_neighbors=9; total time= 9.4min\n"
     ]
    },
    {
     "data": {
      "text/plain": [
       "GridSearchCV(cv=2, estimator=KNeighborsClassifier(n_neighbors=3),\n",
       "             param_grid={'n_neighbors': [1, 2, 3, 4, 5, 6, 7, 8, 9]},\n",
       "             scoring='accuracy', verbose=2)"
      ]
     },
     "execution_count": 64,
     "metadata": {},
     "output_type": "execute_result"
    }
   ],
   "source": [
    "# Hyper Parameter Optimization using GridSearchCV\n",
    "\n",
    "k_range = list(range(1, 10))\n",
    "parameters = dict(n_neighbors=k_range)\n",
    "\n",
    "grid_search = GridSearchCV(estimator = neigh,  \n",
    "                           param_grid = parameters,\n",
    "                           scoring = 'accuracy',\n",
    "                           cv = 2,\n",
    "                           verbose=2)\n",
    "\n",
    "grid_search.fit(X_train, y_train)"
   ]
  },
  {
   "cell_type": "code",
   "execution_count": 65,
   "id": "5f8611c6",
   "metadata": {},
   "outputs": [
    {
     "name": "stdout",
     "output_type": "stream",
     "text": [
      "Parameters that give the best results : \n",
      "\n",
      " {'n_neighbors': 9}\n",
      "\n",
      "\n",
      "Estimator that was chosen by the search : \n",
      "\n",
      " KNeighborsClassifier(n_neighbors=9)\n"
     ]
    }
   ],
   "source": [
    "# print parameters that give the best results\n",
    "print('Parameters that give the best results :','\\n\\n', (grid_search.best_params_))\n",
    "\n",
    "# print estimator that was chosen by the GridSearch\n",
    "print('\\n\\nEstimator that was chosen by the search :','\\n\\n', (grid_search.best_estimator_))"
   ]
  },
  {
   "cell_type": "code",
   "execution_count": 66,
   "id": "1d356239",
   "metadata": {},
   "outputs": [
    {
     "name": "stdout",
     "output_type": "stream",
     "text": [
      "GridSearch CV score on test set: 0.8119\n"
     ]
    }
   ],
   "source": [
    "# calculate GridSearch CV score on test set\n",
    "\n",
    "print('GridSearch CV score on test set: {0:0.4f}'.format(grid_search.score(X_test, y_test)))"
   ]
  },
  {
   "cell_type": "code",
   "execution_count": 67,
   "id": "fcb34ff2",
   "metadata": {},
   "outputs": [
    {
     "name": "stdout",
     "output_type": "stream",
     "text": [
      "Confusion matrix\n",
      "\n",
      " [[35424  2039]\n",
      " [ 6992  3547]]\n",
      "\n",
      "True Positives(TP) =  35424\n",
      "\n",
      "True Negatives(TN) =  3547\n",
      "\n",
      "False Positives(FP) =  2039\n",
      "\n",
      "False Negatives(FN) =  6992\n"
     ]
    }
   ],
   "source": [
    "# Choosing the model suggested by Grid Search CV and using it to predict the values\n",
    "\n",
    "model = grid_search.best_estimator_\n",
    "y_pred = model.predict(X_test)\n",
    "\n",
    "# Print the Confusion Matrix \n",
    "\n",
    "from sklearn.metrics import confusion_matrix\n",
    "\n",
    "cm = confusion_matrix(y_test, y_pred)\n",
    "\n",
    "print('Confusion matrix\\n\\n', cm)\n",
    "\n",
    "print('\\nTrue Positives(TP) = ', cm[0,0])\n",
    "\n",
    "print('\\nTrue Negatives(TN) = ', cm[1,1])\n",
    "\n",
    "print('\\nFalse Positives(FP) = ', cm[0,1])\n",
    "\n",
    "print('\\nFalse Negatives(FN) = ', cm[1,0])\n",
    "\n",
    "TP = cm[0,0]\n",
    "TN = cm[1,1]\n",
    "FP = cm[0,1]\n",
    "FN = cm[1,0]"
   ]
  },
  {
   "cell_type": "code",
   "execution_count": 68,
   "id": "d60eb625",
   "metadata": {},
   "outputs": [
    {
     "data": {
      "text/plain": [
       "<AxesSubplot:>"
      ]
     },
     "execution_count": 68,
     "metadata": {},
     "output_type": "execute_result"
    },
    {
     "data": {
      "image/png": "[encoded data removed]",
      "text/plain": [
       "<Figure size 432x288 with 2 Axes>"
      ]
     },
     "metadata": {
      "needs_background": "light"
     },
     "output_type": "display_data"
    }
   ],
   "source": [
    "# visualize confusion matrix with seaborn heatmap\n",
    "\n",
    "cm_matrix = pd.DataFrame(data=cm, index=['Actual Negative:0', 'Actual Positive:1'], \n",
    "                                 columns=['Predict Negative:0', 'Predict Positive:1'])\n",
    "\n",
    "sns.heatmap(cm_matrix, annot=True, fmt='d', cmap='Blues')"
   ]
  },
  {
   "cell_type": "code",
   "execution_count": 69,
   "id": "e5575098",
   "metadata": {},
   "outputs": [
    {
     "name": "stdout",
     "output_type": "stream",
     "text": [
      "              precision    recall  f1-score   support\n",
      "\n",
      "           0       0.84      0.95      0.89     37463\n",
      "           1       0.63      0.34      0.44     10539\n",
      "\n",
      "    accuracy                           0.81     48002\n",
      "   macro avg       0.74      0.64      0.66     48002\n",
      "weighted avg       0.79      0.81      0.79     48002\n",
      "\n"
     ]
    }
   ],
   "source": [
    "# Printing the Classification Metrics (after model selection by Grid Search CV)\n",
    "\n",
    "print(classification_report(y_test, y_pred))"
   ]
  },
  {
   "cell_type": "code",
   "execution_count": 70,
   "id": "a85b89b9",
   "metadata": {},
   "outputs": [
    {
     "name": "stdout",
     "output_type": "stream",
     "text": [
      "False Negative Rate : 0.16\n",
      "Youdens Index : 0.47\n",
      "Discriminant Power : 1.20\n",
      "Balanced Classification Rate : 0.74\n",
      "Geometric Mean : 0.73\n"
     ]
    }
   ],
   "source": [
    "# Additional Metrics (after model selection by Grid Search CV)\n",
    "FNR = FN / (FN + TP)\n",
    "print('False Negative Rate : {0:0.2f}'. format(FNR))\n",
    "\n",
    "\n",
    "TPR = TP / (TP + FN)\n",
    "TNR = TN / (TN + FP)\n",
    "\n",
    "YI = TPR + TNR - 1\n",
    "print('Youdens Index : {0:0.2f}'. format(YI))\n",
    "\n",
    "\n",
    "DP = ((3)**0.5 / 3.14) * (np.log(TPR/(1-TNR)) + np.log(TNR/(1-TPR)))\n",
    "print('Discriminant Power : {0:0.2f}'. format(DP))\n",
    "\n",
    "BCR = 0.5 * (TPR + TNR)\n",
    "print('Balanced Classification Rate : {0:0.2f}'. format(BCR))\n",
    "\n",
    "GM = (TPR * TNR)**0.5\n",
    "print('Geometric Mean : {0:0.2f}'. format(GM))"
   ]
  },
  {
   "cell_type": "markdown",
   "id": "d97ed7e3",
   "metadata": {},
   "source": [
    "# Naive Bayes Classifier"
   ]
  },
  {
   "cell_type": "code",
   "execution_count": 71,
   "id": "ce724c19",
   "metadata": {},
   "outputs": [
    {
     "data": {
      "text/plain": [
       "GaussianNB()"
      ]
     },
     "execution_count": 71,
     "metadata": {},
     "output_type": "execute_result"
    }
   ],
   "source": [
    "from sklearn.naive_bayes import GaussianNB\n",
    "gnb = GaussianNB()\n",
    "gnb.fit(X_train, y_train)"
   ]
  },
  {
   "cell_type": "code",
   "execution_count": 72,
   "id": "e0b2733a",
   "metadata": {},
   "outputs": [
    {
     "name": "stdout",
     "output_type": "stream",
     "text": [
      "Model accuracy score (Testing data): 0.7811\n",
      "Training set score: 0.7817\n"
     ]
    }
   ],
   "source": [
    "y_pred = clf.predict(X_test)\n",
    "\n",
    "from sklearn.metrics import accuracy_score\n",
    "\n",
    "print('Model accuracy score (Testing data): {0:0.4f}'. format(accuracy_score(y_test, y_pred)))\n",
    "\n",
    "print('Training set score: {:.4f}'.format(clf.score(X_train, y_train)))"
   ]
  },
  {
   "cell_type": "code",
   "execution_count": 73,
   "id": "f1d6c2dc",
   "metadata": {},
   "outputs": [
    {
     "name": "stdout",
     "output_type": "stream",
     "text": [
      "Confusion matrix\n",
      "\n",
      " [[37462     1]\n",
      " [10505    34]]\n",
      "\n",
      "True Positives(TP) =  37462\n",
      "\n",
      "True Negatives(TN) =  34\n",
      "\n",
      "False Positives(FP) =  1\n",
      "\n",
      "False Negatives(FN) =  10505\n"
     ]
    }
   ],
   "source": [
    "# Print the Confusion Matrix \n",
    "\n",
    "from sklearn.metrics import confusion_matrix\n",
    "\n",
    "cm = confusion_matrix(y_test, y_pred)\n",
    "\n",
    "print('Confusion matrix\\n\\n', cm)\n",
    "\n",
    "print('\\nTrue Positives(TP) = ', cm[0,0])\n",
    "\n",
    "print('\\nTrue Negatives(TN) = ', cm[1,1])\n",
    "\n",
    "print('\\nFalse Positives(FP) = ', cm[0,1])\n",
    "\n",
    "print('\\nFalse Negatives(FN) = ', cm[1,0])\n",
    "\n",
    "TP = cm[0,0]\n",
    "TN = cm[1,1]\n",
    "FP = cm[0,1]\n",
    "FN = cm[1,0]"
   ]
  },
  {
   "cell_type": "code",
   "execution_count": 74,
   "id": "cc8bd444",
   "metadata": {},
   "outputs": [
    {
     "data": {
      "text/plain": [
       "<AxesSubplot:>"
      ]
     },
     "execution_count": 74,
     "metadata": {},
     "output_type": "execute_result"
    },
    {
     "data": {
      "image/png": "[encoded data removed]",
      "text/plain": [
       "<Figure size 432x288 with 2 Axes>"
      ]
     },
     "metadata": {
      "needs_background": "light"
     },
     "output_type": "display_data"
    }
   ],
   "source": [
    "# visualize confusion matrix with seaborn heatmap\n",
    "\n",
    "cm_matrix = pd.DataFrame(data=cm, index=['Actual Negative:0', 'Actual Positive:1'], \n",
    "                                 columns=['Predict Negative:0', 'Predict Positive:1'])\n",
    "\n",
    "sns.heatmap(cm_matrix, annot=True, fmt='d', cmap='Blues')"
   ]
  },
  {
   "cell_type": "code",
   "execution_count": 75,
   "id": "8bc99bef",
   "metadata": {},
   "outputs": [
    {
     "name": "stdout",
     "output_type": "stream",
     "text": [
      "              precision    recall  f1-score   support\n",
      "\n",
      "           0       0.78      1.00      0.88     37463\n",
      "           1       0.97      0.00      0.01     10539\n",
      "\n",
      "    accuracy                           0.78     48002\n",
      "   macro avg       0.88      0.50      0.44     48002\n",
      "weighted avg       0.82      0.78      0.69     48002\n",
      "\n"
     ]
    }
   ],
   "source": [
    "# Printing the Classification Metrics\n",
    "\n",
    "print(classification_report(y_test, y_pred))"
   ]
  },
  {
   "cell_type": "code",
   "execution_count": 76,
   "id": "fc74bfc5",
   "metadata": {},
   "outputs": [
    {
     "name": "stdout",
     "output_type": "stream",
     "text": [
      "False Negative Rate : 0.22\n",
      "Youdens Index : 0.75\n",
      "Discriminant Power : 2.65\n",
      "Balanced Classification Rate : 0.88\n",
      "Geometric Mean : 0.87\n"
     ]
    }
   ],
   "source": [
    "# Additional Metrics\n",
    "FNR = FN / (FN + TP)\n",
    "print('False Negative Rate : {0:0.2f}'. format(FNR))\n",
    "\n",
    "\n",
    "TPR = TP / (TP + FN)\n",
    "TNR = TN / (TN + FP)\n",
    "\n",
    "YI = TPR + TNR - 1\n",
    "print('Youdens Index : {0:0.2f}'. format(YI))\n",
    "\n",
    "\n",
    "DP = ((3)**0.5 / 3.14) * (np.log(TPR/(1-TNR)) + np.log(TNR/(1-TPR)))\n",
    "print('Discriminant Power : {0:0.2f}'. format(DP))\n",
    "\n",
    "BCR = 0.5 * (TPR + TNR)\n",
    "print('Balanced Classification Rate : {0:0.2f}'. format(BCR))\n",
    "\n",
    "GM = (TPR * TNR)**0.5\n",
    "print('Geometric Mean : {0:0.2f}'. format(GM))"
   ]
  },
  {
   "cell_type": "markdown",
   "id": "3b6a737d",
   "metadata": {},
   "source": [
    "# AdaBoost Classifier "
   ]
  },
  {
   "cell_type": "code",
   "execution_count": 77,
   "id": "652cc32e",
   "metadata": {},
   "outputs": [
    {
     "data": {
      "text/plain": [
       "AdaBoostClassifier(n_estimators=100, random_state=0)"
      ]
     },
     "execution_count": 77,
     "metadata": {},
     "output_type": "execute_result"
    }
   ],
   "source": [
    "from sklearn.ensemble import AdaBoostClassifier\n",
    "abc = AdaBoostClassifier(n_estimators=100, random_state=0)\n",
    "abc.fit(X_train, y_train)"
   ]
  },
  {
   "cell_type": "code",
   "execution_count": 78,
   "id": "9aab68f6",
   "metadata": {},
   "outputs": [],
   "source": [
    "y_pred = abc.predict(X_test)\n",
    "\n",
    "from sklearn.metrics import accuracy_score"
   ]
  },
  {
   "cell_type": "code",
   "execution_count": 79,
   "id": "f7d0a61d",
   "metadata": {},
   "outputs": [
    {
     "name": "stdout",
     "output_type": "stream",
     "text": [
      "Model accuracy score (Testing data): 0.8447\n",
      "Training set score: 0.8485\n"
     ]
    }
   ],
   "source": [
    "print('Model accuracy score (Testing data): {0:0.4f}'. format(accuracy_score(y_test, y_pred)))\n",
    "\n",
    "print('Training set score: {:.4f}'.format(abc.score(X_train, y_train)))"
   ]
  },
  {
   "cell_type": "code",
   "execution_count": 80,
   "id": "4ed6e36d",
   "metadata": {},
   "outputs": [
    {
     "name": "stdout",
     "output_type": "stream",
     "text": [
      "Confusion matrix\n",
      "\n",
      " [[35438  2025]\n",
      " [ 5432  5107]]\n",
      "\n",
      "True Positives(TP) =  35438\n",
      "\n",
      "True Negatives(TN) =  5107\n",
      "\n",
      "False Positives(FP) =  2025\n",
      "\n",
      "False Negatives(FN) =  5432\n"
     ]
    }
   ],
   "source": [
    "# Print the Confusion Matrix \n",
    "\n",
    "from sklearn.metrics import confusion_matrix\n",
    "\n",
    "cm = confusion_matrix(y_test, y_pred)\n",
    "\n",
    "print('Confusion matrix\\n\\n', cm)\n",
    "\n",
    "print('\\nTrue Positives(TP) = ', cm[0,0])\n",
    "\n",
    "print('\\nTrue Negatives(TN) = ', cm[1,1])\n",
    "\n",
    "print('\\nFalse Positives(FP) = ', cm[0,1])\n",
    "\n",
    "print('\\nFalse Negatives(FN) = ', cm[1,0])\n",
    "\n",
    "TP = cm[0,0]\n",
    "TN = cm[1,1]\n",
    "FP = cm[0,1]\n",
    "FN = cm[1,0]"
   ]
  },
  {
   "cell_type": "code",
   "execution_count": 81,
   "id": "4b72e634",
   "metadata": {},
   "outputs": [
    {
     "data": {
      "text/plain": [
       "<AxesSubplot:>"
      ]
     },
     "execution_count": 81,
     "metadata": {},
     "output_type": "execute_result"
    },
    {
     "data": {
      "image/png": "[encoded data removed]",
      "text/plain": [
       "<Figure size 432x288 with 2 Axes>"
      ]
     },
     "metadata": {
      "needs_background": "light"
     },
     "output_type": "display_data"
    }
   ],
   "source": [
    "# visualize confusion matrix with seaborn heatmap\n",
    "\n",
    "cm_matrix = pd.DataFrame(data=cm, index=['Actual Negative:0', 'Actual Positive:1'], \n",
    "                                 columns=['Predict Negative:0', 'Predict Positive:1'])\n",
    "\n",
    "sns.heatmap(cm_matrix, annot=True, fmt='d', cmap='Blues')"
   ]
  },
  {
   "cell_type": "code",
   "execution_count": 82,
   "id": "9d454c5f",
   "metadata": {},
   "outputs": [
    {
     "name": "stdout",
     "output_type": "stream",
     "text": [
      "              precision    recall  f1-score   support\n",
      "\n",
      "           0       0.87      0.95      0.90     37463\n",
      "           1       0.72      0.48      0.58     10539\n",
      "\n",
      "    accuracy                           0.84     48002\n",
      "   macro avg       0.79      0.72      0.74     48002\n",
      "weighted avg       0.83      0.84      0.83     48002\n",
      "\n"
     ]
    }
   ],
   "source": [
    "# Printing the Classification Metrics\n",
    "\n",
    "print(classification_report(y_test, y_pred))"
   ]
  },
  {
   "cell_type": "code",
   "execution_count": 83,
   "id": "9f0d0bfb",
   "metadata": {},
   "outputs": [
    {
     "name": "stdout",
     "output_type": "stream",
     "text": [
      "False Negative Rate : 0.13\n",
      "Youdens Index : 0.58\n",
      "Discriminant Power : 1.54\n",
      "Balanced Classification Rate : 0.79\n",
      "Geometric Mean : 0.79\n"
     ]
    }
   ],
   "source": [
    "# Additional Metrics\n",
    "FNR = FN / (FN + TP)\n",
    "print('False Negative Rate : {0:0.2f}'. format(FNR))\n",
    "\n",
    "\n",
    "TPR = TP / (TP + FN)\n",
    "TNR = TN / (TN + FP)\n",
    "\n",
    "YI = TPR + TNR - 1\n",
    "print('Youdens Index : {0:0.2f}'. format(YI))\n",
    "\n",
    "\n",
    "DP = ((3)**0.5 / 3.14) * (np.log(TPR/(1-TNR)) + np.log(TNR/(1-TPR)))\n",
    "print('Discriminant Power : {0:0.2f}'. format(DP))\n",
    "\n",
    "BCR = 0.5 * (TPR + TNR)\n",
    "print('Balanced Classification Rate : {0:0.2f}'. format(BCR))\n",
    "\n",
    "GM = (TPR * TNR)**0.5\n",
    "print('Geometric Mean : {0:0.2f}'. format(GM))"
   ]
  },
  {
   "cell_type": "markdown",
   "id": "76ac2925",
   "metadata": {},
   "source": [
    "# Gradient Boosting Classifier"
   ]
  },
  {
   "cell_type": "code",
   "execution_count": 84,
   "id": "ea9c3338",
   "metadata": {},
   "outputs": [
    {
     "data": {
      "text/plain": [
       "GradientBoostingClassifier(learning_rate=1.0, max_depth=1, random_state=0)"
      ]
     },
     "execution_count": 84,
     "metadata": {},
     "output_type": "execute_result"
    }
   ],
   "source": [
    "from sklearn.ensemble import GradientBoostingClassifier\n",
    "xgb = GradientBoostingClassifier(n_estimators=100, learning_rate=1.0,max_depth=1, random_state=0)\n",
    "xgb.fit(X_train, y_train)"
   ]
  },
  {
   "cell_type": "code",
   "execution_count": 85,
   "id": "305c4431",
   "metadata": {},
   "outputs": [
    {
     "name": "stdout",
     "output_type": "stream",
     "text": [
      "Model accuracy score (Testing data): 0.8462\n",
      "Training set score: 0.8502\n"
     ]
    }
   ],
   "source": [
    "from sklearn.metrics import accuracy_score\n",
    "\n",
    "y_pred = xgb.predict(X_test)\n",
    "\n",
    "print('Model accuracy score (Testing data): {0:0.4f}'. format(accuracy_score(y_test, y_pred)))\n",
    "\n",
    "print('Training set score: {:.4f}'.format(xgb.score(X_train, y_train)))"
   ]
  },
  {
   "cell_type": "code",
   "execution_count": 86,
   "id": "ff8a6243",
   "metadata": {},
   "outputs": [
    {
     "name": "stdout",
     "output_type": "stream",
     "text": [
      "Confusion matrix\n",
      "\n",
      " [[35514  1949]\n",
      " [ 5436  5103]]\n",
      "\n",
      "True Positives(TP) =  35514\n",
      "\n",
      "True Negatives(TN) =  5103\n",
      "\n",
      "False Positives(FP) =  1949\n",
      "\n",
      "False Negatives(FN) =  5436\n"
     ]
    }
   ],
   "source": [
    "# Print the Confusion Matrix \n",
    "\n",
    "cm = confusion_matrix(y_test, y_pred)\n",
    "\n",
    "print('Confusion matrix\\n\\n', cm)\n",
    "\n",
    "print('\\nTrue Positives(TP) = ', cm[0,0])\n",
    "\n",
    "print('\\nTrue Negatives(TN) = ', cm[1,1])\n",
    "\n",
    "print('\\nFalse Positives(FP) = ', cm[0,1])\n",
    "\n",
    "print('\\nFalse Negatives(FN) = ', cm[1,0])\n",
    "\n",
    "TP = cm[0,0]\n",
    "TN = cm[1,1]\n",
    "FP = cm[0,1]\n",
    "FN = cm[1,0]"
   ]
  },
  {
   "cell_type": "code",
   "execution_count": 87,
   "id": "cb703ee5",
   "metadata": {},
   "outputs": [
    {
     "data": {
      "text/plain": [
       "<AxesSubplot:>"
      ]
     },
     "execution_count": 87,
     "metadata": {},
     "output_type": "execute_result"
    },
    {
     "data": {
      "image/png": "[encoded data removed]",
      "text/plain": [
       "<Figure size 432x288 with 2 Axes>"
      ]
     },
     "metadata": {
      "needs_background": "light"
     },
     "output_type": "display_data"
    }
   ],
   "source": [
    "# visualize confusion matrix with seaborn heatmap\n",
    "\n",
    "cm_matrix = pd.DataFrame(data=cm, index=['Actual Negative:0', 'Actual Positive:1'], \n",
    "                                 columns=['Predict Negative:0', 'Predict Positive:1'])\n",
    "\n",
    "sns.heatmap(cm_matrix, annot=True, fmt='d', cmap='Blues')"
   ]
  },
  {
   "cell_type": "code",
   "execution_count": 88,
   "id": "da448d2a",
   "metadata": {},
   "outputs": [
    {
     "name": "stdout",
     "output_type": "stream",
     "text": [
      "              precision    recall  f1-score   support\n",
      "\n",
      "           0       0.87      0.95      0.91     37463\n",
      "           1       0.72      0.48      0.58     10539\n",
      "\n",
      "    accuracy                           0.85     48002\n",
      "   macro avg       0.80      0.72      0.74     48002\n",
      "weighted avg       0.84      0.85      0.83     48002\n",
      "\n"
     ]
    }
   ],
   "source": [
    "# Printing the Classification Metrics\n",
    "\n",
    "print(classification_report(y_test, y_pred))"
   ]
  },
  {
   "cell_type": "code",
   "execution_count": 89,
   "id": "defa1a33",
   "metadata": {},
   "outputs": [
    {
     "name": "stdout",
     "output_type": "stream",
     "text": [
      "False Negative Rate : 0.13\n",
      "Youdens Index : 0.59\n",
      "Discriminant Power : 1.57\n",
      "Balanced Classification Rate : 0.80\n",
      "Geometric Mean : 0.79\n"
     ]
    }
   ],
   "source": [
    "# Additional Metrics\n",
    "FNR = FN / (FN + TP)\n",
    "print('False Negative Rate : {0:0.2f}'. format(FNR))\n",
    "\n",
    "\n",
    "TPR = TP / (TP + FN)\n",
    "TNR = TN / (TN + FP)\n",
    "\n",
    "YI = TPR + TNR - 1\n",
    "print('Youdens Index : {0:0.2f}'. format(YI))\n",
    "\n",
    "\n",
    "DP = ((3)**0.5 / 3.14) * (np.log(TPR/(1-TNR)) + np.log(TNR/(1-TPR)))\n",
    "print('Discriminant Power : {0:0.2f}'. format(DP))\n",
    "\n",
    "BCR = 0.5 * (TPR + TNR)\n",
    "print('Balanced Classification Rate : {0:0.2f}'. format(BCR))\n",
    "\n",
    "GM = (TPR * TNR)**0.5\n",
    "print('Geometric Mean : {0:0.2f}'. format(GM))"
   ]
  },
  {
   "cell_type": "markdown",
   "id": "eca7ef5b",
   "metadata": {},
   "source": [
    "# XGBoost Classifier"
   ]
  },
  {
   "cell_type": "code",
   "execution_count": 90,
   "id": "82e3dad0",
   "metadata": {},
   "outputs": [
    {
     "name": "stdout",
     "output_type": "stream",
     "text": [
      "Requirement already satisfied: xgboost in /Users/vinay/opt/anaconda3/lib/python3.9/site-packages (1.6.0)\n",
      "Requirement already satisfied: scipy in /Users/vinay/opt/anaconda3/lib/python3.9/site-packages (from xgboost) (1.7.1)\n",
      "Requirement already satisfied: numpy in /Users/vinay/opt/anaconda3/lib/python3.9/site-packages (from xgboost) (1.20.3)\n",
      "Note: you may need to restart the kernel to use updated packages.\n"
     ]
    }
   ],
   "source": [
    "pip install xgboost"
   ]
  },
  {
   "cell_type": "code",
   "execution_count": 91,
   "id": "23ba94e0",
   "metadata": {},
   "outputs": [],
   "source": [
    "from xgboost import XGBClassifier"
   ]
  },
  {
   "cell_type": "code",
   "execution_count": 92,
   "id": "6a6c4763",
   "metadata": {},
   "outputs": [
    {
     "data": {
      "text/plain": [
       "XGBClassifier(base_score=0.5, booster='gbtree', callbacks=None,\n",
       "              colsample_bylevel=1, colsample_bynode=1, colsample_bytree=1,\n",
       "              early_stopping_rounds=None, enable_categorical=False,\n",
       "              eval_metric=None, gamma=0, gpu_id=-1, grow_policy='depthwise',\n",
       "              importance_type=None, interaction_constraints='',\n",
       "              learning_rate=0.300000012, max_bin=256, max_cat_to_onehot=4,\n",
       "              max_delta_step=0, max_depth=6, max_leaves=0, min_child_weight=1,\n",
       "              missing=nan, monotone_constraints='()', n_estimators=100,\n",
       "              n_jobs=0, num_parallel_tree=1, predictor='auto', random_state=0,\n",
       "              reg_alpha=0, reg_lambda=1, ...)"
      ]
     },
     "execution_count": 92,
     "metadata": {},
     "output_type": "execute_result"
    }
   ],
   "source": [
    "xgb = XGBClassifier(n_estimators=100)\n",
    "xgb.fit(X_train, y_train)"
   ]
  },
  {
   "cell_type": "code",
   "execution_count": 93,
   "id": "fdac4638",
   "metadata": {},
   "outputs": [
    {
     "name": "stdout",
     "output_type": "stream",
     "text": [
      "Model accuracy score (Testing data): 0.8562\n",
      "Training set score: 0.8890\n"
     ]
    }
   ],
   "source": [
    "from sklearn.metrics import accuracy_score\n",
    "\n",
    "y_pred = xgb.predict(X_test)\n",
    "\n",
    "print('Model accuracy score (Testing data): {0:0.4f}'. format(accuracy_score(y_test, y_pred)))\n",
    "\n",
    "print('Training set score: {:.4f}'.format(xgb.score(X_train, y_train)))"
   ]
  },
  {
   "cell_type": "code",
   "execution_count": 94,
   "id": "0f8b7fb3",
   "metadata": {},
   "outputs": [
    {
     "name": "stdout",
     "output_type": "stream",
     "text": [
      "Confusion matrix\n",
      "\n",
      " [[35410  2053]\n",
      " [ 4848  5691]]\n",
      "\n",
      "True Positives(TP) =  35410\n",
      "\n",
      "True Negatives(TN) =  5691\n",
      "\n",
      "False Positives(FP) =  2053\n",
      "\n",
      "False Negatives(FN) =  4848\n"
     ]
    }
   ],
   "source": [
    "# Print the Confusion Matrix\n",
    "\n",
    "cm = confusion_matrix(y_test, y_pred)\n",
    "\n",
    "print('Confusion matrix\\n\\n', cm)\n",
    "\n",
    "print('\\nTrue Positives(TP) = ', cm[0,0])\n",
    "\n",
    "print('\\nTrue Negatives(TN) = ', cm[1,1])\n",
    "\n",
    "print('\\nFalse Positives(FP) = ', cm[0,1])\n",
    "\n",
    "print('\\nFalse Negatives(FN) = ', cm[1,0])\n",
    "\n",
    "TP = cm[0,0]\n",
    "TN = cm[1,1]\n",
    "FP = cm[0,1]\n",
    "FN = cm[1,0]"
   ]
  },
  {
   "cell_type": "code",
   "execution_count": 95,
   "id": "216a61d9",
   "metadata": {},
   "outputs": [
    {
     "data": {
      "text/plain": [
       "<AxesSubplot:>"
      ]
     },
     "execution_count": 95,
     "metadata": {},
     "output_type": "execute_result"
    },
    {
     "data": {
      "image/png": "[encoded data removed]",
      "text/plain": [
       "<Figure size 432x288 with 2 Axes>"
      ]
     },
     "metadata": {
      "needs_background": "light"
     },
     "output_type": "display_data"
    }
   ],
   "source": [
    "# visualize confusion matrix with seaborn heatmap\n",
    "\n",
    "cm_matrix = pd.DataFrame(data=cm, index=['Actual Negative:0', 'Actual Positive:1'], \n",
    "                                 columns=['Predict Negative:0', 'Predict Positive:1'])\n",
    "\n",
    "sns.heatmap(cm_matrix, annot=True, fmt='d', cmap='Blues')"
   ]
  },
  {
   "cell_type": "code",
   "execution_count": 96,
   "id": "c3158a9d",
   "metadata": {},
   "outputs": [
    {
     "name": "stdout",
     "output_type": "stream",
     "text": [
      "              precision    recall  f1-score   support\n",
      "\n",
      "           0       0.88      0.95      0.91     37463\n",
      "           1       0.73      0.54      0.62     10539\n",
      "\n",
      "    accuracy                           0.86     48002\n",
      "   macro avg       0.81      0.74      0.77     48002\n",
      "weighted avg       0.85      0.86      0.85     48002\n",
      "\n"
     ]
    }
   ],
   "source": [
    "# Printing the Classification Metrics\n",
    "\n",
    "print(classification_report(y_test, y_pred))"
   ]
  },
  {
   "cell_type": "code",
   "execution_count": 97,
   "id": "0ada9281",
   "metadata": {},
   "outputs": [
    {
     "name": "stdout",
     "output_type": "stream",
     "text": [
      "False Negative Rate : 0.12\n",
      "Youdens Index : 0.61\n",
      "Discriminant Power : 1.66\n",
      "Balanced Classification Rate : 0.81\n",
      "Geometric Mean : 0.80\n"
     ]
    }
   ],
   "source": [
    "# Additional Metrics\n",
    "FNR = FN / (FN + TP)\n",
    "print('False Negative Rate : {0:0.2f}'. format(FNR))\n",
    "\n",
    "\n",
    "TPR = TP / (TP + FN)\n",
    "TNR = TN / (TN + FP)\n",
    "\n",
    "YI = TPR + TNR - 1\n",
    "print('Youdens Index : {0:0.2f}'. format(YI))\n",
    "\n",
    "\n",
    "DP = ((3)**0.5 / 3.14) * (np.log(TPR/(1-TNR)) + np.log(TNR/(1-TPR)))\n",
    "print('Discriminant Power : {0:0.2f}'. format(DP))\n",
    "\n",
    "BCR = 0.5 * (TPR + TNR)\n",
    "print('Balanced Classification Rate : {0:0.2f}'. format(BCR))\n",
    "\n",
    "GM = (TPR * TNR)**0.5\n",
    "print('Geometric Mean : {0:0.2f}'. format(GM))"
   ]
  },
  {
   "cell_type": "code",
   "execution_count": 98,
   "id": "989ad110",
   "metadata": {},
   "outputs": [
    {
     "name": "stdout",
     "output_type": "stream",
     "text": [
      "Fitting 2 folds for each of 27 candidates, totalling 54 fits\n"
     ]
    },
    {
     "data": {
      "text/plain": [
       "GridSearchCV(cv=2,\n",
       "             estimator=XGBClassifier(base_score=0.5, booster='gbtree',\n",
       "                                     callbacks=None, colsample_bylevel=1,\n",
       "                                     colsample_bynode=1, colsample_bytree=1,\n",
       "                                     early_stopping_rounds=None,\n",
       "                                     enable_categorical=False, eval_metric=None,\n",
       "                                     gamma=0, gpu_id=-1,\n",
       "                                     grow_policy='depthwise',\n",
       "                                     importance_type=None,\n",
       "                                     interaction_constraints='',\n",
       "                                     learning_rate=0.300000012, max_bin=256,\n",
       "                                     max_cat_to_onehot=4, max_delta_step=0,\n",
       "                                     max_depth=6, max_leaves=0,\n",
       "                                     min_child_weight=1, missing=nan,\n",
       "                                     monotone_constraints='()',\n",
       "                                     n_estimators=100, n_jobs=0,\n",
       "                                     num_parallel_tree=1, predictor='auto',\n",
       "                                     random_state=0, reg_alpha=0, reg_lambda=1, ...),\n",
       "             n_jobs=-1,\n",
       "             param_grid={'gamma': [0.5, 1, 1.5], 'min_child_weight': [1, 5, 10],\n",
       "                         'subsample': [0.6, 0.8, 1.0]},\n",
       "             scoring='accuracy', verbose=2)"
      ]
     },
     "execution_count": 98,
     "metadata": {},
     "output_type": "execute_result"
    }
   ],
   "source": [
    "# Hyper Parameter Optimization using Grid Search CV\n",
    "\n",
    "from sklearn.model_selection import GridSearchCV\n",
    "parameters = {\n",
    "        'min_child_weight': [1, 5, 10],\n",
    "        'gamma': [0.5, 1, 1.5],\n",
    "        'subsample': [0.6, 0.8, 1.0],\n",
    "        }\n",
    "\n",
    "grid_search = GridSearchCV(estimator = xgb,  \n",
    "                           param_grid = parameters,\n",
    "                           scoring = 'accuracy',\n",
    "                           verbose=2,\n",
    "                           cv=2,\n",
    "                           n_jobs=-1)\n",
    "\n",
    "grid_search.fit(X_train, y_train)"
   ]
  },
  {
   "cell_type": "code",
   "execution_count": 99,
   "id": "7f81783f",
   "metadata": {},
   "outputs": [
    {
     "name": "stdout",
     "output_type": "stream",
     "text": [
      "Parameters that give the best results : \n",
      "\n",
      " {'gamma': 1.5, 'min_child_weight': 5, 'subsample': 1.0}\n",
      "\n",
      "\n",
      "Estimator that was chosen by the search : \n",
      "\n",
      " XGBClassifier(base_score=0.5, booster='gbtree', callbacks=None,\n",
      "              colsample_bylevel=1, colsample_bynode=1, colsample_bytree=1,\n",
      "              early_stopping_rounds=None, enable_categorical=False,\n",
      "              eval_metric=None, gamma=1.5, gpu_id=-1, grow_policy='depthwise',\n",
      "              importance_type=None, interaction_constraints='',\n",
      "              learning_rate=0.300000012, max_bin=256, max_cat_to_onehot=4,\n",
      "              max_delta_step=0, max_depth=6, max_leaves=0, min_child_weight=5,\n",
      "              missing=nan, monotone_constraints='()', n_estimators=100,\n",
      "              n_jobs=0, num_parallel_tree=1, predictor='auto', random_state=0,\n",
      "              reg_alpha=0, reg_lambda=1, ...)\n"
     ]
    }
   ],
   "source": [
    "# print parameters that give the best results\n",
    "print('Parameters that give the best results :','\\n\\n', (grid_search.best_params_))\n",
    "\n",
    "# print estimator that was chosen by the GridSearch\n",
    "print('\\n\\nEstimator that was chosen by the search :','\\n\\n', (grid_search.best_estimator_))"
   ]
  },
  {
   "cell_type": "code",
   "execution_count": 100,
   "id": "aa415512",
   "metadata": {},
   "outputs": [
    {
     "name": "stdout",
     "output_type": "stream",
     "text": [
      "GridSearch CV score on test set: 0.8560\n"
     ]
    }
   ],
   "source": [
    "# calculate GridSearch CV score on test set\n",
    "\n",
    "print('GridSearch CV score on test set: {0:0.4f}'.format(grid_search.score(X_test, y_test)))"
   ]
  },
  {
   "cell_type": "code",
   "execution_count": 101,
   "id": "a8065c92",
   "metadata": {},
   "outputs": [
    {
     "name": "stdout",
     "output_type": "stream",
     "text": [
      "Confusion matrix\n",
      "\n",
      " [[35454  2009]\n",
      " [ 4901  5638]]\n",
      "\n",
      "True Positives(TP) =  35454\n",
      "\n",
      "True Negatives(TN) =  5638\n",
      "\n",
      "False Positives(FP) =  2009\n",
      "\n",
      "False Negatives(FN) =  4901\n"
     ]
    }
   ],
   "source": [
    "# Choosing the model suggested by Grid Search CV and using it to predict the values\n",
    "\n",
    "model = grid_search.best_estimator_\n",
    "y_pred = model.predict(X_test)\n",
    "\n",
    "# Print the Confusion Matrix \n",
    "\n",
    "from sklearn.metrics import confusion_matrix\n",
    "\n",
    "cm = confusion_matrix(y_test, y_pred)\n",
    "\n",
    "print('Confusion matrix\\n\\n', cm)\n",
    "\n",
    "print('\\nTrue Positives(TP) = ', cm[0,0])\n",
    "\n",
    "print('\\nTrue Negatives(TN) = ', cm[1,1])\n",
    "\n",
    "print('\\nFalse Positives(FP) = ', cm[0,1])\n",
    "\n",
    "print('\\nFalse Negatives(FN) = ', cm[1,0])\n",
    "\n",
    "TP = cm[0,0]\n",
    "TN = cm[1,1]\n",
    "FP = cm[0,1]"
   ]
  },
  {
   "cell_type": "code",
   "execution_count": 102,
   "id": "7d3aa546",
   "metadata": {},
   "outputs": [
    {
     "data": {
      "text/plain": [
       "<AxesSubplot:>"
      ]
     },
     "execution_count": 102,
     "metadata": {},
     "output_type": "execute_result"
    },
    {
     "data": {
      "image/png": "[encoded data removed]",
      "text/plain": [
       "<Figure size 432x288 with 2 Axes>"
      ]
     },
     "metadata": {
      "needs_background": "light"
     },
     "output_type": "display_data"
    }
   ],
   "source": [
    "# visualize confusion matrix with seaborn heatmap\n",
    "\n",
    "cm_matrix = pd.DataFrame(data=cm, index=['Actual Negative:0', 'Actual Positive:1'], \n",
    "                                 columns=['Predict Negative:0', 'Predict Positive:1'])\n",
    "\n",
    "sns.heatmap(cm_matrix, annot=True, fmt='d', cmap='Blues')"
   ]
  },
  {
   "cell_type": "code",
   "execution_count": 103,
   "id": "7a6a5009",
   "metadata": {},
   "outputs": [
    {
     "name": "stdout",
     "output_type": "stream",
     "text": [
      "              precision    recall  f1-score   support\n",
      "\n",
      "           0       0.88      0.95      0.91     37463\n",
      "           1       0.74      0.53      0.62     10539\n",
      "\n",
      "    accuracy                           0.86     48002\n",
      "   macro avg       0.81      0.74      0.77     48002\n",
      "weighted avg       0.85      0.86      0.85     48002\n",
      "\n"
     ]
    }
   ],
   "source": [
    "# Printing the Classification Metrics (after model selection by Grid Search CV)\n",
    "\n",
    "print(classification_report(y_test, y_pred))"
   ]
  },
  {
   "cell_type": "code",
   "execution_count": 104,
   "id": "baa6855b",
   "metadata": {},
   "outputs": [
    {
     "name": "stdout",
     "output_type": "stream",
     "text": [
      "False Negative Rate : 0.12\n",
      "Youdens Index : 0.62\n",
      "Discriminant Power : 1.67\n",
      "Balanced Classification Rate : 0.81\n",
      "Geometric Mean : 0.81\n",
      "[CV] END .......gamma=0.5, min_child_weight=5, subsample=0.6; total time=  42.5s\n",
      "[CV] END ......gamma=0.5, min_child_weight=10, subsample=0.6; total time=  43.7s\n",
      "[CV] END .........gamma=1, min_child_weight=1, subsample=1.0; total time=  39.1s\n",
      "[CV] END ........gamma=1, min_child_weight=10, subsample=0.6; total time=  40.4s\n",
      "[CV] END .......gamma=1.5, min_child_weight=1, subsample=0.8; total time=  38.6s\n",
      "[CV] END .......gamma=1.5, min_child_weight=5, subsample=1.0; total time=  44.2s\n",
      "[CV] END .......gamma=0.5, min_child_weight=1, subsample=1.0; total time=  39.7s\n",
      "[CV] END .......gamma=0.5, min_child_weight=5, subsample=0.8; total time=  40.5s\n",
      "[CV] END .........gamma=1, min_child_weight=1, subsample=0.6; total time=  44.1s\n",
      "[CV] END .........gamma=1, min_child_weight=5, subsample=0.8; total time=  38.9s\n",
      "[CV] END .......gamma=1.5, min_child_weight=1, subsample=0.6; total time=  40.3s\n",
      "[CV] END .......gamma=1.5, min_child_weight=5, subsample=0.8; total time=  45.4s\n",
      "[CV] END .......gamma=0.5, min_child_weight=5, subsample=0.6; total time=  42.9s\n",
      "[CV] END ......gamma=0.5, min_child_weight=10, subsample=0.8; total time=  41.5s\n",
      "[CV] END .........gamma=1, min_child_weight=1, subsample=0.8; total time=  40.5s\n",
      "[CV] END .........gamma=1, min_child_weight=5, subsample=1.0; total time=  37.6s\n",
      "[CV] END ........gamma=1, min_child_weight=10, subsample=1.0; total time=  36.8s\n",
      "[CV] END .......gamma=1.5, min_child_weight=1, subsample=1.0; total time=  43.7s\n",
      "[CV] END ......gamma=1.5, min_child_weight=10, subsample=0.6; total time=  35.8s\n",
      "[CV] END .......gamma=0.5, min_child_weight=1, subsample=0.6; total time=  42.7s\n",
      "[CV] END ......gamma=0.5, min_child_weight=10, subsample=0.6; total time=  43.3s\n",
      "[CV] END .........gamma=1, min_child_weight=1, subsample=1.0; total time=  38.7s\n",
      "[CV] END .........gamma=1, min_child_weight=5, subsample=1.0; total time=  37.5s\n",
      "[CV] END ........gamma=1, min_child_weight=10, subsample=1.0; total time=  37.2s\n",
      "[CV] END .......gamma=1.5, min_child_weight=1, subsample=1.0; total time=  44.0s\n",
      "[CV] END ......gamma=1.5, min_child_weight=10, subsample=0.6; total time=  35.5s\n",
      "[CV] END .......gamma=0.5, min_child_weight=1, subsample=0.8; total time=  41.4s\n",
      "[CV] END .......gamma=0.5, min_child_weight=5, subsample=1.0; total time=  38.7s\n",
      "[CV] END .........gamma=1, min_child_weight=1, subsample=0.6; total time=  43.6s\n",
      "[CV] END .........gamma=1, min_child_weight=5, subsample=0.8; total time=  39.3s\n",
      "[CV] END .......gamma=1.5, min_child_weight=1, subsample=0.6; total time=  40.3s\n",
      "[CV] END .......gamma=1.5, min_child_weight=5, subsample=0.8; total time=  44.5s\n",
      "[CV] END ......gamma=1.5, min_child_weight=10, subsample=1.0; total time=  31.9s\n",
      "[CV] END .......gamma=0.5, min_child_weight=1, subsample=0.6; total time=  42.9s\n",
      "[CV] END ......gamma=0.5, min_child_weight=10, subsample=0.8; total time=  41.5s\n",
      "[CV] END .........gamma=1, min_child_weight=1, subsample=0.8; total time=  40.5s\n",
      "[CV] END ........gamma=1, min_child_weight=10, subsample=0.6; total time=  40.9s\n",
      "[CV] END .......gamma=1.5, min_child_weight=1, subsample=0.8; total time=  38.7s\n",
      "[CV] END .......gamma=1.5, min_child_weight=5, subsample=1.0; total time=  43.1s\n",
      "[CV] END ......gamma=1.5, min_child_weight=10, subsample=1.0; total time=  31.9s\n",
      "[CV] END .......gamma=0.5, min_child_weight=1, subsample=1.0; total time=  39.4s\n",
      "[CV] END .......gamma=0.5, min_child_weight=5, subsample=0.8; total time=  40.7s\n",
      "[CV] END ......gamma=0.5, min_child_weight=10, subsample=1.0; total time=  40.6s\n",
      "[CV] END .........gamma=1, min_child_weight=5, subsample=0.6; total time=  40.6s\n",
      "[CV] END ........gamma=1, min_child_weight=10, subsample=0.8; total time=  38.5s\n",
      "[CV] END .......gamma=1.5, min_child_weight=5, subsample=0.6; total time=  46.5s\n",
      "[CV] END ......gamma=1.5, min_child_weight=10, subsample=0.8; total time=  33.6s\n",
      "[CV] END .......gamma=0.5, min_child_weight=1, subsample=0.8; total time=  41.4s\n",
      "[CV] END .......gamma=0.5, min_child_weight=5, subsample=1.0; total time=  38.3s\n",
      "[CV] END ......gamma=0.5, min_child_weight=10, subsample=1.0; total time=  42.1s\n",
      "[CV] END .........gamma=1, min_child_weight=5, subsample=0.6; total time=  39.9s\n",
      "[CV] END ........gamma=1, min_child_weight=10, subsample=0.8; total time=  38.6s\n",
      "[CV] END .......gamma=1.5, min_child_weight=5, subsample=0.6; total time=  47.2s\n",
      "[CV] END ......gamma=1.5, min_child_weight=10, subsample=0.8; total time=  33.2s\n"
     ]
    }
   ],
   "source": [
    "# Additional Metrics (after model selection by Grid Search CV)\n",
    "FNR = FN / (FN + TP)\n",
    "print('False Negative Rate : {0:0.2f}'. format(FNR))\n",
    "\n",
    "\n",
    "TPR = TP / (TP + FN)\n",
    "TNR = TN / (TN + FP)\n",
    "\n",
    "YI = TPR + TNR - 1\n",
    "print('Youdens Index : {0:0.2f}'. format(YI))\n",
    "\n",
    "\n",
    "DP = ((3)**0.5 / 3.14) * (np.log(TPR/(1-TNR)) + np.log(TNR/(1-TPR)))\n",
    "print('Discriminant Power : {0:0.2f}'. format(DP))\n",
    "\n",
    "BCR = 0.5 * (TPR + TNR)\n",
    "print('Balanced Classification Rate : {0:0.2f}'. format(BCR))\n",
    "\n",
    "GM = (TPR * TNR)**0.5\n",
    "print('Geometric Mean : {0:0.2f}'. format(GM))"
   ]
  }
 ],
 "metadata": {
  "kernelspec": {
   "display_name": "Python 3 (ipykernel)",
   "language": "python",
   "name": "python3"
  },
  "language_info": {
   "codemirror_mode": {
    "name": "ipython",
    "version": 3
   },
   "file_extension": ".py",
   "mimetype": "text/x-python",
   "name": "python",
   "nbconvert_exporter": "python",
   "pygments_lexer": "ipython3",
   "version": "3.9.7"
  }
 },
 "nbformat": 4,
 "nbformat_minor": 5
}
